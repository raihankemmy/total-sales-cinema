{
 "cells": [
  {
   "cell_type": "markdown",
   "metadata": {},
   "source": [
    "## Import Package and Data"
   ]
  },
  {
   "cell_type": "code",
   "execution_count": 99,
   "metadata": {},
   "outputs": [],
   "source": [
    "import numpy as np\n",
    "import pandas as pd\n",
    "\n",
    "import matplotlib.pyplot as plt\n",
    "import seaborn as sns\n",
    "import scipy.stats as stats\n",
    "\n",
    "from sklearn.model_selection import train_test_split\n",
    "from sklearn.pipeline import Pipeline\n",
    "from sklearn.compose import ColumnTransformer\n",
    "\n",
    "from jcopml.pipeline import num_pipe, cat_pipe\n",
    "from jcopml.utils import save_model, load_model\n",
    "from jcopml.plot import plot_missing_value\n",
    "from jcopml.feature_importance import mean_score_decrease\n",
    "from jcopml.time_series.decomposition import additive_decomposition, multiplicative_decomposition\n",
    "\n",
    "from sklearn.ensemble import RandomForestRegressor\n",
    "from sklearn.metrics import mean_squared_error, mean_absolute_error, r2_score\n",
    "from xgboost import XGBRegressor\n",
    "from calendar import day_name\n",
    "import warnings\n",
    "from sklearn.preprocessing import StandardScaler\n",
    "from sklearn.linear_model import LinearRegression\n",
    "from sklearn.model_selection import cross_val_score\n",
    "warnings.filterwarnings(\"ignore\") "
   ]
  },
  {
   "cell_type": "code",
   "execution_count": 100,
   "metadata": {},
   "outputs": [
    {
     "data": {
      "text/html": [
       "<div>\n",
       "<style scoped>\n",
       "    .dataframe tbody tr th:only-of-type {\n",
       "        vertical-align: middle;\n",
       "    }\n",
       "\n",
       "    .dataframe tbody tr th {\n",
       "        vertical-align: top;\n",
       "    }\n",
       "\n",
       "    .dataframe thead th {\n",
       "        text-align: right;\n",
       "    }\n",
       "</style>\n",
       "<table border=\"1\" class=\"dataframe\">\n",
       "  <thead>\n",
       "    <tr style=\"text-align: right;\">\n",
       "      <th></th>\n",
       "      <th>film_code</th>\n",
       "      <th>cinema_code</th>\n",
       "      <th>total_sales</th>\n",
       "      <th>tickets_sold</th>\n",
       "      <th>tickets_out</th>\n",
       "      <th>show_time</th>\n",
       "      <th>occu_perc</th>\n",
       "      <th>ticket_price</th>\n",
       "      <th>ticket_use</th>\n",
       "      <th>capacity</th>\n",
       "      <th>date</th>\n",
       "      <th>month</th>\n",
       "      <th>quarter</th>\n",
       "      <th>day</th>\n",
       "    </tr>\n",
       "  </thead>\n",
       "  <tbody>\n",
       "    <tr>\n",
       "      <th>0</th>\n",
       "      <td>1492</td>\n",
       "      <td>304</td>\n",
       "      <td>3900000</td>\n",
       "      <td>26</td>\n",
       "      <td>0</td>\n",
       "      <td>4</td>\n",
       "      <td>4.26</td>\n",
       "      <td>150000.0</td>\n",
       "      <td>26</td>\n",
       "      <td>610.328638</td>\n",
       "      <td>2018-05-05</td>\n",
       "      <td>5</td>\n",
       "      <td>2</td>\n",
       "      <td>5</td>\n",
       "    </tr>\n",
       "    <tr>\n",
       "      <th>1</th>\n",
       "      <td>1492</td>\n",
       "      <td>352</td>\n",
       "      <td>3360000</td>\n",
       "      <td>42</td>\n",
       "      <td>0</td>\n",
       "      <td>5</td>\n",
       "      <td>8.08</td>\n",
       "      <td>80000.0</td>\n",
       "      <td>42</td>\n",
       "      <td>519.801980</td>\n",
       "      <td>2018-05-05</td>\n",
       "      <td>5</td>\n",
       "      <td>2</td>\n",
       "      <td>5</td>\n",
       "    </tr>\n",
       "    <tr>\n",
       "      <th>2</th>\n",
       "      <td>1492</td>\n",
       "      <td>489</td>\n",
       "      <td>2560000</td>\n",
       "      <td>32</td>\n",
       "      <td>0</td>\n",
       "      <td>4</td>\n",
       "      <td>20.00</td>\n",
       "      <td>80000.0</td>\n",
       "      <td>32</td>\n",
       "      <td>160.000000</td>\n",
       "      <td>2018-05-05</td>\n",
       "      <td>5</td>\n",
       "      <td>2</td>\n",
       "      <td>5</td>\n",
       "    </tr>\n",
       "    <tr>\n",
       "      <th>3</th>\n",
       "      <td>1492</td>\n",
       "      <td>429</td>\n",
       "      <td>1200000</td>\n",
       "      <td>12</td>\n",
       "      <td>0</td>\n",
       "      <td>1</td>\n",
       "      <td>11.01</td>\n",
       "      <td>100000.0</td>\n",
       "      <td>12</td>\n",
       "      <td>108.991826</td>\n",
       "      <td>2018-05-05</td>\n",
       "      <td>5</td>\n",
       "      <td>2</td>\n",
       "      <td>5</td>\n",
       "    </tr>\n",
       "    <tr>\n",
       "      <th>4</th>\n",
       "      <td>1492</td>\n",
       "      <td>524</td>\n",
       "      <td>1200000</td>\n",
       "      <td>15</td>\n",
       "      <td>0</td>\n",
       "      <td>3</td>\n",
       "      <td>16.67</td>\n",
       "      <td>80000.0</td>\n",
       "      <td>15</td>\n",
       "      <td>89.982004</td>\n",
       "      <td>2018-05-05</td>\n",
       "      <td>5</td>\n",
       "      <td>2</td>\n",
       "      <td>5</td>\n",
       "    </tr>\n",
       "  </tbody>\n",
       "</table>\n",
       "</div>"
      ],
      "text/plain": [
       "   film_code  cinema_code  total_sales  tickets_sold  tickets_out  show_time  \\\n",
       "0       1492          304      3900000            26            0          4   \n",
       "1       1492          352      3360000            42            0          5   \n",
       "2       1492          489      2560000            32            0          4   \n",
       "3       1492          429      1200000            12            0          1   \n",
       "4       1492          524      1200000            15            0          3   \n",
       "\n",
       "   occu_perc  ticket_price  ticket_use    capacity       date  month  quarter  \\\n",
       "0       4.26      150000.0          26  610.328638 2018-05-05      5        2   \n",
       "1       8.08       80000.0          42  519.801980 2018-05-05      5        2   \n",
       "2      20.00       80000.0          32  160.000000 2018-05-05      5        2   \n",
       "3      11.01      100000.0          12  108.991826 2018-05-05      5        2   \n",
       "4      16.67       80000.0          15   89.982004 2018-05-05      5        2   \n",
       "\n",
       "   day  \n",
       "0    5  \n",
       "1    5  \n",
       "2    5  \n",
       "3    5  \n",
       "4    5  "
      ]
     },
     "execution_count": 100,
     "metadata": {},
     "output_type": "execute_result"
    }
   ],
   "source": [
    "df = pd.read_csv(\"data.csv\")\n",
    "df['date'] = pd.to_datetime(df['date'])\n",
    "df.head()"
   ]
  },
  {
   "cell_type": "markdown",
   "metadata": {},
   "source": [
    "## Data Cleaning"
   ]
  },
  {
   "cell_type": "code",
   "execution_count": 101,
   "metadata": {},
   "outputs": [
    {
     "name": "stdout",
     "output_type": "stream",
     "text": [
      "Data memiliki 142524 baris dan 14 kolom\n"
     ]
    }
   ],
   "source": [
    "print(\"Data memiliki\", df.shape[0], \"baris dan\", df.shape[1], \"kolom\")"
   ]
  },
  {
   "cell_type": "code",
   "execution_count": 102,
   "metadata": {},
   "outputs": [
    {
     "name": "stdout",
     "output_type": "stream",
     "text": [
      "Missing Value\n",
      "occu_perc    125\n",
      "capacity     125\n",
      "dtype: int64\n",
      "\n",
      "Duplicate Data 106 Row\n"
     ]
    }
   ],
   "source": [
    "missing_value = df[df.columns[(df.isna().sum() > 0)]]\n",
    "duplicate_data = df.duplicated().sum()\n",
    "print(\"Missing Value\")\n",
    "print(missing_value.isnull().sum())\n",
    "print(\"\\nDuplicate Data\", duplicate_data, \"Row\")"
   ]
  },
  {
   "cell_type": "code",
   "execution_count": 103,
   "metadata": {},
   "outputs": [
    {
     "data": {
      "text/html": [
       "<style type=\"text/css\">\n",
       "#T_1853c_row0_col0, #T_1853c_row1_col0, #T_1853c_row2_col0, #T_1853c_row3_col0, #T_1853c_row4_col0, #T_1853c_row5_col0, #T_1853c_row7_col0, #T_1853c_row8_col0, #T_1853c_row10_col0, #T_1853c_row11_col0, #T_1853c_row12_col0, #T_1853c_row13_col0 {\n",
       "  background-color: #ffff66;\n",
       "  color: #000000;\n",
       "}\n",
       "#T_1853c_row6_col0, #T_1853c_row9_col0 {\n",
       "  background-color: #008066;\n",
       "  color: #f1f1f1;\n",
       "}\n",
       "</style>\n",
       "<table id=\"T_1853c_\">\n",
       "  <thead>\n",
       "    <tr>\n",
       "      <th class=\"blank level0\" >&nbsp;</th>\n",
       "      <th class=\"col_heading level0 col0\" >Null (%)</th>\n",
       "    </tr>\n",
       "  </thead>\n",
       "  <tbody>\n",
       "    <tr>\n",
       "      <th id=\"T_1853c_level0_row0\" class=\"row_heading level0 row0\" >film_code</th>\n",
       "      <td id=\"T_1853c_row0_col0\" class=\"data row0 col0\" >0.000000</td>\n",
       "    </tr>\n",
       "    <tr>\n",
       "      <th id=\"T_1853c_level0_row1\" class=\"row_heading level0 row1\" >cinema_code</th>\n",
       "      <td id=\"T_1853c_row1_col0\" class=\"data row1 col0\" >0.000000</td>\n",
       "    </tr>\n",
       "    <tr>\n",
       "      <th id=\"T_1853c_level0_row2\" class=\"row_heading level0 row2\" >total_sales</th>\n",
       "      <td id=\"T_1853c_row2_col0\" class=\"data row2 col0\" >0.000000</td>\n",
       "    </tr>\n",
       "    <tr>\n",
       "      <th id=\"T_1853c_level0_row3\" class=\"row_heading level0 row3\" >tickets_sold</th>\n",
       "      <td id=\"T_1853c_row3_col0\" class=\"data row3 col0\" >0.000000</td>\n",
       "    </tr>\n",
       "    <tr>\n",
       "      <th id=\"T_1853c_level0_row4\" class=\"row_heading level0 row4\" >tickets_out</th>\n",
       "      <td id=\"T_1853c_row4_col0\" class=\"data row4 col0\" >0.000000</td>\n",
       "    </tr>\n",
       "    <tr>\n",
       "      <th id=\"T_1853c_level0_row5\" class=\"row_heading level0 row5\" >show_time</th>\n",
       "      <td id=\"T_1853c_row5_col0\" class=\"data row5 col0\" >0.000000</td>\n",
       "    </tr>\n",
       "    <tr>\n",
       "      <th id=\"T_1853c_level0_row6\" class=\"row_heading level0 row6\" >occu_perc</th>\n",
       "      <td id=\"T_1853c_row6_col0\" class=\"data row6 col0\" >0.087705</td>\n",
       "    </tr>\n",
       "    <tr>\n",
       "      <th id=\"T_1853c_level0_row7\" class=\"row_heading level0 row7\" >ticket_price</th>\n",
       "      <td id=\"T_1853c_row7_col0\" class=\"data row7 col0\" >0.000000</td>\n",
       "    </tr>\n",
       "    <tr>\n",
       "      <th id=\"T_1853c_level0_row8\" class=\"row_heading level0 row8\" >ticket_use</th>\n",
       "      <td id=\"T_1853c_row8_col0\" class=\"data row8 col0\" >0.000000</td>\n",
       "    </tr>\n",
       "    <tr>\n",
       "      <th id=\"T_1853c_level0_row9\" class=\"row_heading level0 row9\" >capacity</th>\n",
       "      <td id=\"T_1853c_row9_col0\" class=\"data row9 col0\" >0.087705</td>\n",
       "    </tr>\n",
       "    <tr>\n",
       "      <th id=\"T_1853c_level0_row10\" class=\"row_heading level0 row10\" >date</th>\n",
       "      <td id=\"T_1853c_row10_col0\" class=\"data row10 col0\" >0.000000</td>\n",
       "    </tr>\n",
       "    <tr>\n",
       "      <th id=\"T_1853c_level0_row11\" class=\"row_heading level0 row11\" >month</th>\n",
       "      <td id=\"T_1853c_row11_col0\" class=\"data row11 col0\" >0.000000</td>\n",
       "    </tr>\n",
       "    <tr>\n",
       "      <th id=\"T_1853c_level0_row12\" class=\"row_heading level0 row12\" >quarter</th>\n",
       "      <td id=\"T_1853c_row12_col0\" class=\"data row12 col0\" >0.000000</td>\n",
       "    </tr>\n",
       "    <tr>\n",
       "      <th id=\"T_1853c_level0_row13\" class=\"row_heading level0 row13\" >day</th>\n",
       "      <td id=\"T_1853c_row13_col0\" class=\"data row13 col0\" >0.000000</td>\n",
       "    </tr>\n",
       "  </tbody>\n",
       "</table>\n"
      ],
      "text/plain": [
       "<pandas.io.formats.style.Styler at 0x196b4e45870>"
      ]
     },
     "execution_count": 103,
     "metadata": {},
     "output_type": "execute_result"
    }
   ],
   "source": [
    "pd.DataFrame(data = [df.isna().sum()/df.shape[0]*100],\n",
    "             index=[\"Null (%)\"]).T.style.background_gradient(cmap='summer_r')"
   ]
  },
  {
   "cell_type": "markdown",
   "metadata": {},
   "source": [
    "### Membuat Data yang duplikat dan missing value"
   ]
  },
  {
   "cell_type": "code",
   "execution_count": 104,
   "metadata": {},
   "outputs": [],
   "source": [
    "df.dropna(inplace=True)\n",
    "df.drop_duplicates(inplace=True, keep='first')"
   ]
  },
  {
   "cell_type": "code",
   "execution_count": 105,
   "metadata": {},
   "outputs": [
    {
     "name": "stdout",
     "output_type": "stream",
     "text": [
      "Missing Value\n",
      "Series([], dtype: float64)\n",
      "\n",
      "Duplicate Data 0 Row\n"
     ]
    }
   ],
   "source": [
    "missing_value = df[df.columns[(df.isna().sum() > 0)]]\n",
    "duplicate_data = df.duplicated().sum()\n",
    "print(\"Missing Value\")\n",
    "print(missing_value.isnull().sum())\n",
    "print(\"\\nDuplicate Data\", duplicate_data, \"Row\")"
   ]
  },
  {
   "cell_type": "markdown",
   "metadata": {},
   "source": [
    "# Exploratory Data Analysis"
   ]
  },
  {
   "cell_type": "markdown",
   "metadata": {},
   "source": [
    "### Melihat Kolom Film Code"
   ]
  },
  {
   "cell_type": "code",
   "execution_count": 106,
   "metadata": {},
   "outputs": [
    {
     "name": "stdout",
     "output_type": "stream",
     "text": [
      "48 Jenis Film\n",
      "\n",
      "1554    11613\n",
      "1493    10490\n",
      "1481     9525\n",
      "1484     8519\n",
      "1482     7394\n",
      "1556     6979\n",
      "1483     6970\n",
      "1485     6073\n",
      "1494     6022\n",
      "1498     5544\n",
      "1499     5187\n",
      "1576     4431\n",
      "1497     3911\n",
      "1559     3649\n",
      "1572     3581\n",
      "1558     3548\n",
      "1511     3250\n",
      "1495     2958\n",
      "1553     2850\n",
      "1573     2444\n",
      "1552     2444\n",
      "1486     2294\n",
      "1551     2268\n",
      "1562     2144\n",
      "1578     1847\n",
      "1575     1589\n",
      "1496     1443\n",
      "1480     1386\n",
      "1563     1301\n",
      "1492     1086\n",
      "1564     1044\n",
      "1569      987\n",
      "1560      931\n",
      "1550      678\n",
      "1568      663\n",
      "1500      633\n",
      "1502      601\n",
      "1512      565\n",
      "1566      558\n",
      "1571      552\n",
      "1471      466\n",
      "1557      418\n",
      "1587      414\n",
      "1570      341\n",
      "1565      313\n",
      "1567      285\n",
      "1589       67\n",
      "1584       39\n",
      "Name: film_code, dtype: int64\n"
     ]
    }
   ],
   "source": [
    "print(len(df['film_code'].value_counts()), \"Jenis Film\\n\")\n",
    "print(df['film_code'].value_counts())"
   ]
  },
  {
   "cell_type": "markdown",
   "metadata": {},
   "source": [
    "### Melihat Kolom Cinema Code"
   ]
  },
  {
   "cell_type": "code",
   "execution_count": 107,
   "metadata": {},
   "outputs": [
    {
     "name": "stdout",
     "output_type": "stream",
     "text": [
      "244 Jenis Cinema\n",
      "\n",
      "524    2473\n",
      "489    2406\n",
      "448    2344\n",
      "163    2240\n",
      "518    2192\n",
      "       ... \n",
      "376      22\n",
      "520      12\n",
      "565      10\n",
      "566       2\n",
      "424       1\n",
      "Name: cinema_code, Length: 244, dtype: int64\n"
     ]
    }
   ],
   "source": [
    "print(len(df['cinema_code'].value_counts()), \"Jenis Cinema\\n\")\n",
    "print(df['cinema_code'].value_counts())"
   ]
  },
  {
   "cell_type": "markdown",
   "metadata": {},
   "source": [
    "### Membuat Kolom Film ID"
   ]
  },
  {
   "cell_type": "code",
   "execution_count": 108,
   "metadata": {},
   "outputs": [
    {
     "data": {
      "text/html": [
       "<div>\n",
       "<style scoped>\n",
       "    .dataframe tbody tr th:only-of-type {\n",
       "        vertical-align: middle;\n",
       "    }\n",
       "\n",
       "    .dataframe tbody tr th {\n",
       "        vertical-align: top;\n",
       "    }\n",
       "\n",
       "    .dataframe thead th {\n",
       "        text-align: right;\n",
       "    }\n",
       "</style>\n",
       "<table border=\"1\" class=\"dataframe\">\n",
       "  <thead>\n",
       "    <tr style=\"text-align: right;\">\n",
       "      <th></th>\n",
       "      <th>film_id</th>\n",
       "      <th>film_code</th>\n",
       "      <th>cinema_code</th>\n",
       "      <th>total_sales</th>\n",
       "      <th>tickets_sold</th>\n",
       "      <th>tickets_out</th>\n",
       "      <th>show_time</th>\n",
       "      <th>occu_perc</th>\n",
       "      <th>ticket_price</th>\n",
       "      <th>ticket_use</th>\n",
       "      <th>capacity</th>\n",
       "      <th>date</th>\n",
       "      <th>month</th>\n",
       "      <th>quarter</th>\n",
       "      <th>day</th>\n",
       "    </tr>\n",
       "  </thead>\n",
       "  <tbody>\n",
       "    <tr>\n",
       "      <th>0</th>\n",
       "      <td>1492_304_2018-05-05 00:00:00</td>\n",
       "      <td>1492</td>\n",
       "      <td>304</td>\n",
       "      <td>3900000</td>\n",
       "      <td>26</td>\n",
       "      <td>0</td>\n",
       "      <td>4</td>\n",
       "      <td>4.26</td>\n",
       "      <td>150000.0</td>\n",
       "      <td>26</td>\n",
       "      <td>610.328638</td>\n",
       "      <td>2018-05-05</td>\n",
       "      <td>5</td>\n",
       "      <td>2</td>\n",
       "      <td>5</td>\n",
       "    </tr>\n",
       "    <tr>\n",
       "      <th>1</th>\n",
       "      <td>1492_352_2018-05-05 00:00:00</td>\n",
       "      <td>1492</td>\n",
       "      <td>352</td>\n",
       "      <td>3360000</td>\n",
       "      <td>42</td>\n",
       "      <td>0</td>\n",
       "      <td>5</td>\n",
       "      <td>8.08</td>\n",
       "      <td>80000.0</td>\n",
       "      <td>42</td>\n",
       "      <td>519.801980</td>\n",
       "      <td>2018-05-05</td>\n",
       "      <td>5</td>\n",
       "      <td>2</td>\n",
       "      <td>5</td>\n",
       "    </tr>\n",
       "    <tr>\n",
       "      <th>2</th>\n",
       "      <td>1492_489_2018-05-05 00:00:00</td>\n",
       "      <td>1492</td>\n",
       "      <td>489</td>\n",
       "      <td>2560000</td>\n",
       "      <td>32</td>\n",
       "      <td>0</td>\n",
       "      <td>4</td>\n",
       "      <td>20.00</td>\n",
       "      <td>80000.0</td>\n",
       "      <td>32</td>\n",
       "      <td>160.000000</td>\n",
       "      <td>2018-05-05</td>\n",
       "      <td>5</td>\n",
       "      <td>2</td>\n",
       "      <td>5</td>\n",
       "    </tr>\n",
       "    <tr>\n",
       "      <th>3</th>\n",
       "      <td>1492_429_2018-05-05 00:00:00</td>\n",
       "      <td>1492</td>\n",
       "      <td>429</td>\n",
       "      <td>1200000</td>\n",
       "      <td>12</td>\n",
       "      <td>0</td>\n",
       "      <td>1</td>\n",
       "      <td>11.01</td>\n",
       "      <td>100000.0</td>\n",
       "      <td>12</td>\n",
       "      <td>108.991826</td>\n",
       "      <td>2018-05-05</td>\n",
       "      <td>5</td>\n",
       "      <td>2</td>\n",
       "      <td>5</td>\n",
       "    </tr>\n",
       "    <tr>\n",
       "      <th>4</th>\n",
       "      <td>1492_524_2018-05-05 00:00:00</td>\n",
       "      <td>1492</td>\n",
       "      <td>524</td>\n",
       "      <td>1200000</td>\n",
       "      <td>15</td>\n",
       "      <td>0</td>\n",
       "      <td>3</td>\n",
       "      <td>16.67</td>\n",
       "      <td>80000.0</td>\n",
       "      <td>15</td>\n",
       "      <td>89.982004</td>\n",
       "      <td>2018-05-05</td>\n",
       "      <td>5</td>\n",
       "      <td>2</td>\n",
       "      <td>5</td>\n",
       "    </tr>\n",
       "  </tbody>\n",
       "</table>\n",
       "</div>"
      ],
      "text/plain": [
       "                        film_id  film_code  cinema_code  total_sales  \\\n",
       "0  1492_304_2018-05-05 00:00:00       1492          304      3900000   \n",
       "1  1492_352_2018-05-05 00:00:00       1492          352      3360000   \n",
       "2  1492_489_2018-05-05 00:00:00       1492          489      2560000   \n",
       "3  1492_429_2018-05-05 00:00:00       1492          429      1200000   \n",
       "4  1492_524_2018-05-05 00:00:00       1492          524      1200000   \n",
       "\n",
       "   tickets_sold  tickets_out  show_time  occu_perc  ticket_price  ticket_use  \\\n",
       "0            26            0          4       4.26      150000.0          26   \n",
       "1            42            0          5       8.08       80000.0          42   \n",
       "2            32            0          4      20.00       80000.0          32   \n",
       "3            12            0          1      11.01      100000.0          12   \n",
       "4            15            0          3      16.67       80000.0          15   \n",
       "\n",
       "     capacity       date  month  quarter  day  \n",
       "0  610.328638 2018-05-05      5        2    5  \n",
       "1  519.801980 2018-05-05      5        2    5  \n",
       "2  160.000000 2018-05-05      5        2    5  \n",
       "3  108.991826 2018-05-05      5        2    5  \n",
       "4   89.982004 2018-05-05      5        2    5  "
      ]
     },
     "execution_count": 108,
     "metadata": {},
     "output_type": "execute_result"
    }
   ],
   "source": [
    "df['film_id'] = df[['film_code','cinema_code','date']].apply(lambda row:'_'.join(row.values.astype(str)), axis=1)\n",
    "df = df[['film_id'] + [a for a in df.columns if a != 'film_id']]\n",
    "\n",
    "df.head()"
   ]
  },
  {
   "cell_type": "markdown",
   "metadata": {},
   "source": [
    "Kolom Film ID merupakan gabungan dari Kolom Film Code, Cinema Code, dan Date untuk melihat apakah terdapat data yang duplikat"
   ]
  },
  {
   "cell_type": "markdown",
   "metadata": {},
   "source": [
    "### Melihat Duplicate Data"
   ]
  },
  {
   "cell_type": "code",
   "execution_count": 109,
   "metadata": {},
   "outputs": [
    {
     "name": "stdout",
     "output_type": "stream",
     "text": [
      "Duplicate Data Film ID\t 0\n"
     ]
    }
   ],
   "source": [
    "print(\"Duplicate Data Film ID\\t\", df['film_id'].duplicated().sum())"
   ]
  },
  {
   "cell_type": "markdown",
   "metadata": {},
   "source": [
    "Pada Kolom Film ID, tidak terdapat duplicate data"
   ]
  },
  {
   "cell_type": "markdown",
   "metadata": {},
   "source": [
    "## Visualisasi"
   ]
  },
  {
   "cell_type": "code",
   "execution_count": 110,
   "metadata": {},
   "outputs": [],
   "source": [
    "#sns.pairplot(df, hue='film_code', corner=True)"
   ]
  },
  {
   "cell_type": "code",
   "execution_count": 111,
   "metadata": {},
   "outputs": [
    {
     "data": {
      "text/plain": [
       "<AxesSubplot:xlabel='total_sales', ylabel='tickets_sold'>"
      ]
     },
     "execution_count": 111,
     "metadata": {},
     "output_type": "execute_result"
    },
    {
     "data": {
      "image/png": "[encoded data removed]",
      "text/plain": [
       "<Figure size 432x288 with 1 Axes>"
      ]
     },
     "metadata": {
      "needs_background": "light"
     },
     "output_type": "display_data"
    }
   ],
   "source": [
    "sns.scatterplot(x='total_sales', y='tickets_sold', data=df, hue='film_code')"
   ]
  },
  {
   "cell_type": "code",
   "execution_count": 112,
   "metadata": {},
   "outputs": [
    {
     "data": {
      "text/plain": [
       "<AxesSubplot:xlabel='month'>"
      ]
     },
     "execution_count": 112,
     "metadata": {},
     "output_type": "execute_result"
    },
    {
     "data": {
      "image/png": "[encoded data removed]",
      "text/plain": [
       "<Figure size 432x288 with 1 Axes>"
      ]
     },
     "metadata": {
      "needs_background": "light"
     },
     "output_type": "display_data"
    }
   ],
   "source": [
    "line = df.groupby('month').sum()\n",
    "line['total_sales'].plot()"
   ]
  },
  {
   "cell_type": "code",
   "execution_count": 113,
   "metadata": {},
   "outputs": [
    {
     "data": {
      "text/plain": [
       "<AxesSubplot:xlabel='date'>"
      ]
     },
     "execution_count": 113,
     "metadata": {},
     "output_type": "execute_result"
    },
    {
     "data": {
      "image/png": "[encoded data removed]",
      "text/plain": [
       "<Figure size 1080x360 with 1 Axes>"
      ]
     },
     "metadata": {
      "needs_background": "light"
     },
     "output_type": "display_data"
    }
   ],
   "source": [
    "series = df[['total_sales', 'date']]\n",
    "series = series.set_index('date')\n",
    "series = series.resample('M').mean()\n",
    "series.plot(figsize=(15,5))"
   ]
  },
  {
   "cell_type": "markdown",
   "metadata": {},
   "source": [
    "## Statistic"
   ]
  },
  {
   "cell_type": "code",
   "execution_count": 114,
   "metadata": {},
   "outputs": [
    {
     "data": {
      "text/html": [
       "<div>\n",
       "<style scoped>\n",
       "    .dataframe tbody tr th:only-of-type {\n",
       "        vertical-align: middle;\n",
       "    }\n",
       "\n",
       "    .dataframe tbody tr th {\n",
       "        vertical-align: top;\n",
       "    }\n",
       "\n",
       "    .dataframe thead th {\n",
       "        text-align: right;\n",
       "    }\n",
       "</style>\n",
       "<table border=\"1\" class=\"dataframe\">\n",
       "  <thead>\n",
       "    <tr style=\"text-align: right;\">\n",
       "      <th></th>\n",
       "      <th>film_id</th>\n",
       "      <th>film_code</th>\n",
       "      <th>cinema_code</th>\n",
       "      <th>total_sales</th>\n",
       "      <th>tickets_sold</th>\n",
       "      <th>tickets_out</th>\n",
       "      <th>show_time</th>\n",
       "      <th>occu_perc</th>\n",
       "      <th>ticket_price</th>\n",
       "      <th>ticket_use</th>\n",
       "      <th>capacity</th>\n",
       "      <th>date</th>\n",
       "      <th>month</th>\n",
       "      <th>quarter</th>\n",
       "      <th>day</th>\n",
       "    </tr>\n",
       "  </thead>\n",
       "  <tbody>\n",
       "    <tr>\n",
       "      <th>0</th>\n",
       "      <td>1492_304_2018-05-05 00:00:00</td>\n",
       "      <td>1492</td>\n",
       "      <td>304</td>\n",
       "      <td>3900000</td>\n",
       "      <td>26</td>\n",
       "      <td>0</td>\n",
       "      <td>4</td>\n",
       "      <td>4.26</td>\n",
       "      <td>150000.0</td>\n",
       "      <td>26</td>\n",
       "      <td>610.328638</td>\n",
       "      <td>2018-05-05</td>\n",
       "      <td>5</td>\n",
       "      <td>2</td>\n",
       "      <td>5</td>\n",
       "    </tr>\n",
       "    <tr>\n",
       "      <th>1</th>\n",
       "      <td>1492_352_2018-05-05 00:00:00</td>\n",
       "      <td>1492</td>\n",
       "      <td>352</td>\n",
       "      <td>3360000</td>\n",
       "      <td>42</td>\n",
       "      <td>0</td>\n",
       "      <td>5</td>\n",
       "      <td>8.08</td>\n",
       "      <td>80000.0</td>\n",
       "      <td>42</td>\n",
       "      <td>519.801980</td>\n",
       "      <td>2018-05-05</td>\n",
       "      <td>5</td>\n",
       "      <td>2</td>\n",
       "      <td>5</td>\n",
       "    </tr>\n",
       "    <tr>\n",
       "      <th>2</th>\n",
       "      <td>1492_489_2018-05-05 00:00:00</td>\n",
       "      <td>1492</td>\n",
       "      <td>489</td>\n",
       "      <td>2560000</td>\n",
       "      <td>32</td>\n",
       "      <td>0</td>\n",
       "      <td>4</td>\n",
       "      <td>20.00</td>\n",
       "      <td>80000.0</td>\n",
       "      <td>32</td>\n",
       "      <td>160.000000</td>\n",
       "      <td>2018-05-05</td>\n",
       "      <td>5</td>\n",
       "      <td>2</td>\n",
       "      <td>5</td>\n",
       "    </tr>\n",
       "    <tr>\n",
       "      <th>3</th>\n",
       "      <td>1492_429_2018-05-05 00:00:00</td>\n",
       "      <td>1492</td>\n",
       "      <td>429</td>\n",
       "      <td>1200000</td>\n",
       "      <td>12</td>\n",
       "      <td>0</td>\n",
       "      <td>1</td>\n",
       "      <td>11.01</td>\n",
       "      <td>100000.0</td>\n",
       "      <td>12</td>\n",
       "      <td>108.991826</td>\n",
       "      <td>2018-05-05</td>\n",
       "      <td>5</td>\n",
       "      <td>2</td>\n",
       "      <td>5</td>\n",
       "    </tr>\n",
       "    <tr>\n",
       "      <th>4</th>\n",
       "      <td>1492_524_2018-05-05 00:00:00</td>\n",
       "      <td>1492</td>\n",
       "      <td>524</td>\n",
       "      <td>1200000</td>\n",
       "      <td>15</td>\n",
       "      <td>0</td>\n",
       "      <td>3</td>\n",
       "      <td>16.67</td>\n",
       "      <td>80000.0</td>\n",
       "      <td>15</td>\n",
       "      <td>89.982004</td>\n",
       "      <td>2018-05-05</td>\n",
       "      <td>5</td>\n",
       "      <td>2</td>\n",
       "      <td>5</td>\n",
       "    </tr>\n",
       "  </tbody>\n",
       "</table>\n",
       "</div>"
      ],
      "text/plain": [
       "                        film_id  film_code  cinema_code  total_sales  \\\n",
       "0  1492_304_2018-05-05 00:00:00       1492          304      3900000   \n",
       "1  1492_352_2018-05-05 00:00:00       1492          352      3360000   \n",
       "2  1492_489_2018-05-05 00:00:00       1492          489      2560000   \n",
       "3  1492_429_2018-05-05 00:00:00       1492          429      1200000   \n",
       "4  1492_524_2018-05-05 00:00:00       1492          524      1200000   \n",
       "\n",
       "   tickets_sold  tickets_out  show_time  occu_perc  ticket_price  ticket_use  \\\n",
       "0            26            0          4       4.26      150000.0          26   \n",
       "1            42            0          5       8.08       80000.0          42   \n",
       "2            32            0          4      20.00       80000.0          32   \n",
       "3            12            0          1      11.01      100000.0          12   \n",
       "4            15            0          3      16.67       80000.0          15   \n",
       "\n",
       "     capacity       date  month  quarter  day  \n",
       "0  610.328638 2018-05-05      5        2    5  \n",
       "1  519.801980 2018-05-05      5        2    5  \n",
       "2  160.000000 2018-05-05      5        2    5  \n",
       "3  108.991826 2018-05-05      5        2    5  \n",
       "4   89.982004 2018-05-05      5        2    5  "
      ]
     },
     "execution_count": 114,
     "metadata": {},
     "output_type": "execute_result"
    }
   ],
   "source": [
    "df.head()"
   ]
  },
  {
   "cell_type": "code",
   "execution_count": 115,
   "metadata": {},
   "outputs": [
    {
     "data": {
      "text/html": [
       "<div>\n",
       "<style scoped>\n",
       "    .dataframe tbody tr th:only-of-type {\n",
       "        vertical-align: middle;\n",
       "    }\n",
       "\n",
       "    .dataframe tbody tr th {\n",
       "        vertical-align: top;\n",
       "    }\n",
       "\n",
       "    .dataframe thead th {\n",
       "        text-align: right;\n",
       "    }\n",
       "</style>\n",
       "<table border=\"1\" class=\"dataframe\">\n",
       "  <thead>\n",
       "    <tr style=\"text-align: right;\">\n",
       "      <th></th>\n",
       "      <th>total_sales</th>\n",
       "      <th>tickets_sold</th>\n",
       "      <th>ticket_price</th>\n",
       "      <th>ticket_use</th>\n",
       "      <th>capacity</th>\n",
       "      <th>show_time</th>\n",
       "      <th>occu_perc</th>\n",
       "      <th>tickets_out</th>\n",
       "    </tr>\n",
       "  </thead>\n",
       "  <tbody>\n",
       "    <tr>\n",
       "      <th>count</th>\n",
       "      <td>1.422950e+05</td>\n",
       "      <td>142295.000000</td>\n",
       "      <td>142295.000000</td>\n",
       "      <td>142295.000000</td>\n",
       "      <td>142295.000000</td>\n",
       "      <td>142295.000000</td>\n",
       "      <td>142295.000000</td>\n",
       "      <td>142295.000000</td>\n",
       "    </tr>\n",
       "    <tr>\n",
       "      <th>mean</th>\n",
       "      <td>1.233833e+07</td>\n",
       "      <td>140.097944</td>\n",
       "      <td>81239.000455</td>\n",
       "      <td>139.860452</td>\n",
       "      <td>854.570014</td>\n",
       "      <td>3.933357</td>\n",
       "      <td>19.955645</td>\n",
       "      <td>0.237493</td>\n",
       "    </tr>\n",
       "    <tr>\n",
       "      <th>std</th>\n",
       "      <td>3.062706e+07</td>\n",
       "      <td>279.704392</td>\n",
       "      <td>33239.397517</td>\n",
       "      <td>279.510181</td>\n",
       "      <td>952.940018</td>\n",
       "      <td>3.056759</td>\n",
       "      <td>22.648393</td>\n",
       "      <td>2.925276</td>\n",
       "    </tr>\n",
       "    <tr>\n",
       "      <th>min</th>\n",
       "      <td>2.000000e+04</td>\n",
       "      <td>1.000000</td>\n",
       "      <td>483.870968</td>\n",
       "      <td>-219.000000</td>\n",
       "      <td>-2.000000</td>\n",
       "      <td>1.000000</td>\n",
       "      <td>0.000000</td>\n",
       "      <td>0.000000</td>\n",
       "    </tr>\n",
       "    <tr>\n",
       "      <th>25%</th>\n",
       "      <td>1.270000e+06</td>\n",
       "      <td>18.000000</td>\n",
       "      <td>60000.000000</td>\n",
       "      <td>18.000000</td>\n",
       "      <td>276.497696</td>\n",
       "      <td>2.000000</td>\n",
       "      <td>3.750000</td>\n",
       "      <td>0.000000</td>\n",
       "    </tr>\n",
       "    <tr>\n",
       "      <th>50%</th>\n",
       "      <td>3.720000e+06</td>\n",
       "      <td>50.000000</td>\n",
       "      <td>79448.266667</td>\n",
       "      <td>50.000000</td>\n",
       "      <td>525.131283</td>\n",
       "      <td>3.000000</td>\n",
       "      <td>10.340000</td>\n",
       "      <td>0.000000</td>\n",
       "    </tr>\n",
       "    <tr>\n",
       "      <th>75%</th>\n",
       "      <td>1.110000e+07</td>\n",
       "      <td>143.000000</td>\n",
       "      <td>100000.000000</td>\n",
       "      <td>143.000000</td>\n",
       "      <td>1038.961039</td>\n",
       "      <td>5.000000</td>\n",
       "      <td>28.210000</td>\n",
       "      <td>0.000000</td>\n",
       "    </tr>\n",
       "    <tr>\n",
       "      <th>max</th>\n",
       "      <td>1.262820e+09</td>\n",
       "      <td>8499.000000</td>\n",
       "      <td>700000.000000</td>\n",
       "      <td>8499.000000</td>\n",
       "      <td>9692.097160</td>\n",
       "      <td>60.000000</td>\n",
       "      <td>147.500000</td>\n",
       "      <td>311.000000</td>\n",
       "    </tr>\n",
       "  </tbody>\n",
       "</table>\n",
       "</div>"
      ],
      "text/plain": [
       "        total_sales   tickets_sold   ticket_price     ticket_use  \\\n",
       "count  1.422950e+05  142295.000000  142295.000000  142295.000000   \n",
       "mean   1.233833e+07     140.097944   81239.000455     139.860452   \n",
       "std    3.062706e+07     279.704392   33239.397517     279.510181   \n",
       "min    2.000000e+04       1.000000     483.870968    -219.000000   \n",
       "25%    1.270000e+06      18.000000   60000.000000      18.000000   \n",
       "50%    3.720000e+06      50.000000   79448.266667      50.000000   \n",
       "75%    1.110000e+07     143.000000  100000.000000     143.000000   \n",
       "max    1.262820e+09    8499.000000  700000.000000    8499.000000   \n",
       "\n",
       "            capacity      show_time      occu_perc    tickets_out  \n",
       "count  142295.000000  142295.000000  142295.000000  142295.000000  \n",
       "mean      854.570014       3.933357      19.955645       0.237493  \n",
       "std       952.940018       3.056759      22.648393       2.925276  \n",
       "min        -2.000000       1.000000       0.000000       0.000000  \n",
       "25%       276.497696       2.000000       3.750000       0.000000  \n",
       "50%       525.131283       3.000000      10.340000       0.000000  \n",
       "75%      1038.961039       5.000000      28.210000       0.000000  \n",
       "max      9692.097160      60.000000     147.500000     311.000000  "
      ]
     },
     "execution_count": 115,
     "metadata": {},
     "output_type": "execute_result"
    }
   ],
   "source": [
    "numeric = ['total_sales', 'tickets_sold', 'ticket_price', 'ticket_use', 'capacity', 'show_time', 'occu_perc', 'tickets_out']\n",
    "df[numeric].describe()"
   ]
  },
  {
   "cell_type": "code",
   "execution_count": 116,
   "metadata": {},
   "outputs": [
    {
     "data": {
      "text/html": [
       "<div>\n",
       "<style scoped>\n",
       "    .dataframe tbody tr th:only-of-type {\n",
       "        vertical-align: middle;\n",
       "    }\n",
       "\n",
       "    .dataframe tbody tr th {\n",
       "        vertical-align: top;\n",
       "    }\n",
       "\n",
       "    .dataframe thead th {\n",
       "        text-align: right;\n",
       "    }\n",
       "</style>\n",
       "<table border=\"1\" class=\"dataframe\">\n",
       "  <thead>\n",
       "    <tr style=\"text-align: right;\">\n",
       "      <th></th>\n",
       "      <th>film_code</th>\n",
       "      <th>cinema_code</th>\n",
       "    </tr>\n",
       "  </thead>\n",
       "  <tbody>\n",
       "    <tr>\n",
       "      <th>count</th>\n",
       "      <td>142295</td>\n",
       "      <td>142295</td>\n",
       "    </tr>\n",
       "    <tr>\n",
       "      <th>unique</th>\n",
       "      <td>48</td>\n",
       "      <td>244</td>\n",
       "    </tr>\n",
       "    <tr>\n",
       "      <th>top</th>\n",
       "      <td>1554</td>\n",
       "      <td>524</td>\n",
       "    </tr>\n",
       "    <tr>\n",
       "      <th>freq</th>\n",
       "      <td>11613</td>\n",
       "      <td>2473</td>\n",
       "    </tr>\n",
       "  </tbody>\n",
       "</table>\n",
       "</div>"
      ],
      "text/plain": [
       "        film_code  cinema_code\n",
       "count      142295       142295\n",
       "unique         48          244\n",
       "top          1554          524\n",
       "freq        11613         2473"
      ]
     },
     "execution_count": 116,
     "metadata": {},
     "output_type": "execute_result"
    }
   ],
   "source": [
    "df_categoric = df.copy()\n",
    "categoric = ['film_code', 'cinema_code']\n",
    "df_categoric['film_code'] = df['film_code'].astype('category')\n",
    "df_categoric['cinema_code'] = df['cinema_code'].astype('category')\n",
    "df_categoric[categoric].describe()"
   ]
  },
  {
   "cell_type": "code",
   "execution_count": 117,
   "metadata": {},
   "outputs": [
    {
     "data": {
      "text/html": [
       "<div>\n",
       "<style scoped>\n",
       "    .dataframe tbody tr th:only-of-type {\n",
       "        vertical-align: middle;\n",
       "    }\n",
       "\n",
       "    .dataframe tbody tr th {\n",
       "        vertical-align: top;\n",
       "    }\n",
       "\n",
       "    .dataframe thead th {\n",
       "        text-align: right;\n",
       "    }\n",
       "</style>\n",
       "<table border=\"1\" class=\"dataframe\">\n",
       "  <thead>\n",
       "    <tr style=\"text-align: right;\">\n",
       "      <th></th>\n",
       "      <th>tickets_sold</th>\n",
       "      <th>total_sales</th>\n",
       "    </tr>\n",
       "    <tr>\n",
       "      <th>film_code</th>\n",
       "      <th></th>\n",
       "      <th></th>\n",
       "    </tr>\n",
       "  </thead>\n",
       "  <tbody>\n",
       "    <tr>\n",
       "      <th>1554</th>\n",
       "      <td>4129443</td>\n",
       "      <td>372730716637</td>\n",
       "    </tr>\n",
       "    <tr>\n",
       "      <th>1484</th>\n",
       "      <td>1753967</td>\n",
       "      <td>147010737334</td>\n",
       "    </tr>\n",
       "    <tr>\n",
       "      <th>1493</th>\n",
       "      <td>1719861</td>\n",
       "      <td>144169141258</td>\n",
       "    </tr>\n",
       "    <tr>\n",
       "      <th>1482</th>\n",
       "      <td>1628733</td>\n",
       "      <td>130522874406</td>\n",
       "    </tr>\n",
       "    <tr>\n",
       "      <th>1483</th>\n",
       "      <td>1623481</td>\n",
       "      <td>156909698770</td>\n",
       "    </tr>\n",
       "    <tr>\n",
       "      <th>1481</th>\n",
       "      <td>1160874</td>\n",
       "      <td>79048046436</td>\n",
       "    </tr>\n",
       "    <tr>\n",
       "      <th>1576</th>\n",
       "      <td>968860</td>\n",
       "      <td>95054918934</td>\n",
       "    </tr>\n",
       "    <tr>\n",
       "      <th>1485</th>\n",
       "      <td>959784</td>\n",
       "      <td>90773918382</td>\n",
       "    </tr>\n",
       "    <tr>\n",
       "      <th>1556</th>\n",
       "      <td>635615</td>\n",
       "      <td>55469649968</td>\n",
       "    </tr>\n",
       "    <tr>\n",
       "      <th>1573</th>\n",
       "      <td>567495</td>\n",
       "      <td>54863103967</td>\n",
       "    </tr>\n",
       "    <tr>\n",
       "      <th>1494</th>\n",
       "      <td>545282</td>\n",
       "      <td>45603569957</td>\n",
       "    </tr>\n",
       "    <tr>\n",
       "      <th>1499</th>\n",
       "      <td>381980</td>\n",
       "      <td>31874490941</td>\n",
       "    </tr>\n",
       "    <tr>\n",
       "      <th>1572</th>\n",
       "      <td>353274</td>\n",
       "      <td>27293814989</td>\n",
       "    </tr>\n",
       "    <tr>\n",
       "      <th>1497</th>\n",
       "      <td>346632</td>\n",
       "      <td>30582528988</td>\n",
       "    </tr>\n",
       "    <tr>\n",
       "      <th>1495</th>\n",
       "      <td>328261</td>\n",
       "      <td>30663460972</td>\n",
       "    </tr>\n",
       "    <tr>\n",
       "      <th>1553</th>\n",
       "      <td>289326</td>\n",
       "      <td>24877281966</td>\n",
       "    </tr>\n",
       "    <tr>\n",
       "      <th>1498</th>\n",
       "      <td>287842</td>\n",
       "      <td>23769544973</td>\n",
       "    </tr>\n",
       "    <tr>\n",
       "      <th>1558</th>\n",
       "      <td>280932</td>\n",
       "      <td>25051837975</td>\n",
       "    </tr>\n",
       "    <tr>\n",
       "      <th>1559</th>\n",
       "      <td>251627</td>\n",
       "      <td>24016897974</td>\n",
       "    </tr>\n",
       "    <tr>\n",
       "      <th>1511</th>\n",
       "      <td>225580</td>\n",
       "      <td>21616727986</td>\n",
       "    </tr>\n",
       "    <tr>\n",
       "      <th>1578</th>\n",
       "      <td>194720</td>\n",
       "      <td>16913269987</td>\n",
       "    </tr>\n",
       "    <tr>\n",
       "      <th>1486</th>\n",
       "      <td>184459</td>\n",
       "      <td>20172286458</td>\n",
       "    </tr>\n",
       "    <tr>\n",
       "      <th>1551</th>\n",
       "      <td>157392</td>\n",
       "      <td>15415571985</td>\n",
       "    </tr>\n",
       "    <tr>\n",
       "      <th>1575</th>\n",
       "      <td>152658</td>\n",
       "      <td>15841574988</td>\n",
       "    </tr>\n",
       "    <tr>\n",
       "      <th>1552</th>\n",
       "      <td>125091</td>\n",
       "      <td>10866340990</td>\n",
       "    </tr>\n",
       "    <tr>\n",
       "      <th>1496</th>\n",
       "      <td>122901</td>\n",
       "      <td>11859786997</td>\n",
       "    </tr>\n",
       "    <tr>\n",
       "      <th>1562</th>\n",
       "      <td>111634</td>\n",
       "      <td>10457749998</td>\n",
       "    </tr>\n",
       "    <tr>\n",
       "      <th>1480</th>\n",
       "      <td>55451</td>\n",
       "      <td>5310427986</td>\n",
       "    </tr>\n",
       "    <tr>\n",
       "      <th>1569</th>\n",
       "      <td>49489</td>\n",
       "      <td>5095509992</td>\n",
       "    </tr>\n",
       "    <tr>\n",
       "      <th>1563</th>\n",
       "      <td>41137</td>\n",
       "      <td>3444655000</td>\n",
       "    </tr>\n",
       "    <tr>\n",
       "      <th>1560</th>\n",
       "      <td>40144</td>\n",
       "      <td>3928780000</td>\n",
       "    </tr>\n",
       "    <tr>\n",
       "      <th>1587</th>\n",
       "      <td>38455</td>\n",
       "      <td>4331080000</td>\n",
       "    </tr>\n",
       "    <tr>\n",
       "      <th>1564</th>\n",
       "      <td>32124</td>\n",
       "      <td>2604851999</td>\n",
       "    </tr>\n",
       "    <tr>\n",
       "      <th>1492</th>\n",
       "      <td>24509</td>\n",
       "      <td>2084629999</td>\n",
       "    </tr>\n",
       "    <tr>\n",
       "      <th>1568</th>\n",
       "      <td>22236</td>\n",
       "      <td>2155735000</td>\n",
       "    </tr>\n",
       "    <tr>\n",
       "      <th>1571</th>\n",
       "      <td>21584</td>\n",
       "      <td>2012120000</td>\n",
       "    </tr>\n",
       "    <tr>\n",
       "      <th>1471</th>\n",
       "      <td>21552</td>\n",
       "      <td>2114454998</td>\n",
       "    </tr>\n",
       "    <tr>\n",
       "      <th>1566</th>\n",
       "      <td>17535</td>\n",
       "      <td>1601015000</td>\n",
       "    </tr>\n",
       "    <tr>\n",
       "      <th>1550</th>\n",
       "      <td>17006</td>\n",
       "      <td>1493515000</td>\n",
       "    </tr>\n",
       "    <tr>\n",
       "      <th>1500</th>\n",
       "      <td>15208</td>\n",
       "      <td>1413095000</td>\n",
       "    </tr>\n",
       "    <tr>\n",
       "      <th>1512</th>\n",
       "      <td>11624</td>\n",
       "      <td>1116466000</td>\n",
       "    </tr>\n",
       "    <tr>\n",
       "      <th>1557</th>\n",
       "      <td>11133</td>\n",
       "      <td>1116785000</td>\n",
       "    </tr>\n",
       "    <tr>\n",
       "      <th>1502</th>\n",
       "      <td>9956</td>\n",
       "      <td>723125000</td>\n",
       "    </tr>\n",
       "    <tr>\n",
       "      <th>1570</th>\n",
       "      <td>6838</td>\n",
       "      <td>610710000</td>\n",
       "    </tr>\n",
       "    <tr>\n",
       "      <th>1565</th>\n",
       "      <td>5791</td>\n",
       "      <td>547509999</td>\n",
       "    </tr>\n",
       "    <tr>\n",
       "      <th>1567</th>\n",
       "      <td>4773</td>\n",
       "      <td>440925000</td>\n",
       "    </tr>\n",
       "    <tr>\n",
       "      <th>1589</th>\n",
       "      <td>812</td>\n",
       "      <td>90555000</td>\n",
       "    </tr>\n",
       "    <tr>\n",
       "      <th>1584</th>\n",
       "      <td>176</td>\n",
       "      <td>16490000</td>\n",
       "    </tr>\n",
       "  </tbody>\n",
       "</table>\n",
       "</div>"
      ],
      "text/plain": [
       "           tickets_sold   total_sales\n",
       "film_code                            \n",
       "1554            4129443  372730716637\n",
       "1484            1753967  147010737334\n",
       "1493            1719861  144169141258\n",
       "1482            1628733  130522874406\n",
       "1483            1623481  156909698770\n",
       "1481            1160874   79048046436\n",
       "1576             968860   95054918934\n",
       "1485             959784   90773918382\n",
       "1556             635615   55469649968\n",
       "1573             567495   54863103967\n",
       "1494             545282   45603569957\n",
       "1499             381980   31874490941\n",
       "1572             353274   27293814989\n",
       "1497             346632   30582528988\n",
       "1495             328261   30663460972\n",
       "1553             289326   24877281966\n",
       "1498             287842   23769544973\n",
       "1558             280932   25051837975\n",
       "1559             251627   24016897974\n",
       "1511             225580   21616727986\n",
       "1578             194720   16913269987\n",
       "1486             184459   20172286458\n",
       "1551             157392   15415571985\n",
       "1575             152658   15841574988\n",
       "1552             125091   10866340990\n",
       "1496             122901   11859786997\n",
       "1562             111634   10457749998\n",
       "1480              55451    5310427986\n",
       "1569              49489    5095509992\n",
       "1563              41137    3444655000\n",
       "1560              40144    3928780000\n",
       "1587              38455    4331080000\n",
       "1564              32124    2604851999\n",
       "1492              24509    2084629999\n",
       "1568              22236    2155735000\n",
       "1571              21584    2012120000\n",
       "1471              21552    2114454998\n",
       "1566              17535    1601015000\n",
       "1550              17006    1493515000\n",
       "1500              15208    1413095000\n",
       "1512              11624    1116466000\n",
       "1557              11133    1116785000\n",
       "1502               9956     723125000\n",
       "1570               6838     610710000\n",
       "1565               5791     547509999\n",
       "1567               4773     440925000\n",
       "1589                812      90555000\n",
       "1584                176      16490000"
      ]
     },
     "execution_count": 117,
     "metadata": {},
     "output_type": "execute_result"
    }
   ],
   "source": [
    "tiket = df.groupby('film_code').sum()\n",
    "tiket[['tickets_sold', 'total_sales']].sort_values(ascending=False, by='tickets_sold')"
   ]
  },
  {
   "cell_type": "code",
   "execution_count": 118,
   "metadata": {},
   "outputs": [
    {
     "name": "stdout",
     "output_type": "stream",
     "text": [
      "Film Code Unique Data\t 48\n",
      "Cinema Code Unique Data\t 244\n",
      "Month Unique Data\t 10\n",
      "Quarter Unique Data\t 4\n",
      "Day Unique Data\t\t 31\n"
     ]
    }
   ],
   "source": [
    "print(\"Film Code Unique Data\\t\", df['film_code'].nunique())\n",
    "print(\"Cinema Code Unique Data\\t\", df['cinema_code'].nunique())\n",
    "print(\"Month Unique Data\\t\", df['month'].nunique())\n",
    "print(\"Quarter Unique Data\\t\", df['quarter'].nunique())\n",
    "print(\"Day Unique Data\\t\\t\", df['day'].nunique())"
   ]
  },
  {
   "cell_type": "code",
   "execution_count": 119,
   "metadata": {},
   "outputs": [
    {
     "name": "stdout",
     "output_type": "stream",
     "text": [
      "<class 'pandas.core.frame.DataFrame'>\n",
      "Int64Index: 142295 entries, 0 to 142523\n",
      "Data columns (total 15 columns):\n",
      " #   Column        Non-Null Count   Dtype         \n",
      "---  ------        --------------   -----         \n",
      " 0   film_id       142295 non-null  object        \n",
      " 1   film_code     142295 non-null  int64         \n",
      " 2   cinema_code   142295 non-null  int64         \n",
      " 3   total_sales   142295 non-null  int64         \n",
      " 4   tickets_sold  142295 non-null  int64         \n",
      " 5   tickets_out   142295 non-null  int64         \n",
      " 6   show_time     142295 non-null  int64         \n",
      " 7   occu_perc     142295 non-null  float64       \n",
      " 8   ticket_price  142295 non-null  float64       \n",
      " 9   ticket_use    142295 non-null  int64         \n",
      " 10  capacity      142295 non-null  float64       \n",
      " 11  date          142295 non-null  datetime64[ns]\n",
      " 12  month         142295 non-null  int64         \n",
      " 13  quarter       142295 non-null  int64         \n",
      " 14  day           142295 non-null  int64         \n",
      "dtypes: datetime64[ns](1), float64(3), int64(10), object(1)\n",
      "memory usage: 17.4+ MB\n"
     ]
    }
   ],
   "source": [
    "df.info()"
   ]
  },
  {
   "attachments": {},
   "cell_type": "markdown",
   "metadata": {},
   "source": [
    "# Korelasi"
   ]
  },
  {
   "cell_type": "code",
   "execution_count": 120,
   "metadata": {},
   "outputs": [
    {
     "data": {
      "text/html": [
       "<div>\n",
       "<style scoped>\n",
       "    .dataframe tbody tr th:only-of-type {\n",
       "        vertical-align: middle;\n",
       "    }\n",
       "\n",
       "    .dataframe tbody tr th {\n",
       "        vertical-align: top;\n",
       "    }\n",
       "\n",
       "    .dataframe thead th {\n",
       "        text-align: right;\n",
       "    }\n",
       "</style>\n",
       "<table border=\"1\" class=\"dataframe\">\n",
       "  <thead>\n",
       "    <tr style=\"text-align: right;\">\n",
       "      <th></th>\n",
       "      <th>film_code</th>\n",
       "      <th>cinema_code</th>\n",
       "      <th>total_sales</th>\n",
       "      <th>tickets_sold</th>\n",
       "      <th>tickets_out</th>\n",
       "      <th>show_time</th>\n",
       "      <th>occu_perc</th>\n",
       "      <th>ticket_price</th>\n",
       "      <th>ticket_use</th>\n",
       "      <th>capacity</th>\n",
       "    </tr>\n",
       "  </thead>\n",
       "  <tbody>\n",
       "    <tr>\n",
       "      <th>film_code</th>\n",
       "      <td>1.000000</td>\n",
       "      <td>0.028854</td>\n",
       "      <td>0.010380</td>\n",
       "      <td>-0.005139</td>\n",
       "      <td>-0.000929</td>\n",
       "      <td>0.076987</td>\n",
       "      <td>-0.103775</td>\n",
       "      <td>0.105387</td>\n",
       "      <td>-0.005133</td>\n",
       "      <td>0.061434</td>\n",
       "    </tr>\n",
       "    <tr>\n",
       "      <th>cinema_code</th>\n",
       "      <td>0.028854</td>\n",
       "      <td>1.000000</td>\n",
       "      <td>-0.013376</td>\n",
       "      <td>-0.054077</td>\n",
       "      <td>0.019478</td>\n",
       "      <td>-0.187179</td>\n",
       "      <td>0.125683</td>\n",
       "      <td>0.005649</td>\n",
       "      <td>-0.054318</td>\n",
       "      <td>-0.353412</td>\n",
       "    </tr>\n",
       "    <tr>\n",
       "      <th>total_sales</th>\n",
       "      <td>0.010380</td>\n",
       "      <td>-0.013376</td>\n",
       "      <td>1.000000</td>\n",
       "      <td>0.915126</td>\n",
       "      <td>0.066949</td>\n",
       "      <td>0.510570</td>\n",
       "      <td>0.414309</td>\n",
       "      <td>0.271907</td>\n",
       "      <td>0.915062</td>\n",
       "      <td>0.376257</td>\n",
       "    </tr>\n",
       "    <tr>\n",
       "      <th>tickets_sold</th>\n",
       "      <td>-0.005139</td>\n",
       "      <td>-0.054077</td>\n",
       "      <td>0.915126</td>\n",
       "      <td>1.000000</td>\n",
       "      <td>0.071597</td>\n",
       "      <td>0.522458</td>\n",
       "      <td>0.493702</td>\n",
       "      <td>0.102925</td>\n",
       "      <td>0.999946</td>\n",
       "      <td>0.425518</td>\n",
       "    </tr>\n",
       "    <tr>\n",
       "      <th>tickets_out</th>\n",
       "      <td>-0.000929</td>\n",
       "      <td>0.019478</td>\n",
       "      <td>0.066949</td>\n",
       "      <td>0.071597</td>\n",
       "      <td>1.000000</td>\n",
       "      <td>0.078917</td>\n",
       "      <td>0.044441</td>\n",
       "      <td>0.011996</td>\n",
       "      <td>0.061181</td>\n",
       "      <td>0.037631</td>\n",
       "    </tr>\n",
       "    <tr>\n",
       "      <th>show_time</th>\n",
       "      <td>0.076987</td>\n",
       "      <td>-0.187179</td>\n",
       "      <td>0.510570</td>\n",
       "      <td>0.522458</td>\n",
       "      <td>0.078917</td>\n",
       "      <td>1.000000</td>\n",
       "      <td>0.055602</td>\n",
       "      <td>0.176133</td>\n",
       "      <td>0.521995</td>\n",
       "      <td>0.681653</td>\n",
       "    </tr>\n",
       "    <tr>\n",
       "      <th>occu_perc</th>\n",
       "      <td>-0.103775</td>\n",
       "      <td>0.125683</td>\n",
       "      <td>0.414309</td>\n",
       "      <td>0.493702</td>\n",
       "      <td>0.044441</td>\n",
       "      <td>0.055602</td>\n",
       "      <td>1.000000</td>\n",
       "      <td>0.084356</td>\n",
       "      <td>0.493580</td>\n",
       "      <td>-0.141135</td>\n",
       "    </tr>\n",
       "    <tr>\n",
       "      <th>ticket_price</th>\n",
       "      <td>0.105387</td>\n",
       "      <td>0.005649</td>\n",
       "      <td>0.271907</td>\n",
       "      <td>0.102925</td>\n",
       "      <td>0.011996</td>\n",
       "      <td>0.176133</td>\n",
       "      <td>0.084356</td>\n",
       "      <td>1.000000</td>\n",
       "      <td>0.102871</td>\n",
       "      <td>0.004297</td>\n",
       "    </tr>\n",
       "    <tr>\n",
       "      <th>ticket_use</th>\n",
       "      <td>-0.005133</td>\n",
       "      <td>-0.054318</td>\n",
       "      <td>0.915062</td>\n",
       "      <td>0.999946</td>\n",
       "      <td>0.061181</td>\n",
       "      <td>0.521995</td>\n",
       "      <td>0.493580</td>\n",
       "      <td>0.102871</td>\n",
       "      <td>1.000000</td>\n",
       "      <td>0.425420</td>\n",
       "    </tr>\n",
       "    <tr>\n",
       "      <th>capacity</th>\n",
       "      <td>0.061434</td>\n",
       "      <td>-0.353412</td>\n",
       "      <td>0.376257</td>\n",
       "      <td>0.425518</td>\n",
       "      <td>0.037631</td>\n",
       "      <td>0.681653</td>\n",
       "      <td>-0.141135</td>\n",
       "      <td>0.004297</td>\n",
       "      <td>0.425420</td>\n",
       "      <td>1.000000</td>\n",
       "    </tr>\n",
       "  </tbody>\n",
       "</table>\n",
       "</div>"
      ],
      "text/plain": [
       "              film_code  cinema_code  total_sales  tickets_sold  tickets_out  \\\n",
       "film_code      1.000000     0.028854     0.010380     -0.005139    -0.000929   \n",
       "cinema_code    0.028854     1.000000    -0.013376     -0.054077     0.019478   \n",
       "total_sales    0.010380    -0.013376     1.000000      0.915126     0.066949   \n",
       "tickets_sold  -0.005139    -0.054077     0.915126      1.000000     0.071597   \n",
       "tickets_out   -0.000929     0.019478     0.066949      0.071597     1.000000   \n",
       "show_time      0.076987    -0.187179     0.510570      0.522458     0.078917   \n",
       "occu_perc     -0.103775     0.125683     0.414309      0.493702     0.044441   \n",
       "ticket_price   0.105387     0.005649     0.271907      0.102925     0.011996   \n",
       "ticket_use    -0.005133    -0.054318     0.915062      0.999946     0.061181   \n",
       "capacity       0.061434    -0.353412     0.376257      0.425518     0.037631   \n",
       "\n",
       "              show_time  occu_perc  ticket_price  ticket_use  capacity  \n",
       "film_code      0.076987  -0.103775      0.105387   -0.005133  0.061434  \n",
       "cinema_code   -0.187179   0.125683      0.005649   -0.054318 -0.353412  \n",
       "total_sales    0.510570   0.414309      0.271907    0.915062  0.376257  \n",
       "tickets_sold   0.522458   0.493702      0.102925    0.999946  0.425518  \n",
       "tickets_out    0.078917   0.044441      0.011996    0.061181  0.037631  \n",
       "show_time      1.000000   0.055602      0.176133    0.521995  0.681653  \n",
       "occu_perc      0.055602   1.000000      0.084356    0.493580 -0.141135  \n",
       "ticket_price   0.176133   0.084356      1.000000    0.102871  0.004297  \n",
       "ticket_use     0.521995   0.493580      0.102871    1.000000  0.425420  \n",
       "capacity       0.681653  -0.141135      0.004297    0.425420  1.000000  "
      ]
     },
     "execution_count": 120,
     "metadata": {},
     "output_type": "execute_result"
    }
   ],
   "source": [
    "korelasi = df.copy()\n",
    "korelasi.drop(columns=['film_id', 'month', 'day', 'quarter'], inplace=True)\n",
    "korelasi.corr()"
   ]
  },
  {
   "cell_type": "code",
   "execution_count": 121,
   "metadata": {},
   "outputs": [
    {
     "data": {
      "text/plain": [
       "total_sales     1.000000\n",
       "tickets_sold    0.915126\n",
       "ticket_use      0.915062\n",
       "show_time       0.510570\n",
       "occu_perc       0.414309\n",
       "capacity        0.376257\n",
       "ticket_price    0.271907\n",
       "tickets_out     0.066949\n",
       "film_code       0.010380\n",
       "cinema_code    -0.013376\n",
       "Name: total_sales, dtype: float64"
      ]
     },
     "execution_count": 121,
     "metadata": {},
     "output_type": "execute_result"
    }
   ],
   "source": [
    "korelasi.corr()['total_sales'].sort_values(ascending=False)"
   ]
  },
  {
   "cell_type": "code",
   "execution_count": 122,
   "metadata": {},
   "outputs": [
    {
     "data": {
      "text/html": [
       "<div>\n",
       "<style scoped>\n",
       "    .dataframe tbody tr th:only-of-type {\n",
       "        vertical-align: middle;\n",
       "    }\n",
       "\n",
       "    .dataframe tbody tr th {\n",
       "        vertical-align: top;\n",
       "    }\n",
       "\n",
       "    .dataframe thead th {\n",
       "        text-align: right;\n",
       "    }\n",
       "</style>\n",
       "<table border=\"1\" class=\"dataframe\">\n",
       "  <thead>\n",
       "    <tr style=\"text-align: right;\">\n",
       "      <th></th>\n",
       "      <th>film_id</th>\n",
       "      <th>film_code</th>\n",
       "      <th>cinema_code</th>\n",
       "      <th>total_sales</th>\n",
       "      <th>tickets_sold</th>\n",
       "      <th>tickets_out</th>\n",
       "      <th>show_time</th>\n",
       "      <th>occu_perc</th>\n",
       "      <th>ticket_price</th>\n",
       "      <th>ticket_use</th>\n",
       "      <th>capacity</th>\n",
       "      <th>date</th>\n",
       "      <th>month</th>\n",
       "      <th>quarter</th>\n",
       "      <th>day</th>\n",
       "    </tr>\n",
       "  </thead>\n",
       "  <tbody>\n",
       "    <tr>\n",
       "      <th>0</th>\n",
       "      <td>1492_304_2018-05-05 00:00:00</td>\n",
       "      <td>1492</td>\n",
       "      <td>304</td>\n",
       "      <td>3900000</td>\n",
       "      <td>26</td>\n",
       "      <td>0</td>\n",
       "      <td>4</td>\n",
       "      <td>4.26</td>\n",
       "      <td>150000.0</td>\n",
       "      <td>26</td>\n",
       "      <td>610.328638</td>\n",
       "      <td>2018-05-05</td>\n",
       "      <td>5</td>\n",
       "      <td>2</td>\n",
       "      <td>5</td>\n",
       "    </tr>\n",
       "    <tr>\n",
       "      <th>1</th>\n",
       "      <td>1492_352_2018-05-05 00:00:00</td>\n",
       "      <td>1492</td>\n",
       "      <td>352</td>\n",
       "      <td>3360000</td>\n",
       "      <td>42</td>\n",
       "      <td>0</td>\n",
       "      <td>5</td>\n",
       "      <td>8.08</td>\n",
       "      <td>80000.0</td>\n",
       "      <td>42</td>\n",
       "      <td>519.801980</td>\n",
       "      <td>2018-05-05</td>\n",
       "      <td>5</td>\n",
       "      <td>2</td>\n",
       "      <td>5</td>\n",
       "    </tr>\n",
       "    <tr>\n",
       "      <th>2</th>\n",
       "      <td>1492_489_2018-05-05 00:00:00</td>\n",
       "      <td>1492</td>\n",
       "      <td>489</td>\n",
       "      <td>2560000</td>\n",
       "      <td>32</td>\n",
       "      <td>0</td>\n",
       "      <td>4</td>\n",
       "      <td>20.00</td>\n",
       "      <td>80000.0</td>\n",
       "      <td>32</td>\n",
       "      <td>160.000000</td>\n",
       "      <td>2018-05-05</td>\n",
       "      <td>5</td>\n",
       "      <td>2</td>\n",
       "      <td>5</td>\n",
       "    </tr>\n",
       "    <tr>\n",
       "      <th>3</th>\n",
       "      <td>1492_429_2018-05-05 00:00:00</td>\n",
       "      <td>1492</td>\n",
       "      <td>429</td>\n",
       "      <td>1200000</td>\n",
       "      <td>12</td>\n",
       "      <td>0</td>\n",
       "      <td>1</td>\n",
       "      <td>11.01</td>\n",
       "      <td>100000.0</td>\n",
       "      <td>12</td>\n",
       "      <td>108.991826</td>\n",
       "      <td>2018-05-05</td>\n",
       "      <td>5</td>\n",
       "      <td>2</td>\n",
       "      <td>5</td>\n",
       "    </tr>\n",
       "    <tr>\n",
       "      <th>4</th>\n",
       "      <td>1492_524_2018-05-05 00:00:00</td>\n",
       "      <td>1492</td>\n",
       "      <td>524</td>\n",
       "      <td>1200000</td>\n",
       "      <td>15</td>\n",
       "      <td>0</td>\n",
       "      <td>3</td>\n",
       "      <td>16.67</td>\n",
       "      <td>80000.0</td>\n",
       "      <td>15</td>\n",
       "      <td>89.982004</td>\n",
       "      <td>2018-05-05</td>\n",
       "      <td>5</td>\n",
       "      <td>2</td>\n",
       "      <td>5</td>\n",
       "    </tr>\n",
       "  </tbody>\n",
       "</table>\n",
       "</div>"
      ],
      "text/plain": [
       "                        film_id  film_code  cinema_code  total_sales  \\\n",
       "0  1492_304_2018-05-05 00:00:00       1492          304      3900000   \n",
       "1  1492_352_2018-05-05 00:00:00       1492          352      3360000   \n",
       "2  1492_489_2018-05-05 00:00:00       1492          489      2560000   \n",
       "3  1492_429_2018-05-05 00:00:00       1492          429      1200000   \n",
       "4  1492_524_2018-05-05 00:00:00       1492          524      1200000   \n",
       "\n",
       "   tickets_sold  tickets_out  show_time  occu_perc  ticket_price  ticket_use  \\\n",
       "0            26            0          4       4.26      150000.0          26   \n",
       "1            42            0          5       8.08       80000.0          42   \n",
       "2            32            0          4      20.00       80000.0          32   \n",
       "3            12            0          1      11.01      100000.0          12   \n",
       "4            15            0          3      16.67       80000.0          15   \n",
       "\n",
       "     capacity       date  month  quarter  day  \n",
       "0  610.328638 2018-05-05      5        2    5  \n",
       "1  519.801980 2018-05-05      5        2    5  \n",
       "2  160.000000 2018-05-05      5        2    5  \n",
       "3  108.991826 2018-05-05      5        2    5  \n",
       "4   89.982004 2018-05-05      5        2    5  "
      ]
     },
     "execution_count": 122,
     "metadata": {},
     "output_type": "execute_result"
    }
   ],
   "source": [
    "df.head()"
   ]
  },
  {
   "attachments": {},
   "cell_type": "markdown",
   "metadata": {},
   "source": [
    "# Mengatasi Outliers"
   ]
  },
  {
   "cell_type": "code",
   "execution_count": 123,
   "metadata": {},
   "outputs": [
    {
     "data": {
      "text/html": [
       "<div>\n",
       "<style scoped>\n",
       "    .dataframe tbody tr th:only-of-type {\n",
       "        vertical-align: middle;\n",
       "    }\n",
       "\n",
       "    .dataframe tbody tr th {\n",
       "        vertical-align: top;\n",
       "    }\n",
       "\n",
       "    .dataframe thead th {\n",
       "        text-align: right;\n",
       "    }\n",
       "</style>\n",
       "<table border=\"1\" class=\"dataframe\">\n",
       "  <thead>\n",
       "    <tr style=\"text-align: right;\">\n",
       "      <th></th>\n",
       "      <th>film_id</th>\n",
       "      <th>film_code</th>\n",
       "      <th>cinema_code</th>\n",
       "      <th>total_sales</th>\n",
       "      <th>tickets_sold</th>\n",
       "      <th>tickets_out</th>\n",
       "      <th>show_time</th>\n",
       "      <th>occu_perc</th>\n",
       "      <th>ticket_price</th>\n",
       "      <th>ticket_use</th>\n",
       "      <th>capacity</th>\n",
       "      <th>date</th>\n",
       "      <th>month</th>\n",
       "      <th>quarter</th>\n",
       "      <th>day</th>\n",
       "    </tr>\n",
       "  </thead>\n",
       "  <tbody>\n",
       "    <tr>\n",
       "      <th>0</th>\n",
       "      <td>1492_304_2018-05-05 00:00:00</td>\n",
       "      <td>1492</td>\n",
       "      <td>304</td>\n",
       "      <td>3900000</td>\n",
       "      <td>26</td>\n",
       "      <td>0</td>\n",
       "      <td>4</td>\n",
       "      <td>4.26</td>\n",
       "      <td>150000.0</td>\n",
       "      <td>26</td>\n",
       "      <td>610.328638</td>\n",
       "      <td>2018-05-05</td>\n",
       "      <td>5</td>\n",
       "      <td>2</td>\n",
       "      <td>5</td>\n",
       "    </tr>\n",
       "    <tr>\n",
       "      <th>1</th>\n",
       "      <td>1492_352_2018-05-05 00:00:00</td>\n",
       "      <td>1492</td>\n",
       "      <td>352</td>\n",
       "      <td>3360000</td>\n",
       "      <td>42</td>\n",
       "      <td>0</td>\n",
       "      <td>5</td>\n",
       "      <td>8.08</td>\n",
       "      <td>80000.0</td>\n",
       "      <td>42</td>\n",
       "      <td>519.801980</td>\n",
       "      <td>2018-05-05</td>\n",
       "      <td>5</td>\n",
       "      <td>2</td>\n",
       "      <td>5</td>\n",
       "    </tr>\n",
       "    <tr>\n",
       "      <th>2</th>\n",
       "      <td>1492_489_2018-05-05 00:00:00</td>\n",
       "      <td>1492</td>\n",
       "      <td>489</td>\n",
       "      <td>2560000</td>\n",
       "      <td>32</td>\n",
       "      <td>0</td>\n",
       "      <td>4</td>\n",
       "      <td>20.00</td>\n",
       "      <td>80000.0</td>\n",
       "      <td>32</td>\n",
       "      <td>160.000000</td>\n",
       "      <td>2018-05-05</td>\n",
       "      <td>5</td>\n",
       "      <td>2</td>\n",
       "      <td>5</td>\n",
       "    </tr>\n",
       "    <tr>\n",
       "      <th>3</th>\n",
       "      <td>1492_429_2018-05-05 00:00:00</td>\n",
       "      <td>1492</td>\n",
       "      <td>429</td>\n",
       "      <td>1200000</td>\n",
       "      <td>12</td>\n",
       "      <td>0</td>\n",
       "      <td>1</td>\n",
       "      <td>11.01</td>\n",
       "      <td>100000.0</td>\n",
       "      <td>12</td>\n",
       "      <td>108.991826</td>\n",
       "      <td>2018-05-05</td>\n",
       "      <td>5</td>\n",
       "      <td>2</td>\n",
       "      <td>5</td>\n",
       "    </tr>\n",
       "    <tr>\n",
       "      <th>4</th>\n",
       "      <td>1492_524_2018-05-05 00:00:00</td>\n",
       "      <td>1492</td>\n",
       "      <td>524</td>\n",
       "      <td>1200000</td>\n",
       "      <td>15</td>\n",
       "      <td>0</td>\n",
       "      <td>3</td>\n",
       "      <td>16.67</td>\n",
       "      <td>80000.0</td>\n",
       "      <td>15</td>\n",
       "      <td>89.982004</td>\n",
       "      <td>2018-05-05</td>\n",
       "      <td>5</td>\n",
       "      <td>2</td>\n",
       "      <td>5</td>\n",
       "    </tr>\n",
       "  </tbody>\n",
       "</table>\n",
       "</div>"
      ],
      "text/plain": [
       "                        film_id  film_code  cinema_code  total_sales  \\\n",
       "0  1492_304_2018-05-05 00:00:00       1492          304      3900000   \n",
       "1  1492_352_2018-05-05 00:00:00       1492          352      3360000   \n",
       "2  1492_489_2018-05-05 00:00:00       1492          489      2560000   \n",
       "3  1492_429_2018-05-05 00:00:00       1492          429      1200000   \n",
       "4  1492_524_2018-05-05 00:00:00       1492          524      1200000   \n",
       "\n",
       "   tickets_sold  tickets_out  show_time  occu_perc  ticket_price  ticket_use  \\\n",
       "0            26            0          4       4.26      150000.0          26   \n",
       "1            42            0          5       8.08       80000.0          42   \n",
       "2            32            0          4      20.00       80000.0          32   \n",
       "3            12            0          1      11.01      100000.0          12   \n",
       "4            15            0          3      16.67       80000.0          15   \n",
       "\n",
       "     capacity       date  month  quarter  day  \n",
       "0  610.328638 2018-05-05      5        2    5  \n",
       "1  519.801980 2018-05-05      5        2    5  \n",
       "2  160.000000 2018-05-05      5        2    5  \n",
       "3  108.991826 2018-05-05      5        2    5  \n",
       "4   89.982004 2018-05-05      5        2    5  "
      ]
     },
     "execution_count": 123,
     "metadata": {},
     "output_type": "execute_result"
    }
   ],
   "source": [
    "df.head()"
   ]
  },
  {
   "cell_type": "code",
   "execution_count": 124,
   "metadata": {},
   "outputs": [],
   "source": [
    "# fig, axes = plt.subplots(4,2, figsize=(20,20))\n",
    "# sns.boxplot(x=\"total_sales\", data=df, ax=axes[0, 0])\n",
    "# sns.boxplot(x=\"tickets_sold\", data=df, ax=axes[0, 1])\n",
    "# sns.boxplot(x=\"ticket_price\", data=df, ax=axes[1, 0])\n",
    "# sns.boxplot(x=\"ticket_use\", data=df, ax=axes[1, 1])\n",
    "\n",
    "# sns.boxplot(x=\"capacity\", data=df, ax=axes[2, 0])\n",
    "# sns.boxplot(x=\"show_time\", data=df, ax=axes[2, 1])\n",
    "# sns.boxplot(x=\"occu_perc\", data=df, ax=axes[3, 0])\n",
    "# sns.boxplot(x=\"tickets_out\", data=df, ax=axes[3, 1])"
   ]
  },
  {
   "cell_type": "code",
   "execution_count": 125,
   "metadata": {},
   "outputs": [],
   "source": [
    "# numeric = ['total_sales', 'tickets_sold', 'ticket_price', 'ticket_use', 'capacity', 'show_time', 'occu_perc', 'tickets_out']\n",
    "\n",
    "# old = df.shape\n",
    "# df_forecast = df.copy()\n",
    "\n",
    "# z = np.abs(stats.zscore(df[numeric]))\n",
    "# df = (df[(z<3).all(axis=1)])\n",
    "\n",
    "# new = df.shape\n",
    "# print(\"Jumlah data sebelum ZScore : \", old)\n",
    "# print(\"Jumlah data sesudah ZScore : \", new)"
   ]
  },
  {
   "cell_type": "code",
   "execution_count": 126,
   "metadata": {},
   "outputs": [],
   "source": [
    "# fig, axes = plt.subplots(4,2, figsize=(20,20))\n",
    "# sns.boxplot(x=\"total_sales\", data=df, ax=axes[0, 0])\n",
    "# sns.boxplot(x=\"tickets_sold\", data=df, ax=axes[0, 1])\n",
    "# sns.boxplot(x=\"ticket_price\", data=df, ax=axes[1, 0])\n",
    "# sns.boxplot(x=\"ticket_use\", data=df, ax=axes[1, 1])\n",
    "\n",
    "# sns.boxplot(x=\"capacity\", data=df, ax=axes[2, 0])\n",
    "# sns.boxplot(x=\"show_time\", data=df, ax=axes[2, 1])\n",
    "# sns.boxplot(x=\"occu_perc\", data=df, ax=axes[3, 0])\n",
    "# sns.boxplot(x=\"tickets_out\", data=df, ax=axes[3, 1])"
   ]
  },
  {
   "attachments": {},
   "cell_type": "markdown",
   "metadata": {},
   "source": [
    "# Columns Transformer"
   ]
  },
  {
   "cell_type": "code",
   "execution_count": 127,
   "metadata": {},
   "outputs": [
    {
     "data": {
      "text/html": [
       "<div>\n",
       "<style scoped>\n",
       "    .dataframe tbody tr th:only-of-type {\n",
       "        vertical-align: middle;\n",
       "    }\n",
       "\n",
       "    .dataframe tbody tr th {\n",
       "        vertical-align: top;\n",
       "    }\n",
       "\n",
       "    .dataframe thead th {\n",
       "        text-align: right;\n",
       "    }\n",
       "</style>\n",
       "<table border=\"1\" class=\"dataframe\">\n",
       "  <thead>\n",
       "    <tr style=\"text-align: right;\">\n",
       "      <th></th>\n",
       "      <th>film_id</th>\n",
       "      <th>film_code</th>\n",
       "      <th>cinema_code</th>\n",
       "      <th>total_sales</th>\n",
       "      <th>tickets_sold</th>\n",
       "      <th>tickets_out</th>\n",
       "      <th>show_time</th>\n",
       "      <th>occu_perc</th>\n",
       "      <th>ticket_price</th>\n",
       "      <th>ticket_use</th>\n",
       "      <th>capacity</th>\n",
       "      <th>date</th>\n",
       "      <th>month</th>\n",
       "      <th>quarter</th>\n",
       "      <th>day</th>\n",
       "    </tr>\n",
       "  </thead>\n",
       "  <tbody>\n",
       "    <tr>\n",
       "      <th>0</th>\n",
       "      <td>1492_304_2018-05-05 00:00:00</td>\n",
       "      <td>1492</td>\n",
       "      <td>304</td>\n",
       "      <td>3900000</td>\n",
       "      <td>26</td>\n",
       "      <td>0</td>\n",
       "      <td>4</td>\n",
       "      <td>4.26</td>\n",
       "      <td>150000.0</td>\n",
       "      <td>26</td>\n",
       "      <td>610.328638</td>\n",
       "      <td>2018-05-05</td>\n",
       "      <td>5</td>\n",
       "      <td>2</td>\n",
       "      <td>5</td>\n",
       "    </tr>\n",
       "    <tr>\n",
       "      <th>1</th>\n",
       "      <td>1492_352_2018-05-05 00:00:00</td>\n",
       "      <td>1492</td>\n",
       "      <td>352</td>\n",
       "      <td>3360000</td>\n",
       "      <td>42</td>\n",
       "      <td>0</td>\n",
       "      <td>5</td>\n",
       "      <td>8.08</td>\n",
       "      <td>80000.0</td>\n",
       "      <td>42</td>\n",
       "      <td>519.801980</td>\n",
       "      <td>2018-05-05</td>\n",
       "      <td>5</td>\n",
       "      <td>2</td>\n",
       "      <td>5</td>\n",
       "    </tr>\n",
       "    <tr>\n",
       "      <th>2</th>\n",
       "      <td>1492_489_2018-05-05 00:00:00</td>\n",
       "      <td>1492</td>\n",
       "      <td>489</td>\n",
       "      <td>2560000</td>\n",
       "      <td>32</td>\n",
       "      <td>0</td>\n",
       "      <td>4</td>\n",
       "      <td>20.00</td>\n",
       "      <td>80000.0</td>\n",
       "      <td>32</td>\n",
       "      <td>160.000000</td>\n",
       "      <td>2018-05-05</td>\n",
       "      <td>5</td>\n",
       "      <td>2</td>\n",
       "      <td>5</td>\n",
       "    </tr>\n",
       "    <tr>\n",
       "      <th>3</th>\n",
       "      <td>1492_429_2018-05-05 00:00:00</td>\n",
       "      <td>1492</td>\n",
       "      <td>429</td>\n",
       "      <td>1200000</td>\n",
       "      <td>12</td>\n",
       "      <td>0</td>\n",
       "      <td>1</td>\n",
       "      <td>11.01</td>\n",
       "      <td>100000.0</td>\n",
       "      <td>12</td>\n",
       "      <td>108.991826</td>\n",
       "      <td>2018-05-05</td>\n",
       "      <td>5</td>\n",
       "      <td>2</td>\n",
       "      <td>5</td>\n",
       "    </tr>\n",
       "    <tr>\n",
       "      <th>4</th>\n",
       "      <td>1492_524_2018-05-05 00:00:00</td>\n",
       "      <td>1492</td>\n",
       "      <td>524</td>\n",
       "      <td>1200000</td>\n",
       "      <td>15</td>\n",
       "      <td>0</td>\n",
       "      <td>3</td>\n",
       "      <td>16.67</td>\n",
       "      <td>80000.0</td>\n",
       "      <td>15</td>\n",
       "      <td>89.982004</td>\n",
       "      <td>2018-05-05</td>\n",
       "      <td>5</td>\n",
       "      <td>2</td>\n",
       "      <td>5</td>\n",
       "    </tr>\n",
       "  </tbody>\n",
       "</table>\n",
       "</div>"
      ],
      "text/plain": [
       "                        film_id  film_code  cinema_code  total_sales  \\\n",
       "0  1492_304_2018-05-05 00:00:00       1492          304      3900000   \n",
       "1  1492_352_2018-05-05 00:00:00       1492          352      3360000   \n",
       "2  1492_489_2018-05-05 00:00:00       1492          489      2560000   \n",
       "3  1492_429_2018-05-05 00:00:00       1492          429      1200000   \n",
       "4  1492_524_2018-05-05 00:00:00       1492          524      1200000   \n",
       "\n",
       "   tickets_sold  tickets_out  show_time  occu_perc  ticket_price  ticket_use  \\\n",
       "0            26            0          4       4.26      150000.0          26   \n",
       "1            42            0          5       8.08       80000.0          42   \n",
       "2            32            0          4      20.00       80000.0          32   \n",
       "3            12            0          1      11.01      100000.0          12   \n",
       "4            15            0          3      16.67       80000.0          15   \n",
       "\n",
       "     capacity       date  month  quarter  day  \n",
       "0  610.328638 2018-05-05      5        2    5  \n",
       "1  519.801980 2018-05-05      5        2    5  \n",
       "2  160.000000 2018-05-05      5        2    5  \n",
       "3  108.991826 2018-05-05      5        2    5  \n",
       "4   89.982004 2018-05-05      5        2    5  "
      ]
     },
     "execution_count": 127,
     "metadata": {},
     "output_type": "execute_result"
    }
   ],
   "source": [
    "df.head()"
   ]
  },
  {
   "attachments": {},
   "cell_type": "markdown",
   "metadata": {},
   "source": [
    "### Membuat Kolom Year"
   ]
  },
  {
   "cell_type": "code",
   "execution_count": 128,
   "metadata": {},
   "outputs": [
    {
     "data": {
      "text/plain": [
       "2018    142295\n",
       "Name: year, dtype: int64"
      ]
     },
     "execution_count": 128,
     "metadata": {},
     "output_type": "execute_result"
    }
   ],
   "source": [
    "parse_date = df['date'].dt\n",
    "\n",
    "df['year'] = parse_date.year\n",
    "df['year'].value_counts()"
   ]
  },
  {
   "attachments": {},
   "cell_type": "markdown",
   "metadata": {},
   "source": [
    "### Mengatasi Kolom Capacity "
   ]
  },
  {
   "cell_type": "code",
   "execution_count": 129,
   "metadata": {},
   "outputs": [
    {
     "data": {
      "text/plain": [
       "count    142295.000000\n",
       "mean        854.569865\n",
       "std         952.937922\n",
       "min          -2.000000\n",
       "25%         276.000000\n",
       "50%         525.000000\n",
       "75%        1039.000000\n",
       "max        9692.000000\n",
       "Name: capacity, dtype: float64"
      ]
     },
     "execution_count": 129,
     "metadata": {},
     "output_type": "execute_result"
    }
   ],
   "source": [
    "df['capacity'] = df['capacity'].round()\n",
    "df['capacity'].describe()"
   ]
  },
  {
   "cell_type": "code",
   "execution_count": 130,
   "metadata": {},
   "outputs": [
    {
     "data": {
      "text/plain": [
       "count    142241.000000\n",
       "mean        854.895051\n",
       "std         952.972601\n",
       "min          10.000000\n",
       "25%         278.000000\n",
       "50%         526.000000\n",
       "75%        1039.000000\n",
       "max        9692.000000\n",
       "Name: capacity, dtype: float64"
      ]
     },
     "execution_count": 130,
     "metadata": {},
     "output_type": "execute_result"
    }
   ],
   "source": [
    "df = df[(df['capacity'] >= 0)]\n",
    "df['capacity'].describe()"
   ]
  },
  {
   "attachments": {},
   "cell_type": "markdown",
   "metadata": {},
   "source": [
    "### Mengatasi Kolom ticket_use"
   ]
  },
  {
   "cell_type": "code",
   "execution_count": 131,
   "metadata": {},
   "outputs": [
    {
     "data": {
      "text/plain": [
       "count    142180.000000\n",
       "mean        139.966775\n",
       "std         279.588504\n",
       "min           0.000000\n",
       "25%          18.000000\n",
       "50%          50.000000\n",
       "75%         143.000000\n",
       "max        8499.000000\n",
       "Name: ticket_use, dtype: float64"
      ]
     },
     "execution_count": 131,
     "metadata": {},
     "output_type": "execute_result"
    }
   ],
   "source": [
    "df = df[(df['ticket_use'] >= 0)]\n",
    "df['ticket_use'].describe()"
   ]
  },
  {
   "attachments": {},
   "cell_type": "markdown",
   "metadata": {},
   "source": [
    "# Evaluasi Model Function"
   ]
  },
  {
   "cell_type": "code",
   "execution_count": 132,
   "metadata": {},
   "outputs": [],
   "source": [
    "method_list=[] #going to hold the method\n",
    "algorithm_list = [] #specific algorithm\n",
    "rmse_list =[] # root mean squared error\n",
    "mse_list = [] #mean squared error\n",
    "mae_list = [] #mean absolute error\n",
    "r2_list = [] #correlation square -tells us how good does the data fit the line\n",
    "d = {\n",
    "    'Method': method_list,\n",
    "    'Algorithm':algorithm_list,\n",
    "    'MSE': mse_list,\n",
    "    'RMSE': rmse_list,\n",
    "    'MAE': mae_list,\n",
    "    'R2': r2_list\n",
    "}\n",
    "\n",
    "def get_metric(actual,predicted,method,algorithm):\n",
    "    #compute metrics\n",
    "    mse = mean_squared_error(actual,predicted)\n",
    "    rmse = np.sqrt(mse)\n",
    "    mae = mean_absolute_error(actual,predicted)\n",
    "    r2 = r2_score(actual,predicted)\n",
    "    \n",
    "    # append list\n",
    "    method_list.append(method)\n",
    "    algorithm_list.append(algorithm)\n",
    "    rmse_list.append(rmse)\n",
    "    mse_list.append(mse)\n",
    "    mae_list.append(mae)\n",
    "    r2_list.append(r2)\n",
    "\n",
    "    result = pd.DataFrame(d)\n",
    "    return result"
   ]
  },
  {
   "attachments": {},
   "cell_type": "markdown",
   "metadata": {},
   "source": [
    "# Forecasting Check"
   ]
  },
  {
   "cell_type": "code",
   "execution_count": 133,
   "metadata": {},
   "outputs": [
    {
     "name": "stdout",
     "output_type": "stream",
     "text": [
      "<class 'pandas.core.frame.DataFrame'>\n",
      "Int64Index: 142180 entries, 0 to 142523\n",
      "Data columns (total 16 columns):\n",
      " #   Column        Non-Null Count   Dtype         \n",
      "---  ------        --------------   -----         \n",
      " 0   film_id       142180 non-null  object        \n",
      " 1   film_code     142180 non-null  int64         \n",
      " 2   cinema_code   142180 non-null  int64         \n",
      " 3   total_sales   142180 non-null  int64         \n",
      " 4   tickets_sold  142180 non-null  int64         \n",
      " 5   tickets_out   142180 non-null  int64         \n",
      " 6   show_time     142180 non-null  int64         \n",
      " 7   occu_perc     142180 non-null  float64       \n",
      " 8   ticket_price  142180 non-null  float64       \n",
      " 9   ticket_use    142180 non-null  int64         \n",
      " 10  capacity      142180 non-null  float64       \n",
      " 11  date          142180 non-null  datetime64[ns]\n",
      " 12  month         142180 non-null  int64         \n",
      " 13  quarter       142180 non-null  int64         \n",
      " 14  day           142180 non-null  int64         \n",
      " 15  year          142180 non-null  int64         \n",
      "dtypes: datetime64[ns](1), float64(3), int64(11), object(1)\n",
      "memory usage: 18.4+ MB\n"
     ]
    }
   ],
   "source": [
    "df.info()"
   ]
  },
  {
   "cell_type": "code",
   "execution_count": 134,
   "metadata": {},
   "outputs": [
    {
     "data": {
      "text/plain": [
       "<AxesSubplot:xlabel='date'>"
      ]
     },
     "execution_count": 134,
     "metadata": {},
     "output_type": "execute_result"
    },
    {
     "data": {
      "image/png": "[encoded data removed]",
      "text/plain": [
       "<Figure size 1080x360 with 1 Axes>"
      ]
     },
     "metadata": {
      "needs_background": "light"
     },
     "output_type": "display_data"
    }
   ],
   "source": [
    "series = df.copy()\n",
    "series.set_index('date', inplace=True)\n",
    "data = series[['total_sales']]\n",
    "data = data.resample('D').sum()\n",
    "data.plot(figsize=(15,5))"
   ]
  },
  {
   "cell_type": "code",
   "execution_count": 135,
   "metadata": {},
   "outputs": [
    {
     "data": {
      "text/html": [
       "<div>\n",
       "<style scoped>\n",
       "    .dataframe tbody tr th:only-of-type {\n",
       "        vertical-align: middle;\n",
       "    }\n",
       "\n",
       "    .dataframe tbody tr th {\n",
       "        vertical-align: top;\n",
       "    }\n",
       "\n",
       "    .dataframe thead th {\n",
       "        text-align: right;\n",
       "    }\n",
       "</style>\n",
       "<table border=\"1\" class=\"dataframe\">\n",
       "  <thead>\n",
       "    <tr style=\"text-align: right;\">\n",
       "      <th></th>\n",
       "      <th>total_sales</th>\n",
       "    </tr>\n",
       "    <tr>\n",
       "      <th>date</th>\n",
       "      <th></th>\n",
       "    </tr>\n",
       "  </thead>\n",
       "  <tbody>\n",
       "    <tr>\n",
       "      <th>2018-02-21</th>\n",
       "      <td>32030000</td>\n",
       "    </tr>\n",
       "    <tr>\n",
       "      <th>2018-02-22</th>\n",
       "      <td>0</td>\n",
       "    </tr>\n",
       "    <tr>\n",
       "      <th>2018-02-23</th>\n",
       "      <td>180000</td>\n",
       "    </tr>\n",
       "    <tr>\n",
       "      <th>2018-02-24</th>\n",
       "      <td>0</td>\n",
       "    </tr>\n",
       "    <tr>\n",
       "      <th>2018-02-25</th>\n",
       "      <td>0</td>\n",
       "    </tr>\n",
       "  </tbody>\n",
       "</table>\n",
       "</div>"
      ],
      "text/plain": [
       "            total_sales\n",
       "date                   \n",
       "2018-02-21     32030000\n",
       "2018-02-22            0\n",
       "2018-02-23       180000\n",
       "2018-02-24            0\n",
       "2018-02-25            0"
      ]
     },
     "execution_count": 135,
     "metadata": {},
     "output_type": "execute_result"
    }
   ],
   "source": [
    "data.head()"
   ]
  },
  {
   "cell_type": "code",
   "execution_count": 136,
   "metadata": {},
   "outputs": [],
   "source": [
    "from jcopml.time_series import stationarity_tester"
   ]
  },
  {
   "cell_type": "code",
   "execution_count": 137,
   "metadata": {},
   "outputs": [
    {
     "name": "stdout",
     "output_type": "stream",
     "text": [
      "ADF:        Series is stationary\n",
      "KPSS:       Series is trend stationary\n",
      "Conclusion: Series is stationary\n"
     ]
    },
    {
     "data": {
      "text/html": [
       "<div>\n",
       "<style scoped>\n",
       "    .dataframe tbody tr th:only-of-type {\n",
       "        vertical-align: middle;\n",
       "    }\n",
       "\n",
       "    .dataframe tbody tr th {\n",
       "        vertical-align: top;\n",
       "    }\n",
       "\n",
       "    .dataframe thead th {\n",
       "        text-align: right;\n",
       "    }\n",
       "</style>\n",
       "<table border=\"1\" class=\"dataframe\">\n",
       "  <thead>\n",
       "    <tr style=\"text-align: right;\">\n",
       "      <th></th>\n",
       "      <th>Test Statistic</th>\n",
       "      <th>p-value</th>\n",
       "      <th>Critical Value (1%)</th>\n",
       "      <th>Critical Value (5%)</th>\n",
       "      <th>Critical Value (10%)</th>\n",
       "      <th>reject_null</th>\n",
       "    </tr>\n",
       "  </thead>\n",
       "  <tbody>\n",
       "    <tr>\n",
       "      <th>ADF</th>\n",
       "      <td>-3.138979</td>\n",
       "      <td>0.0238</td>\n",
       "      <td>-3.457664</td>\n",
       "      <td>-2.873559</td>\n",
       "      <td>-2.573175</td>\n",
       "      <td>True</td>\n",
       "    </tr>\n",
       "    <tr>\n",
       "      <th>KPSS</th>\n",
       "      <td>0.131238</td>\n",
       "      <td>0.1000</td>\n",
       "      <td>0.739000</td>\n",
       "      <td>0.463000</td>\n",
       "      <td>0.347000</td>\n",
       "      <td>False</td>\n",
       "    </tr>\n",
       "  </tbody>\n",
       "</table>\n",
       "</div>"
      ],
      "text/plain": [
       "      Test Statistic  p-value  Critical Value (1%)  Critical Value (5%)  \\\n",
       "ADF        -3.138979   0.0238            -3.457664            -2.873559   \n",
       "KPSS        0.131238   0.1000             0.739000             0.463000   \n",
       "\n",
       "      Critical Value (10%)  reject_null  \n",
       "ADF              -2.573175         True  \n",
       "KPSS              0.347000        False  "
      ]
     },
     "execution_count": 137,
     "metadata": {},
     "output_type": "execute_result"
    }
   ],
   "source": [
    "stationarity_tester(data)"
   ]
  },
  {
   "attachments": {},
   "cell_type": "markdown",
   "metadata": {},
   "source": [
    "Modeling with difference periods = 1"
   ]
  },
  {
   "attachments": {},
   "cell_type": "markdown",
   "metadata": {},
   "source": [
    "### Forecasting with SARIMAX"
   ]
  },
  {
   "cell_type": "code",
   "execution_count": 138,
   "metadata": {},
   "outputs": [],
   "source": [
    "from pmdarima import auto_arima"
   ]
  },
  {
   "cell_type": "code",
   "execution_count": 139,
   "metadata": {},
   "outputs": [
    {
     "data": {
      "image/png": "[encoded data removed]",
      "text/plain": [
       "<Figure size 1080x720 with 4 Axes>"
      ]
     },
     "metadata": {
      "needs_background": "light"
     },
     "output_type": "display_data"
    }
   ],
   "source": [
    "components = additive_decomposition(data, plot=True, period=12)"
   ]
  },
  {
   "cell_type": "code",
   "execution_count": 140,
   "metadata": {},
   "outputs": [
    {
     "name": "stdout",
     "output_type": "stream",
     "text": [
      "Performing stepwise search to minimize aicc\n",
      " ARIMA(2,0,2)(1,0,1)[12] intercept   : AICC=inf, Time=1.54 sec\n",
      " ARIMA(0,0,0)(0,0,0)[12] intercept   : AICC=11040.169, Time=0.01 sec\n",
      " ARIMA(1,0,0)(1,0,0)[12] intercept   : AICC=10895.807, Time=0.36 sec\n",
      " ARIMA(0,0,1)(0,0,1)[12] intercept   : AICC=10950.876, Time=0.23 sec\n",
      " ARIMA(0,0,0)(0,0,0)[12]             : AICC=11270.236, Time=0.03 sec\n",
      " ARIMA(1,0,0)(0,0,0)[12] intercept   : AICC=10893.741, Time=0.06 sec\n",
      " ARIMA(1,0,0)(0,0,1)[12] intercept   : AICC=10895.793, Time=0.17 sec\n",
      " ARIMA(1,0,0)(1,0,1)[12] intercept   : AICC=10897.861, Time=0.36 sec\n",
      " ARIMA(2,0,0)(0,0,0)[12] intercept   : AICC=10889.781, Time=0.06 sec\n",
      " ARIMA(2,0,0)(1,0,0)[12] intercept   : AICC=10890.609, Time=0.52 sec\n",
      " ARIMA(2,0,0)(0,0,1)[12] intercept   : AICC=10890.536, Time=0.22 sec\n",
      " ARIMA(2,0,0)(1,0,1)[12] intercept   : AICC=10892.638, Time=0.38 sec\n",
      " ARIMA(3,0,0)(0,0,0)[12] intercept   : AICC=10888.384, Time=0.08 sec\n",
      " ARIMA(3,0,0)(1,0,0)[12] intercept   : AICC=10890.317, Time=0.40 sec\n",
      " ARIMA(3,0,0)(0,0,1)[12] intercept   : AICC=10890.316, Time=0.28 sec\n",
      " ARIMA(3,0,0)(1,0,1)[12] intercept   : AICC=10892.441, Time=0.62 sec\n",
      " ARIMA(4,0,0)(0,0,0)[12] intercept   : AICC=10885.778, Time=0.11 sec\n",
      " ARIMA(4,0,0)(1,0,0)[12] intercept   : AICC=10887.345, Time=1.12 sec\n",
      " ARIMA(4,0,0)(0,0,1)[12] intercept   : AICC=10887.273, Time=0.61 sec\n",
      " ARIMA(4,0,0)(1,0,1)[12] intercept   : AICC=10889.393, Time=0.69 sec\n",
      " ARIMA(5,0,0)(0,0,0)[12] intercept   : AICC=10880.879, Time=0.19 sec\n",
      " ARIMA(5,0,0)(1,0,0)[12] intercept   : AICC=10872.901, Time=1.16 sec\n",
      " ARIMA(5,0,0)(2,0,0)[12] intercept   : AICC=10874.801, Time=1.88 sec\n",
      " ARIMA(5,0,0)(1,0,1)[12] intercept   : AICC=10875.049, Time=1.07 sec\n",
      " ARIMA(5,0,0)(0,0,1)[12] intercept   : AICC=10874.049, Time=0.46 sec\n",
      " ARIMA(5,0,0)(2,0,1)[12] intercept   : AICC=inf, Time=4.49 sec\n",
      " ARIMA(5,0,1)(1,0,0)[12] intercept   : AICC=10851.373, Time=1.07 sec\n",
      " ARIMA(5,0,1)(0,0,0)[12] intercept   : AICC=10864.124, Time=0.31 sec\n",
      " ARIMA(5,0,1)(2,0,0)[12] intercept   : AICC=10853.045, Time=1.71 sec\n",
      " ARIMA(5,0,1)(1,0,1)[12] intercept   : AICC=10852.485, Time=1.00 sec\n",
      " ARIMA(5,0,1)(0,0,1)[12] intercept   : AICC=10850.308, Time=0.61 sec\n",
      " ARIMA(5,0,1)(0,0,2)[12] intercept   : AICC=10852.487, Time=1.25 sec\n",
      " ARIMA(5,0,1)(1,0,2)[12] intercept   : AICC=10854.627, Time=1.95 sec\n",
      " ARIMA(4,0,1)(0,0,1)[12] intercept   : AICC=10888.454, Time=0.59 sec\n",
      " ARIMA(5,0,2)(0,0,1)[12] intercept   : AICC=10825.815, Time=1.30 sec\n",
      " ARIMA(5,0,2)(0,0,0)[12] intercept   : AICC=10835.926, Time=0.86 sec\n",
      " ARIMA(5,0,2)(1,0,1)[12] intercept   : AICC=10827.469, Time=1.52 sec\n",
      " ARIMA(5,0,2)(0,0,2)[12] intercept   : AICC=10827.681, Time=2.32 sec\n",
      " ARIMA(5,0,2)(1,0,0)[12] intercept   : AICC=10828.874, Time=1.66 sec\n",
      " ARIMA(5,0,2)(1,0,2)[12] intercept   : AICC=10849.482, Time=2.02 sec\n",
      " ARIMA(4,0,2)(0,0,1)[12] intercept   : AICC=10864.271, Time=1.19 sec\n",
      " ARIMA(5,0,3)(0,0,1)[12] intercept   : AICC=10826.110, Time=2.01 sec\n",
      " ARIMA(4,0,3)(0,0,1)[12] intercept   : AICC=inf, Time=1.67 sec\n",
      " ARIMA(5,0,2)(0,0,1)[12]             : AICC=10829.347, Time=1.48 sec\n",
      "\n",
      "Best model:  ARIMA(5,0,2)(0,0,1)[12] intercept\n",
      "Total fit time: 41.673 seconds\n"
     ]
    }
   ],
   "source": [
    "X_train, X_test = data[:-25], data[-25:]\n",
    "\n",
    "arima = auto_arima(X_train, seasonal=True, m=12, information_criterion='aicc', trace=True, suppress_warnings=True, random_state=42)"
   ]
  },
  {
   "cell_type": "code",
   "execution_count": 141,
   "metadata": {},
   "outputs": [
    {
     "data": {
      "text/html": [
       "<table class=\"simpletable\">\n",
       "<caption>SARIMAX Results</caption>\n",
       "<tr>\n",
       "  <th>Dep. Variable:</th>                   <td>y</td>                <th>  No. Observations:  </th>    <td>232</td>   \n",
       "</tr>\n",
       "<tr>\n",
       "  <th>Model:</th>           <td>SARIMAX(5, 0, 2)x(0, 0, [1], 12)</td> <th>  Log Likelihood     </th> <td>-5402.410</td>\n",
       "</tr>\n",
       "<tr>\n",
       "  <th>Date:</th>                    <td>Fri, 30 Dec 2022</td>         <th>  AIC                </th> <td>10824.820</td>\n",
       "</tr>\n",
       "<tr>\n",
       "  <th>Time:</th>                        <td>18:54:20</td>             <th>  BIC                </th> <td>10859.287</td>\n",
       "</tr>\n",
       "<tr>\n",
       "  <th>Sample:</th>                     <td>02-21-2018</td>            <th>  HQIC               </th> <td>10838.720</td>\n",
       "</tr>\n",
       "<tr>\n",
       "  <th></th>                           <td>- 10-10-2018</td>           <th>                     </th>     <td> </td>    \n",
       "</tr>\n",
       "<tr>\n",
       "  <th>Covariance Type:</th>                <td>opg</td>               <th>                     </th>     <td> </td>    \n",
       "</tr>\n",
       "</table>\n",
       "<table class=\"simpletable\">\n",
       "<tr>\n",
       "      <td></td>         <th>coef</th>     <th>std err</th>      <th>z</th>      <th>P>|z|</th>  <th>[0.025</th>    <th>0.975]</th>  \n",
       "</tr>\n",
       "<tr>\n",
       "  <th>intercept</th> <td>  1.11e+09</td> <td> 2.19e-12</td> <td> 5.08e+20</td> <td> 0.000</td> <td> 1.11e+09</td> <td> 1.11e+09</td>\n",
       "</tr>\n",
       "<tr>\n",
       "  <th>ar.L1</th>     <td>   -0.7443</td> <td>    0.107</td> <td>   -6.983</td> <td> 0.000</td> <td>   -0.953</td> <td>   -0.535</td>\n",
       "</tr>\n",
       "<tr>\n",
       "  <th>ar.L2</th>     <td>    0.3677</td> <td>    0.123</td> <td>    2.986</td> <td> 0.003</td> <td>    0.126</td> <td>    0.609</td>\n",
       "</tr>\n",
       "<tr>\n",
       "  <th>ar.L3</th>     <td>    0.5423</td> <td>    0.106</td> <td>    5.105</td> <td> 0.000</td> <td>    0.334</td> <td>    0.751</td>\n",
       "</tr>\n",
       "<tr>\n",
       "  <th>ar.L4</th>     <td>    0.2300</td> <td>    0.135</td> <td>    1.698</td> <td> 0.090</td> <td>   -0.036</td> <td>    0.496</td>\n",
       "</tr>\n",
       "<tr>\n",
       "  <th>ar.L5</th>     <td>    0.3857</td> <td>    0.096</td> <td>    4.037</td> <td> 0.000</td> <td>    0.198</td> <td>    0.573</td>\n",
       "</tr>\n",
       "<tr>\n",
       "  <th>ma.L1</th>     <td>    1.5623</td> <td>    0.091</td> <td>   17.212</td> <td> 0.000</td> <td>    1.384</td> <td>    1.740</td>\n",
       "</tr>\n",
       "<tr>\n",
       "  <th>ma.L2</th>     <td>    0.7626</td> <td>    0.083</td> <td>    9.193</td> <td> 0.000</td> <td>    0.600</td> <td>    0.925</td>\n",
       "</tr>\n",
       "<tr>\n",
       "  <th>ma.S.L12</th>  <td>   -0.3132</td> <td>    0.112</td> <td>   -2.795</td> <td> 0.005</td> <td>   -0.533</td> <td>   -0.094</td>\n",
       "</tr>\n",
       "<tr>\n",
       "  <th>sigma2</th>    <td> 1.254e+19</td> <td> 4.14e-21</td> <td> 3.03e+39</td> <td> 0.000</td> <td> 1.25e+19</td> <td> 1.25e+19</td>\n",
       "</tr>\n",
       "</table>\n",
       "<table class=\"simpletable\">\n",
       "<tr>\n",
       "  <th>Ljung-Box (L1) (Q):</th>     <td>0.18</td> <th>  Jarque-Bera (JB):  </th> <td>12.00</td>\n",
       "</tr>\n",
       "<tr>\n",
       "  <th>Prob(Q):</th>                <td>0.67</td> <th>  Prob(JB):          </th> <td>0.00</td> \n",
       "</tr>\n",
       "<tr>\n",
       "  <th>Heteroskedasticity (H):</th> <td>0.51</td> <th>  Skew:              </th> <td>-0.27</td>\n",
       "</tr>\n",
       "<tr>\n",
       "  <th>Prob(H) (two-sided):</th>    <td>0.00</td> <th>  Kurtosis:          </th> <td>3.98</td> \n",
       "</tr>\n",
       "</table><br/><br/>Warnings:<br/>[1] Covariance matrix calculated using the outer product of gradients (complex-step).<br/>[2] Covariance matrix is singular or near-singular, with condition number 1.71e+55. Standard errors may be unstable."
      ],
      "text/plain": [
       "<class 'statsmodels.iolib.summary.Summary'>\n",
       "\"\"\"\n",
       "                                      SARIMAX Results                                       \n",
       "============================================================================================\n",
       "Dep. Variable:                                    y   No. Observations:                  232\n",
       "Model:             SARIMAX(5, 0, 2)x(0, 0, [1], 12)   Log Likelihood               -5402.410\n",
       "Date:                              Fri, 30 Dec 2022   AIC                          10824.820\n",
       "Time:                                      18:54:20   BIC                          10859.287\n",
       "Sample:                                  02-21-2018   HQIC                         10838.720\n",
       "                                       - 10-10-2018                                         \n",
       "Covariance Type:                                opg                                         \n",
       "==============================================================================\n",
       "                 coef    std err          z      P>|z|      [0.025      0.975]\n",
       "------------------------------------------------------------------------------\n",
       "intercept    1.11e+09   2.19e-12   5.08e+20      0.000    1.11e+09    1.11e+09\n",
       "ar.L1         -0.7443      0.107     -6.983      0.000      -0.953      -0.535\n",
       "ar.L2          0.3677      0.123      2.986      0.003       0.126       0.609\n",
       "ar.L3          0.5423      0.106      5.105      0.000       0.334       0.751\n",
       "ar.L4          0.2300      0.135      1.698      0.090      -0.036       0.496\n",
       "ar.L5          0.3857      0.096      4.037      0.000       0.198       0.573\n",
       "ma.L1          1.5623      0.091     17.212      0.000       1.384       1.740\n",
       "ma.L2          0.7626      0.083      9.193      0.000       0.600       0.925\n",
       "ma.S.L12      -0.3132      0.112     -2.795      0.005      -0.533      -0.094\n",
       "sigma2      1.254e+19   4.14e-21   3.03e+39      0.000    1.25e+19    1.25e+19\n",
       "===================================================================================\n",
       "Ljung-Box (L1) (Q):                   0.18   Jarque-Bera (JB):                12.00\n",
       "Prob(Q):                              0.67   Prob(JB):                         0.00\n",
       "Heteroskedasticity (H):               0.51   Skew:                            -0.27\n",
       "Prob(H) (two-sided):                  0.00   Kurtosis:                         3.98\n",
       "===================================================================================\n",
       "\n",
       "Warnings:\n",
       "[1] Covariance matrix calculated using the outer product of gradients (complex-step).\n",
       "[2] Covariance matrix is singular or near-singular, with condition number 1.71e+55. Standard errors may be unstable.\n",
       "\"\"\""
      ]
     },
     "execution_count": 141,
     "metadata": {},
     "output_type": "execute_result"
    }
   ],
   "source": [
    "arima.summary()"
   ]
  },
  {
   "cell_type": "code",
   "execution_count": 142,
   "metadata": {},
   "outputs": [
    {
     "data": {
      "text/plain": [
       "<matplotlib.legend.Legend at 0x196cf71ded0>"
      ]
     },
     "execution_count": 142,
     "metadata": {},
     "output_type": "execute_result"
    },
    {
     "data": {
      "image/png": "[encoded data removed]",
      "text/plain": [
       "<Figure size 1080x360 with 1 Axes>"
      ]
     },
     "metadata": {
      "needs_background": "light"
     },
     "output_type": "display_data"
    }
   ],
   "source": [
    "n_forecast = len(X_test) + 20\n",
    "pred = arima.predict(n_forecast)\n",
    "\n",
    "plt.figure(figsize=(15,5))\n",
    "plt.plot(X_train, \"b-\", label=\"train\")\n",
    "plt.plot(X_test, \"r-\", label=\"test\")\n",
    "plt.plot(pred, \"g--\", label=\"pred\")\n",
    "plt.legend()"
   ]
  },
  {
   "cell_type": "code",
   "execution_count": 143,
   "metadata": {},
   "outputs": [
    {
     "data": {
      "text/plain": [
       "<matplotlib.legend.Legend at 0x196cbc8e440>"
      ]
     },
     "execution_count": 143,
     "metadata": {},
     "output_type": "execute_result"
    },
    {
     "data": {
      "image/png": "[encoded data removed]",
      "text/plain": [
       "<Figure size 1080x360 with 1 Axes>"
      ]
     },
     "metadata": {
      "needs_background": "light"
     },
     "output_type": "display_data"
    }
   ],
   "source": [
    "plt.figure(figsize=(15,5))\n",
    "plt.plot(pred, \"g--\", label=\"pred\")\n",
    "plt.legend()"
   ]
  },
  {
   "cell_type": "code",
   "execution_count": 144,
   "metadata": {},
   "outputs": [
    {
     "name": "stdout",
     "output_type": "stream",
     "text": [
      "MSE\t:  3.938823934949966e+19\n",
      "RMSE\t:  6276005046.96257\n",
      "MAE\t:  6189970075.517405\n",
      "R2\t:  -2247800.746198961\n"
     ]
    }
   ],
   "source": [
    "pred = arima.predict(25)[:25]\n",
    "actual = df['total_sales'][:25]\n",
    "\n",
    "mse_sarimax = mean_squared_error(actual, pred)\n",
    "rmse_sarimax = np.sqrt(mse_sarimax)\n",
    "mae_sarimax = mean_absolute_error(actual,pred)\n",
    "r2_sarimax = r2_score(actual,pred)\n",
    "\n",
    "print(\"MSE\\t: \", mse_sarimax)\n",
    "print(\"RMSE\\t: \", rmse_sarimax)\n",
    "print(\"MAE\\t: \", mae_sarimax)\n",
    "print(\"R2\\t: \", r2_sarimax)"
   ]
  },
  {
   "cell_type": "code",
   "execution_count": 145,
   "metadata": {},
   "outputs": [
    {
     "data": {
      "text/html": [
       "<div>\n",
       "<style scoped>\n",
       "    .dataframe tbody tr th:only-of-type {\n",
       "        vertical-align: middle;\n",
       "    }\n",
       "\n",
       "    .dataframe tbody tr th {\n",
       "        vertical-align: top;\n",
       "    }\n",
       "\n",
       "    .dataframe thead th {\n",
       "        text-align: right;\n",
       "    }\n",
       "</style>\n",
       "<table border=\"1\" class=\"dataframe\">\n",
       "  <thead>\n",
       "    <tr style=\"text-align: right;\">\n",
       "      <th></th>\n",
       "      <th>Method</th>\n",
       "      <th>Algorithm</th>\n",
       "      <th>MSE</th>\n",
       "      <th>RMSE</th>\n",
       "      <th>MAE</th>\n",
       "      <th>R2</th>\n",
       "    </tr>\n",
       "  </thead>\n",
       "  <tbody>\n",
       "    <tr>\n",
       "      <th>0</th>\n",
       "      <td>Time Series</td>\n",
       "      <td>SARIMAX</td>\n",
       "      <td>3.938824e+19</td>\n",
       "      <td>6.276005e+09</td>\n",
       "      <td>6.189970e+09</td>\n",
       "      <td>-2.247801e+06</td>\n",
       "    </tr>\n",
       "  </tbody>\n",
       "</table>\n",
       "</div>"
      ],
      "text/plain": [
       "        Method Algorithm           MSE          RMSE           MAE  \\\n",
       "0  Time Series   SARIMAX  3.938824e+19  6.276005e+09  6.189970e+09   \n",
       "\n",
       "             R2  \n",
       "0 -2.247801e+06  "
      ]
     },
     "execution_count": 145,
     "metadata": {},
     "output_type": "execute_result"
    }
   ],
   "source": [
    "get_metric(actual, pred, \"Time Series\", \"SARIMAX\")"
   ]
  },
  {
   "attachments": {},
   "cell_type": "markdown",
   "metadata": {},
   "source": [
    "# Forecasting with ARIMA"
   ]
  },
  {
   "cell_type": "code",
   "execution_count": 146,
   "metadata": {},
   "outputs": [],
   "source": [
    "import pmdarima as pm\n",
    "from statsmodels.tsa.arima.model import ARIMA\n",
    "import statsmodels.api as sm"
   ]
  },
  {
   "cell_type": "code",
   "execution_count": 147,
   "metadata": {},
   "outputs": [
    {
     "data": {
      "text/plain": [
       "<AxesSubplot:xlabel='date'>"
      ]
     },
     "execution_count": 147,
     "metadata": {},
     "output_type": "execute_result"
    },
    {
     "data": {
      "image/png": "[encoded data removed]",
      "text/plain": [
       "<Figure size 1080x360 with 1 Axes>"
      ]
     },
     "metadata": {
      "needs_background": "light"
     },
     "output_type": "display_data"
    }
   ],
   "source": [
    "series = df.copy()\n",
    "series.set_index('date', inplace=True)\n",
    "data = series[['total_sales']]\n",
    "data = data.resample('D').sum()\n",
    "data.plot(figsize=(15,5))"
   ]
  },
  {
   "cell_type": "code",
   "execution_count": 148,
   "metadata": {},
   "outputs": [
    {
     "name": "stdout",
     "output_type": "stream",
     "text": [
      "Performing stepwise search to minimize aicc\n",
      " ARIMA(2,0,2)(1,0,1)[12] intercept   : AICC=inf, Time=1.50 sec\n",
      " ARIMA(0,0,0)(0,0,0)[12] intercept   : AICC=11040.169, Time=0.02 sec\n",
      " ARIMA(1,0,0)(1,0,0)[12] intercept   : AICC=10895.807, Time=0.26 sec\n",
      " ARIMA(0,0,1)(0,0,1)[12] intercept   : AICC=10950.876, Time=0.13 sec\n",
      " ARIMA(0,0,0)(0,0,0)[12]             : AICC=11270.236, Time=0.01 sec\n",
      " ARIMA(1,0,0)(0,0,0)[12] intercept   : AICC=10893.741, Time=0.02 sec\n",
      " ARIMA(1,0,0)(0,0,1)[12] intercept   : AICC=10895.793, Time=0.12 sec\n",
      " ARIMA(1,0,0)(1,0,1)[12] intercept   : AICC=10897.861, Time=0.28 sec\n",
      " ARIMA(2,0,0)(0,0,0)[12] intercept   : AICC=10889.781, Time=0.05 sec\n",
      " ARIMA(2,0,0)(1,0,0)[12] intercept   : AICC=10890.609, Time=0.46 sec\n",
      " ARIMA(2,0,0)(0,0,1)[12] intercept   : AICC=10890.536, Time=0.19 sec\n",
      " ARIMA(2,0,0)(1,0,1)[12] intercept   : AICC=10892.638, Time=0.35 sec\n",
      " ARIMA(3,0,0)(0,0,0)[12] intercept   : AICC=10888.384, Time=0.07 sec\n",
      " ARIMA(3,0,0)(1,0,0)[12] intercept   : AICC=10890.317, Time=0.33 sec\n",
      " ARIMA(3,0,0)(0,0,1)[12] intercept   : AICC=10890.316, Time=0.21 sec\n",
      " ARIMA(3,0,0)(1,0,1)[12] intercept   : AICC=10892.441, Time=0.52 sec\n",
      " ARIMA(4,0,0)(0,0,0)[12] intercept   : AICC=10885.778, Time=0.09 sec\n",
      " ARIMA(4,0,0)(1,0,0)[12] intercept   : AICC=10887.345, Time=0.87 sec\n",
      " ARIMA(4,0,0)(0,0,1)[12] intercept   : AICC=10887.273, Time=0.26 sec\n",
      " ARIMA(4,0,0)(1,0,1)[12] intercept   : AICC=10889.393, Time=0.48 sec\n",
      " ARIMA(5,0,0)(0,0,0)[12] intercept   : AICC=10880.879, Time=0.12 sec\n",
      " ARIMA(5,0,0)(1,0,0)[12] intercept   : AICC=10872.901, Time=1.13 sec\n",
      " ARIMA(5,0,0)(2,0,0)[12] intercept   : AICC=10874.801, Time=1.74 sec\n",
      " ARIMA(5,0,0)(1,0,1)[12] intercept   : AICC=10875.049, Time=0.97 sec\n",
      " ARIMA(5,0,0)(0,0,1)[12] intercept   : AICC=10874.049, Time=0.41 sec\n",
      " ARIMA(5,0,0)(2,0,1)[12] intercept   : AICC=inf, Time=4.22 sec\n",
      " ARIMA(5,0,1)(1,0,0)[12] intercept   : AICC=10851.373, Time=0.95 sec\n",
      " ARIMA(5,0,1)(0,0,0)[12] intercept   : AICC=10864.124, Time=0.31 sec\n",
      " ARIMA(5,0,1)(2,0,0)[12] intercept   : AICC=10853.045, Time=1.70 sec\n",
      " ARIMA(5,0,1)(1,0,1)[12] intercept   : AICC=10852.485, Time=1.24 sec\n",
      " ARIMA(5,0,1)(0,0,1)[12] intercept   : AICC=10850.308, Time=0.67 sec\n",
      " ARIMA(5,0,1)(0,0,2)[12] intercept   : AICC=10852.487, Time=1.36 sec\n",
      " ARIMA(5,0,1)(1,0,2)[12] intercept   : AICC=10854.627, Time=2.06 sec\n",
      " ARIMA(4,0,1)(0,0,1)[12] intercept   : AICC=10888.454, Time=0.68 sec\n",
      " ARIMA(5,0,2)(0,0,1)[12] intercept   : AICC=10825.815, Time=1.24 sec\n",
      " ARIMA(5,0,2)(0,0,0)[12] intercept   : AICC=10835.926, Time=0.65 sec\n",
      " ARIMA(5,0,2)(1,0,1)[12] intercept   : AICC=10827.469, Time=1.71 sec\n",
      " ARIMA(5,0,2)(0,0,2)[12] intercept   : AICC=10827.681, Time=2.40 sec\n",
      " ARIMA(5,0,2)(1,0,0)[12] intercept   : AICC=10828.874, Time=1.67 sec\n",
      " ARIMA(5,0,2)(1,0,2)[12] intercept   : AICC=10849.482, Time=2.10 sec\n",
      " ARIMA(4,0,2)(0,0,1)[12] intercept   : AICC=10864.271, Time=1.19 sec\n",
      " ARIMA(5,0,3)(0,0,1)[12] intercept   : AICC=10826.110, Time=2.06 sec\n",
      " ARIMA(4,0,3)(0,0,1)[12] intercept   : AICC=inf, Time=1.69 sec\n",
      " ARIMA(5,0,2)(0,0,1)[12]             : AICC=10829.347, Time=1.62 sec\n",
      "\n",
      "Best model:  ARIMA(5,0,2)(0,0,1)[12] intercept\n",
      "Total fit time: 40.134 seconds\n"
     ]
    }
   ],
   "source": [
    "X_train, X_test = data[:-25], data[-25:]\n",
    "\n",
    "arima = auto_arima(X_train, seasonal=True, m=12, information_criterion='aicc', trace=True, suppress_warnings=True, random_state=42)"
   ]
  },
  {
   "cell_type": "code",
   "execution_count": 149,
   "metadata": {},
   "outputs": [
    {
     "name": "stdout",
     "output_type": "stream",
     "text": [
      "                               SARIMAX Results                                \n",
      "==============================================================================\n",
      "Dep. Variable:            total_sales   No. Observations:                  232\n",
      "Model:                 ARIMA(5, 0, 2)   Log Likelihood               -5406.757\n",
      "Date:                Fri, 30 Dec 2022   AIC                          10831.513\n",
      "Time:                        18:55:02   BIC                          10862.534\n",
      "Sample:                    02-21-2018   HQIC                         10844.023\n",
      "                         - 10-10-2018                                         \n",
      "Covariance Type:                  opg                                         \n",
      "==============================================================================\n",
      "                 coef    std err          z      P>|z|      [0.025      0.975]\n",
      "------------------------------------------------------------------------------\n",
      "const       6.777e+09   5.19e-12   1.31e+21      0.000    6.78e+09    6.78e+09\n",
      "ar.L1         -0.8620      0.098     -8.836      0.000      -1.053      -0.671\n",
      "ar.L2          0.2074      0.114      1.824      0.068      -0.016       0.430\n",
      "ar.L3          0.4706      0.102      4.631      0.000       0.271       0.670\n",
      "ar.L4          0.2283      0.142      1.607      0.108      -0.050       0.507\n",
      "ar.L5          0.3700      0.094      3.930      0.000       0.185       0.554\n",
      "ma.L1          1.6445      0.068     24.209      0.000       1.511       1.778\n",
      "ma.L2          0.8368      0.066     12.754      0.000       0.708       0.965\n",
      "sigma2      1.255e+19   3.57e-21   3.52e+39      0.000    1.26e+19    1.26e+19\n",
      "===================================================================================\n",
      "Ljung-Box (L1) (Q):                   0.04   Jarque-Bera (JB):                 1.04\n",
      "Prob(Q):                              0.84   Prob(JB):                         0.59\n",
      "Heteroskedasticity (H):               0.57   Skew:                            -0.09\n",
      "Prob(H) (two-sided):                  0.01   Kurtosis:                         3.27\n",
      "===================================================================================\n",
      "\n",
      "Warnings:\n",
      "[1] Covariance matrix calculated using the outer product of gradients (complex-step).\n",
      "[2] Covariance matrix is singular or near-singular, with condition number 5.47e+54. Standard errors may be unstable.\n"
     ]
    }
   ],
   "source": [
    "model = ARIMA(X_train, order=(5,0,2))\n",
    "results = model.fit()\n",
    "print(results.summary())"
   ]
  },
  {
   "cell_type": "code",
   "execution_count": 150,
   "metadata": {},
   "outputs": [
    {
     "data": {
      "text/plain": [
       "<matplotlib.legend.Legend at 0x196bbeb7a00>"
      ]
     },
     "execution_count": 150,
     "metadata": {},
     "output_type": "execute_result"
    },
    {
     "data": {
      "image/png": "[encoded data removed]",
      "text/plain": [
       "<Figure size 1080x360 with 1 Axes>"
      ]
     },
     "metadata": {
      "needs_background": "light"
     },
     "output_type": "display_data"
    }
   ],
   "source": [
    "n_forecast = len(X_test) + 20\n",
    "pred = results.predict(n_forecast)\n",
    "\n",
    "plt.figure(figsize=(15,5))\n",
    "plt.plot(X_train, \"b-\", label=\"train\")\n",
    "plt.plot(X_test, \"r-\", label=\"test\")\n",
    "plt.plot(pred, \"g--\", label=\"pred\")\n",
    "plt.legend()"
   ]
  },
  {
   "cell_type": "code",
   "execution_count": 151,
   "metadata": {},
   "outputs": [
    {
     "data": {
      "text/plain": [
       "<matplotlib.legend.Legend at 0x196cbc57dc0>"
      ]
     },
     "execution_count": 151,
     "metadata": {},
     "output_type": "execute_result"
    },
    {
     "data": {
      "image/png": "[encoded data removed]",
      "text/plain": [
       "<Figure size 1080x360 with 1 Axes>"
      ]
     },
     "metadata": {
      "needs_background": "light"
     },
     "output_type": "display_data"
    }
   ],
   "source": [
    "plt.figure(figsize=(15,5))\n",
    "plt.plot(pred, \"g--\", label=\"pred\")\n",
    "plt.legend()"
   ]
  },
  {
   "cell_type": "code",
   "execution_count": 152,
   "metadata": {},
   "outputs": [
    {
     "name": "stdout",
     "output_type": "stream",
     "text": [
      "MSE\t:  1.4693251537976866e+20\n",
      "RMSE\t:  12121572314.669771\n",
      "MAE\t:  11148252517.83284\n",
      "R2\t:  -8385120.297589685\n"
     ]
    }
   ],
   "source": [
    "pred = results.predict(25)[:25]\n",
    "actual = df['total_sales'][:25]\n",
    "\n",
    "mse_arima = mean_squared_error(actual, pred)\n",
    "rmse_arima = np.sqrt(mse_arima)\n",
    "mae_arima = mean_absolute_error(actual,pred)\n",
    "r2_arima = r2_score(actual,pred)\n",
    "\n",
    "print(\"MSE\\t: \", mse_arima)\n",
    "print(\"RMSE\\t: \", rmse_arima)\n",
    "print(\"MAE\\t: \", mae_arima)\n",
    "print(\"R2\\t: \", r2_arima)"
   ]
  },
  {
   "cell_type": "code",
   "execution_count": 153,
   "metadata": {},
   "outputs": [
    {
     "data": {
      "text/html": [
       "<div>\n",
       "<style scoped>\n",
       "    .dataframe tbody tr th:only-of-type {\n",
       "        vertical-align: middle;\n",
       "    }\n",
       "\n",
       "    .dataframe tbody tr th {\n",
       "        vertical-align: top;\n",
       "    }\n",
       "\n",
       "    .dataframe thead th {\n",
       "        text-align: right;\n",
       "    }\n",
       "</style>\n",
       "<table border=\"1\" class=\"dataframe\">\n",
       "  <thead>\n",
       "    <tr style=\"text-align: right;\">\n",
       "      <th></th>\n",
       "      <th>Method</th>\n",
       "      <th>Algorithm</th>\n",
       "      <th>MSE</th>\n",
       "      <th>RMSE</th>\n",
       "      <th>MAE</th>\n",
       "      <th>R2</th>\n",
       "    </tr>\n",
       "  </thead>\n",
       "  <tbody>\n",
       "    <tr>\n",
       "      <th>0</th>\n",
       "      <td>Time Series</td>\n",
       "      <td>SARIMAX</td>\n",
       "      <td>3.938824e+19</td>\n",
       "      <td>6.276005e+09</td>\n",
       "      <td>6.189970e+09</td>\n",
       "      <td>-2.247801e+06</td>\n",
       "    </tr>\n",
       "    <tr>\n",
       "      <th>1</th>\n",
       "      <td>Time Series</td>\n",
       "      <td>ARIMA</td>\n",
       "      <td>1.469325e+20</td>\n",
       "      <td>1.212157e+10</td>\n",
       "      <td>1.114825e+10</td>\n",
       "      <td>-8.385120e+06</td>\n",
       "    </tr>\n",
       "  </tbody>\n",
       "</table>\n",
       "</div>"
      ],
      "text/plain": [
       "        Method Algorithm           MSE          RMSE           MAE  \\\n",
       "0  Time Series   SARIMAX  3.938824e+19  6.276005e+09  6.189970e+09   \n",
       "1  Time Series     ARIMA  1.469325e+20  1.212157e+10  1.114825e+10   \n",
       "\n",
       "             R2  \n",
       "0 -2.247801e+06  \n",
       "1 -8.385120e+06  "
      ]
     },
     "execution_count": 153,
     "metadata": {},
     "output_type": "execute_result"
    }
   ],
   "source": [
    "get_metric(actual, pred, \"Time Series\", \"ARIMA\")"
   ]
  },
  {
   "attachments": {},
   "cell_type": "markdown",
   "metadata": {},
   "source": [
    "# Forecast with Model Machine Learning"
   ]
  },
  {
   "attachments": {},
   "cell_type": "markdown",
   "metadata": {},
   "source": [
    "Shifting the data with 7 periods"
   ]
  },
  {
   "cell_type": "code",
   "execution_count": 154,
   "metadata": {},
   "outputs": [
    {
     "data": {
      "text/html": [
       "<div>\n",
       "<style scoped>\n",
       "    .dataframe tbody tr th:only-of-type {\n",
       "        vertical-align: middle;\n",
       "    }\n",
       "\n",
       "    .dataframe tbody tr th {\n",
       "        vertical-align: top;\n",
       "    }\n",
       "\n",
       "    .dataframe thead th {\n",
       "        text-align: right;\n",
       "    }\n",
       "</style>\n",
       "<table border=\"1\" class=\"dataframe\">\n",
       "  <thead>\n",
       "    <tr style=\"text-align: right;\">\n",
       "      <th></th>\n",
       "      <th>total_sales</th>\n",
       "      <th>lag_1</th>\n",
       "      <th>lag_2</th>\n",
       "      <th>lag_3</th>\n",
       "      <th>lag_4</th>\n",
       "      <th>lag_5</th>\n",
       "      <th>lag_6</th>\n",
       "      <th>lag_7</th>\n",
       "    </tr>\n",
       "    <tr>\n",
       "      <th>date</th>\n",
       "      <th></th>\n",
       "      <th></th>\n",
       "      <th></th>\n",
       "      <th></th>\n",
       "      <th></th>\n",
       "      <th></th>\n",
       "      <th></th>\n",
       "      <th></th>\n",
       "    </tr>\n",
       "  </thead>\n",
       "  <tbody>\n",
       "    <tr>\n",
       "      <th>2018-02-21</th>\n",
       "      <td>32030000</td>\n",
       "      <td>0.0</td>\n",
       "      <td>0.0</td>\n",
       "      <td>0.0</td>\n",
       "      <td>0.0</td>\n",
       "      <td>0.0</td>\n",
       "      <td>0.0</td>\n",
       "      <td>0.0</td>\n",
       "    </tr>\n",
       "    <tr>\n",
       "      <th>2018-02-22</th>\n",
       "      <td>0</td>\n",
       "      <td>32030000.0</td>\n",
       "      <td>0.0</td>\n",
       "      <td>0.0</td>\n",
       "      <td>0.0</td>\n",
       "      <td>0.0</td>\n",
       "      <td>0.0</td>\n",
       "      <td>0.0</td>\n",
       "    </tr>\n",
       "    <tr>\n",
       "      <th>2018-02-23</th>\n",
       "      <td>180000</td>\n",
       "      <td>0.0</td>\n",
       "      <td>32030000.0</td>\n",
       "      <td>0.0</td>\n",
       "      <td>0.0</td>\n",
       "      <td>0.0</td>\n",
       "      <td>0.0</td>\n",
       "      <td>0.0</td>\n",
       "    </tr>\n",
       "    <tr>\n",
       "      <th>2018-02-24</th>\n",
       "      <td>0</td>\n",
       "      <td>180000.0</td>\n",
       "      <td>0.0</td>\n",
       "      <td>32030000.0</td>\n",
       "      <td>0.0</td>\n",
       "      <td>0.0</td>\n",
       "      <td>0.0</td>\n",
       "      <td>0.0</td>\n",
       "    </tr>\n",
       "    <tr>\n",
       "      <th>2018-02-25</th>\n",
       "      <td>0</td>\n",
       "      <td>0.0</td>\n",
       "      <td>180000.0</td>\n",
       "      <td>0.0</td>\n",
       "      <td>32030000.0</td>\n",
       "      <td>0.0</td>\n",
       "      <td>0.0</td>\n",
       "      <td>0.0</td>\n",
       "    </tr>\n",
       "    <tr>\n",
       "      <th>2018-02-26</th>\n",
       "      <td>0</td>\n",
       "      <td>0.0</td>\n",
       "      <td>0.0</td>\n",
       "      <td>180000.0</td>\n",
       "      <td>0.0</td>\n",
       "      <td>32030000.0</td>\n",
       "      <td>0.0</td>\n",
       "      <td>0.0</td>\n",
       "    </tr>\n",
       "    <tr>\n",
       "      <th>2018-02-27</th>\n",
       "      <td>0</td>\n",
       "      <td>0.0</td>\n",
       "      <td>0.0</td>\n",
       "      <td>0.0</td>\n",
       "      <td>180000.0</td>\n",
       "      <td>0.0</td>\n",
       "      <td>32030000.0</td>\n",
       "      <td>0.0</td>\n",
       "    </tr>\n",
       "  </tbody>\n",
       "</table>\n",
       "</div>"
      ],
      "text/plain": [
       "            total_sales       lag_1       lag_2       lag_3       lag_4  \\\n",
       "date                                                                      \n",
       "2018-02-21     32030000         0.0         0.0         0.0         0.0   \n",
       "2018-02-22            0  32030000.0         0.0         0.0         0.0   \n",
       "2018-02-23       180000         0.0  32030000.0         0.0         0.0   \n",
       "2018-02-24            0    180000.0         0.0  32030000.0         0.0   \n",
       "2018-02-25            0         0.0    180000.0         0.0  32030000.0   \n",
       "2018-02-26            0         0.0         0.0    180000.0         0.0   \n",
       "2018-02-27            0         0.0         0.0         0.0    180000.0   \n",
       "\n",
       "                 lag_5       lag_6  lag_7  \n",
       "date                                       \n",
       "2018-02-21         0.0         0.0    0.0  \n",
       "2018-02-22         0.0         0.0    0.0  \n",
       "2018-02-23         0.0         0.0    0.0  \n",
       "2018-02-24         0.0         0.0    0.0  \n",
       "2018-02-25         0.0         0.0    0.0  \n",
       "2018-02-26  32030000.0         0.0    0.0  \n",
       "2018-02-27         0.0  32030000.0    0.0  "
      ]
     },
     "execution_count": 154,
     "metadata": {},
     "output_type": "execute_result"
    }
   ],
   "source": [
    "data = df.copy()\n",
    "data.set_index('date', inplace=True)\n",
    "df_model = data[['total_sales']]\n",
    "df_model = df_model.resample('D').sum()\n",
    "\n",
    "df_model['lag_1'] =  df_model['total_sales'].shift(periods=1)\n",
    "df_model['lag_2'] =  df_model['total_sales'].shift(periods=2)\n",
    "df_model['lag_3'] =  df_model['total_sales'].shift(periods=3)\n",
    "df_model['lag_4'] =  df_model['total_sales'].shift(periods=4)\n",
    "df_model['lag_5'] =  df_model['total_sales'].shift(periods=5)\n",
    "df_model['lag_6'] =  df_model['total_sales'].shift(periods=6)\n",
    "df_model['lag_7'] =  df_model['total_sales'].shift(periods=7)\n",
    "df_model.fillna(0, inplace=True)\n",
    "df_model.head(7)\n"
   ]
  },
  {
   "attachments": {},
   "cell_type": "markdown",
   "metadata": {},
   "source": [
    "### Splitting Data"
   ]
  },
  {
   "cell_type": "code",
   "execution_count": 155,
   "metadata": {},
   "outputs": [],
   "source": [
    "def train_test_split(data, days):\n",
    "    X_train = data.iloc[:-days , 1:]  # removing last 30 days and total_sales col\n",
    "    y_train = data.iloc[:-days , :1] # removing last 30 days and only taking total_Sales col\n",
    "    X_test = data.iloc[-days: , 1:]  # considering last 30 days without total sales\n",
    "    y_test = data.iloc[-days: , :1]  # total sales of last 30 days\n",
    "    \n",
    "    return X_train, y_train, X_test, y_test\n",
    "\n",
    "X_train, y_train, X_test, y_test = train_test_split(df_model, 30)"
   ]
  },
  {
   "attachments": {},
   "cell_type": "markdown",
   "metadata": {},
   "source": [
    "### Random Forest"
   ]
  },
  {
   "cell_type": "code",
   "execution_count": 156,
   "metadata": {},
   "outputs": [
    {
     "data": {
      "text/html": [
       "<style>#sk-container-id-4 {color: black;background-color: white;}#sk-container-id-4 pre{padding: 0;}#sk-container-id-4 div.sk-toggleable {background-color: white;}#sk-container-id-4 label.sk-toggleable__label {cursor: pointer;display: block;width: 100%;margin-bottom: 0;padding: 0.3em;box-sizing: border-box;text-align: center;}#sk-container-id-4 label.sk-toggleable__label-arrow:before {content: \"▸\";float: left;margin-right: 0.25em;color: #696969;}#sk-container-id-4 label.sk-toggleable__label-arrow:hover:before {color: black;}#sk-container-id-4 div.sk-estimator:hover label.sk-toggleable__label-arrow:before {color: black;}#sk-container-id-4 div.sk-toggleable__content {max-height: 0;max-width: 0;overflow: hidden;text-align: left;background-color: #f0f8ff;}#sk-container-id-4 div.sk-toggleable__content pre {margin: 0.2em;color: black;border-radius: 0.25em;background-color: #f0f8ff;}#sk-container-id-4 input.sk-toggleable__control:checked~div.sk-toggleable__content {max-height: 200px;max-width: 100%;overflow: auto;}#sk-container-id-4 input.sk-toggleable__control:checked~label.sk-toggleable__label-arrow:before {content: \"▾\";}#sk-container-id-4 div.sk-estimator input.sk-toggleable__control:checked~label.sk-toggleable__label {background-color: #d4ebff;}#sk-container-id-4 div.sk-label input.sk-toggleable__control:checked~label.sk-toggleable__label {background-color: #d4ebff;}#sk-container-id-4 input.sk-hidden--visually {border: 0;clip: rect(1px 1px 1px 1px);clip: rect(1px, 1px, 1px, 1px);height: 1px;margin: -1px;overflow: hidden;padding: 0;position: absolute;width: 1px;}#sk-container-id-4 div.sk-estimator {font-family: monospace;background-color: #f0f8ff;border: 1px dotted black;border-radius: 0.25em;box-sizing: border-box;margin-bottom: 0.5em;}#sk-container-id-4 div.sk-estimator:hover {background-color: #d4ebff;}#sk-container-id-4 div.sk-parallel-item::after {content: \"\";width: 100%;border-bottom: 1px solid gray;flex-grow: 1;}#sk-container-id-4 div.sk-label:hover label.sk-toggleable__label {background-color: #d4ebff;}#sk-container-id-4 div.sk-serial::before {content: \"\";position: absolute;border-left: 1px solid gray;box-sizing: border-box;top: 0;bottom: 0;left: 50%;z-index: 0;}#sk-container-id-4 div.sk-serial {display: flex;flex-direction: column;align-items: center;background-color: white;padding-right: 0.2em;padding-left: 0.2em;position: relative;}#sk-container-id-4 div.sk-item {position: relative;z-index: 1;}#sk-container-id-4 div.sk-parallel {display: flex;align-items: stretch;justify-content: center;background-color: white;position: relative;}#sk-container-id-4 div.sk-item::before, #sk-container-id-4 div.sk-parallel-item::before {content: \"\";position: absolute;border-left: 1px solid gray;box-sizing: border-box;top: 0;bottom: 0;left: 50%;z-index: -1;}#sk-container-id-4 div.sk-parallel-item {display: flex;flex-direction: column;z-index: 1;position: relative;background-color: white;}#sk-container-id-4 div.sk-parallel-item:first-child::after {align-self: flex-end;width: 50%;}#sk-container-id-4 div.sk-parallel-item:last-child::after {align-self: flex-start;width: 50%;}#sk-container-id-4 div.sk-parallel-item:only-child::after {width: 0;}#sk-container-id-4 div.sk-dashed-wrapped {border: 1px dashed gray;margin: 0 0.4em 0.5em 0.4em;box-sizing: border-box;padding-bottom: 0.4em;background-color: white;}#sk-container-id-4 div.sk-label label {font-family: monospace;font-weight: bold;display: inline-block;line-height: 1.2em;}#sk-container-id-4 div.sk-label-container {text-align: center;}#sk-container-id-4 div.sk-container {/* jupyter's `normalize.less` sets `[hidden] { display: none; }` but bootstrap.min.css set `[hidden] { display: none !important; }` so we also need the `!important` here to be able to override the default hidden behavior on the sphinx rendered scikit-learn.org. See: https://github.com/scikit-learn/scikit-learn/issues/21755 */display: inline-block !important;position: relative;}#sk-container-id-4 div.sk-text-repr-fallback {display: none;}</style><div id=\"sk-container-id-4\" class=\"sk-top-container\"><div class=\"sk-text-repr-fallback\"><pre>RandomForestRegressor(n_jobs=-1, random_state=42)</pre><b>In a Jupyter environment, please rerun this cell to show the HTML representation or trust the notebook. <br />On GitHub, the HTML representation is unable to render, please try loading this page with nbviewer.org.</b></div><div class=\"sk-container\" hidden><div class=\"sk-item\"><div class=\"sk-estimator sk-toggleable\"><input class=\"sk-toggleable__control sk-hidden--visually\" id=\"sk-estimator-id-4\" type=\"checkbox\" checked><label for=\"sk-estimator-id-4\" class=\"sk-toggleable__label sk-toggleable__label-arrow\">RandomForestRegressor</label><div class=\"sk-toggleable__content\"><pre>RandomForestRegressor(n_jobs=-1, random_state=42)</pre></div></div></div></div></div>"
      ],
      "text/plain": [
       "RandomForestRegressor(n_jobs=-1, random_state=42)"
      ]
     },
     "execution_count": 156,
     "metadata": {},
     "output_type": "execute_result"
    }
   ],
   "source": [
    "from sklearn.ensemble import RandomForestRegressor\n",
    "\n",
    "model_RF = RandomForestRegressor(n_jobs=-1, random_state=42)\n",
    "model_RF.fit(X_train, y_train)"
   ]
  },
  {
   "cell_type": "code",
   "execution_count": 157,
   "metadata": {},
   "outputs": [
    {
     "name": "stdout",
     "output_type": "stream",
     "text": [
      "Training\t: 0.9578089712496521\n",
      "Testing\t\t: 0.6332954651404283\n"
     ]
    }
   ],
   "source": [
    "print('Training\\t:', model_RF.score(X_train, y_train))\n",
    "print('Testing\\t\\t:', model_RF.score(X_test, y_test))"
   ]
  },
  {
   "attachments": {},
   "cell_type": "markdown",
   "metadata": {},
   "source": [
    "##### Hasil Training Random Forest"
   ]
  },
  {
   "cell_type": "code",
   "execution_count": 158,
   "metadata": {},
   "outputs": [
    {
     "name": "stdout",
     "output_type": "stream",
     "text": [
      "MSE\t:  1.1451272553088384e+18\n",
      "RMSE\t:  1070106188.8003631\n",
      "MAE\t:  731042261.2913399\n",
      "R2\t:  0.9578089712496521\n"
     ]
    }
   ],
   "source": [
    "y_train_pred = model_RF.predict(X_train)\n",
    "\n",
    "mse_RF = mean_squared_error(y_train,y_train_pred)\n",
    "rmse_RF = np.sqrt(mse_RF)\n",
    "mae_RF = mean_absolute_error(y_train,y_train_pred)\n",
    "r2_RF = r2_score(y_train,y_train_pred)\n",
    "\n",
    "print(\"MSE\\t: \", mse_RF)\n",
    "print(\"RMSE\\t: \", rmse_RF)\n",
    "print(\"MAE\\t: \", mae_RF)\n",
    "print(\"R2\\t: \", r2_RF)"
   ]
  },
  {
   "attachments": {},
   "cell_type": "markdown",
   "metadata": {},
   "source": [
    "#### Hasil Testing Random Forest "
   ]
  },
  {
   "cell_type": "code",
   "execution_count": 159,
   "metadata": {},
   "outputs": [
    {
     "name": "stdout",
     "output_type": "stream",
     "text": [
      "MSE\t:  7.597239276338391e+18\n",
      "RMSE\t:  2756308995.0762763\n",
      "MAE\t:  1954331992.758334\n",
      "R2\t:  0.6332954651404283\n"
     ]
    }
   ],
   "source": [
    "y_test_pred = model_RF.predict(X_test)\n",
    "\n",
    "mse_RF = mean_squared_error(y_test,y_test_pred)\n",
    "rmse_RF = np.sqrt(mse_RF)\n",
    "mae_RF = mean_absolute_error(y_test,y_test_pred)\n",
    "r2_RF = r2_score(y_test,y_test_pred)\n",
    "\n",
    "print(\"MSE\\t: \", mse_RF)\n",
    "print(\"RMSE\\t: \", rmse_RF)\n",
    "print(\"MAE\\t: \", mae_RF)\n",
    "print(\"R2\\t: \", r2_RF)"
   ]
  },
  {
   "attachments": {},
   "cell_type": "markdown",
   "metadata": {},
   "source": [
    "#### Hasil"
   ]
  },
  {
   "cell_type": "code",
   "execution_count": 160,
   "metadata": {},
   "outputs": [
    {
     "data": {
      "text/html": [
       "<div>\n",
       "<style scoped>\n",
       "    .dataframe tbody tr th:only-of-type {\n",
       "        vertical-align: middle;\n",
       "    }\n",
       "\n",
       "    .dataframe tbody tr th {\n",
       "        vertical-align: top;\n",
       "    }\n",
       "\n",
       "    .dataframe thead th {\n",
       "        text-align: right;\n",
       "    }\n",
       "</style>\n",
       "<table border=\"1\" class=\"dataframe\">\n",
       "  <thead>\n",
       "    <tr style=\"text-align: right;\">\n",
       "      <th></th>\n",
       "      <th>Method</th>\n",
       "      <th>Algorithm</th>\n",
       "      <th>MSE</th>\n",
       "      <th>RMSE</th>\n",
       "      <th>MAE</th>\n",
       "      <th>R2</th>\n",
       "    </tr>\n",
       "  </thead>\n",
       "  <tbody>\n",
       "    <tr>\n",
       "      <th>0</th>\n",
       "      <td>Time Series</td>\n",
       "      <td>SARIMAX</td>\n",
       "      <td>3.938824e+19</td>\n",
       "      <td>6.276005e+09</td>\n",
       "      <td>6.189970e+09</td>\n",
       "      <td>-2.247801e+06</td>\n",
       "    </tr>\n",
       "    <tr>\n",
       "      <th>1</th>\n",
       "      <td>Time Series</td>\n",
       "      <td>ARIMA</td>\n",
       "      <td>1.469325e+20</td>\n",
       "      <td>1.212157e+10</td>\n",
       "      <td>1.114825e+10</td>\n",
       "      <td>-8.385120e+06</td>\n",
       "    </tr>\n",
       "    <tr>\n",
       "      <th>2</th>\n",
       "      <td>Time Series</td>\n",
       "      <td>Random Forest</td>\n",
       "      <td>7.597239e+18</td>\n",
       "      <td>2.756309e+09</td>\n",
       "      <td>1.954332e+09</td>\n",
       "      <td>6.332955e-01</td>\n",
       "    </tr>\n",
       "  </tbody>\n",
       "</table>\n",
       "</div>"
      ],
      "text/plain": [
       "        Method      Algorithm           MSE          RMSE           MAE  \\\n",
       "0  Time Series        SARIMAX  3.938824e+19  6.276005e+09  6.189970e+09   \n",
       "1  Time Series          ARIMA  1.469325e+20  1.212157e+10  1.114825e+10   \n",
       "2  Time Series  Random Forest  7.597239e+18  2.756309e+09  1.954332e+09   \n",
       "\n",
       "             R2  \n",
       "0 -2.247801e+06  \n",
       "1 -8.385120e+06  \n",
       "2  6.332955e-01  "
      ]
     },
     "execution_count": 160,
     "metadata": {},
     "output_type": "execute_result"
    }
   ],
   "source": [
    "get_metric(y_test, y_test_pred, \"Time Series\", \"Random Forest\")"
   ]
  },
  {
   "attachments": {},
   "cell_type": "markdown",
   "metadata": {},
   "source": [
    "### XGBoost Regressor"
   ]
  },
  {
   "cell_type": "code",
   "execution_count": 161,
   "metadata": {},
   "outputs": [
    {
     "data": {
      "text/html": [
       "<style>#sk-container-id-5 {color: black;background-color: white;}#sk-container-id-5 pre{padding: 0;}#sk-container-id-5 div.sk-toggleable {background-color: white;}#sk-container-id-5 label.sk-toggleable__label {cursor: pointer;display: block;width: 100%;margin-bottom: 0;padding: 0.3em;box-sizing: border-box;text-align: center;}#sk-container-id-5 label.sk-toggleable__label-arrow:before {content: \"▸\";float: left;margin-right: 0.25em;color: #696969;}#sk-container-id-5 label.sk-toggleable__label-arrow:hover:before {color: black;}#sk-container-id-5 div.sk-estimator:hover label.sk-toggleable__label-arrow:before {color: black;}#sk-container-id-5 div.sk-toggleable__content {max-height: 0;max-width: 0;overflow: hidden;text-align: left;background-color: #f0f8ff;}#sk-container-id-5 div.sk-toggleable__content pre {margin: 0.2em;color: black;border-radius: 0.25em;background-color: #f0f8ff;}#sk-container-id-5 input.sk-toggleable__control:checked~div.sk-toggleable__content {max-height: 200px;max-width: 100%;overflow: auto;}#sk-container-id-5 input.sk-toggleable__control:checked~label.sk-toggleable__label-arrow:before {content: \"▾\";}#sk-container-id-5 div.sk-estimator input.sk-toggleable__control:checked~label.sk-toggleable__label {background-color: #d4ebff;}#sk-container-id-5 div.sk-label input.sk-toggleable__control:checked~label.sk-toggleable__label {background-color: #d4ebff;}#sk-container-id-5 input.sk-hidden--visually {border: 0;clip: rect(1px 1px 1px 1px);clip: rect(1px, 1px, 1px, 1px);height: 1px;margin: -1px;overflow: hidden;padding: 0;position: absolute;width: 1px;}#sk-container-id-5 div.sk-estimator {font-family: monospace;background-color: #f0f8ff;border: 1px dotted black;border-radius: 0.25em;box-sizing: border-box;margin-bottom: 0.5em;}#sk-container-id-5 div.sk-estimator:hover {background-color: #d4ebff;}#sk-container-id-5 div.sk-parallel-item::after {content: \"\";width: 100%;border-bottom: 1px solid gray;flex-grow: 1;}#sk-container-id-5 div.sk-label:hover label.sk-toggleable__label {background-color: #d4ebff;}#sk-container-id-5 div.sk-serial::before {content: \"\";position: absolute;border-left: 1px solid gray;box-sizing: border-box;top: 0;bottom: 0;left: 50%;z-index: 0;}#sk-container-id-5 div.sk-serial {display: flex;flex-direction: column;align-items: center;background-color: white;padding-right: 0.2em;padding-left: 0.2em;position: relative;}#sk-container-id-5 div.sk-item {position: relative;z-index: 1;}#sk-container-id-5 div.sk-parallel {display: flex;align-items: stretch;justify-content: center;background-color: white;position: relative;}#sk-container-id-5 div.sk-item::before, #sk-container-id-5 div.sk-parallel-item::before {content: \"\";position: absolute;border-left: 1px solid gray;box-sizing: border-box;top: 0;bottom: 0;left: 50%;z-index: -1;}#sk-container-id-5 div.sk-parallel-item {display: flex;flex-direction: column;z-index: 1;position: relative;background-color: white;}#sk-container-id-5 div.sk-parallel-item:first-child::after {align-self: flex-end;width: 50%;}#sk-container-id-5 div.sk-parallel-item:last-child::after {align-self: flex-start;width: 50%;}#sk-container-id-5 div.sk-parallel-item:only-child::after {width: 0;}#sk-container-id-5 div.sk-dashed-wrapped {border: 1px dashed gray;margin: 0 0.4em 0.5em 0.4em;box-sizing: border-box;padding-bottom: 0.4em;background-color: white;}#sk-container-id-5 div.sk-label label {font-family: monospace;font-weight: bold;display: inline-block;line-height: 1.2em;}#sk-container-id-5 div.sk-label-container {text-align: center;}#sk-container-id-5 div.sk-container {/* jupyter's `normalize.less` sets `[hidden] { display: none; }` but bootstrap.min.css set `[hidden] { display: none !important; }` so we also need the `!important` here to be able to override the default hidden behavior on the sphinx rendered scikit-learn.org. See: https://github.com/scikit-learn/scikit-learn/issues/21755 */display: inline-block !important;position: relative;}#sk-container-id-5 div.sk-text-repr-fallback {display: none;}</style><div id=\"sk-container-id-5\" class=\"sk-top-container\"><div class=\"sk-text-repr-fallback\"><pre>XGBRegressor(base_score=0.5, booster=&#x27;gbtree&#x27;, colsample_bylevel=1,\n",
       "             colsample_bynode=1, colsample_bytree=1, enable_categorical=False,\n",
       "             gamma=0, gpu_id=-1, importance_type=None,\n",
       "             interaction_constraints=&#x27;&#x27;, learning_rate=0.300000012,\n",
       "             max_delta_step=0, max_depth=6, min_child_weight=1, missing=nan,\n",
       "             monotone_constraints=&#x27;()&#x27;, n_estimators=100, n_jobs=-1,\n",
       "             num_parallel_tree=1, predictor=&#x27;auto&#x27;, random_state=42,\n",
       "             reg_alpha=0, reg_lambda=1, scale_pos_weight=1, subsample=1,\n",
       "             tree_method=&#x27;exact&#x27;, validate_parameters=1, verbosity=None)</pre><b>In a Jupyter environment, please rerun this cell to show the HTML representation or trust the notebook. <br />On GitHub, the HTML representation is unable to render, please try loading this page with nbviewer.org.</b></div><div class=\"sk-container\" hidden><div class=\"sk-item\"><div class=\"sk-estimator sk-toggleable\"><input class=\"sk-toggleable__control sk-hidden--visually\" id=\"sk-estimator-id-5\" type=\"checkbox\" checked><label for=\"sk-estimator-id-5\" class=\"sk-toggleable__label sk-toggleable__label-arrow\">XGBRegressor</label><div class=\"sk-toggleable__content\"><pre>XGBRegressor(base_score=0.5, booster=&#x27;gbtree&#x27;, colsample_bylevel=1,\n",
       "             colsample_bynode=1, colsample_bytree=1, enable_categorical=False,\n",
       "             gamma=0, gpu_id=-1, importance_type=None,\n",
       "             interaction_constraints=&#x27;&#x27;, learning_rate=0.300000012,\n",
       "             max_delta_step=0, max_depth=6, min_child_weight=1, missing=nan,\n",
       "             monotone_constraints=&#x27;()&#x27;, n_estimators=100, n_jobs=-1,\n",
       "             num_parallel_tree=1, predictor=&#x27;auto&#x27;, random_state=42,\n",
       "             reg_alpha=0, reg_lambda=1, scale_pos_weight=1, subsample=1,\n",
       "             tree_method=&#x27;exact&#x27;, validate_parameters=1, verbosity=None)</pre></div></div></div></div></div>"
      ],
      "text/plain": [
       "XGBRegressor(base_score=0.5, booster='gbtree', colsample_bylevel=1,\n",
       "             colsample_bynode=1, colsample_bytree=1, enable_categorical=False,\n",
       "             gamma=0, gpu_id=-1, importance_type=None,\n",
       "             interaction_constraints='', learning_rate=0.300000012,\n",
       "             max_delta_step=0, max_depth=6, min_child_weight=1, missing=nan,\n",
       "             monotone_constraints='()', n_estimators=100, n_jobs=-1,\n",
       "             num_parallel_tree=1, predictor='auto', random_state=42,\n",
       "             reg_alpha=0, reg_lambda=1, scale_pos_weight=1, subsample=1,\n",
       "             tree_method='exact', validate_parameters=1, verbosity=None)"
      ]
     },
     "execution_count": 161,
     "metadata": {},
     "output_type": "execute_result"
    }
   ],
   "source": [
    "from xgboost import XGBRegressor\n",
    "\n",
    "model_XGB = XGBRegressor(n_jobs=-1, random_state=42)\n",
    "model_XGB.fit(X_train, y_train)"
   ]
  },
  {
   "cell_type": "code",
   "execution_count": 162,
   "metadata": {},
   "outputs": [
    {
     "name": "stdout",
     "output_type": "stream",
     "text": [
      "Training\t: 0.9992749004174079\n",
      "Testing\t\t: 0.5482846891521059\n"
     ]
    }
   ],
   "source": [
    "print('Training\\t:', model_XGB.score(X_train, y_train))\n",
    "print('Testing\\t\\t:', model_XGB.score(X_test, y_test))"
   ]
  },
  {
   "attachments": {},
   "cell_type": "markdown",
   "metadata": {},
   "source": [
    "##### Hasil Training XGBoost"
   ]
  },
  {
   "cell_type": "code",
   "execution_count": 163,
   "metadata": {},
   "outputs": [
    {
     "name": "stdout",
     "output_type": "stream",
     "text": [
      "MSE\t:  1.968028084246384e+16\n",
      "RMSE\t:  140286424.29851806\n",
      "MAE\t:  18597521.601743184\n",
      "R2\t:  0.9992749004174079\n"
     ]
    }
   ],
   "source": [
    "y_train_pred = model_XGB.predict(X_train)\n",
    "\n",
    "mse_XGB = mean_squared_error(y_train,y_train_pred)\n",
    "rmse_XGB = np.sqrt(mse_XGB)\n",
    "mae_XGB = mean_absolute_error(y_train,y_train_pred)\n",
    "r2_XGB = r2_score(y_train,y_train_pred)\n",
    "\n",
    "print(\"MSE\\t: \", mse_XGB)\n",
    "print(\"RMSE\\t: \", rmse_XGB)\n",
    "print(\"MAE\\t: \", mae_XGB)\n",
    "print(\"R2\\t: \", r2_XGB)"
   ]
  },
  {
   "attachments": {},
   "cell_type": "markdown",
   "metadata": {},
   "source": [
    "#### Hasil Testing XGBoost"
   ]
  },
  {
   "cell_type": "code",
   "execution_count": 164,
   "metadata": {},
   "outputs": [
    {
     "name": "stdout",
     "output_type": "stream",
     "text": [
      "MSE\t:  9.35845885465043e+18\n",
      "RMSE\t:  3059159828.2290564\n",
      "MAE\t:  2096097255.5666666\n",
      "R2\t:  0.5482846891521059\n"
     ]
    }
   ],
   "source": [
    "y_test_pred = model_XGB.predict(X_test)\n",
    "\n",
    "mse_XGB = mean_squared_error(y_test,y_test_pred)\n",
    "rmse_XGB = np.sqrt(mse_XGB)\n",
    "mae_XGB = mean_absolute_error(y_test,y_test_pred)\n",
    "r2_XGB = r2_score(y_test,y_test_pred)\n",
    "\n",
    "print(\"MSE\\t: \", mse_XGB)\n",
    "print(\"RMSE\\t: \", rmse_XGB)\n",
    "print(\"MAE\\t: \", mae_XGB)\n",
    "print(\"R2\\t: \", r2_XGB)"
   ]
  },
  {
   "attachments": {},
   "cell_type": "markdown",
   "metadata": {},
   "source": [
    "#### Hasil"
   ]
  },
  {
   "cell_type": "code",
   "execution_count": 165,
   "metadata": {},
   "outputs": [
    {
     "data": {
      "text/html": [
       "<div>\n",
       "<style scoped>\n",
       "    .dataframe tbody tr th:only-of-type {\n",
       "        vertical-align: middle;\n",
       "    }\n",
       "\n",
       "    .dataframe tbody tr th {\n",
       "        vertical-align: top;\n",
       "    }\n",
       "\n",
       "    .dataframe thead th {\n",
       "        text-align: right;\n",
       "    }\n",
       "</style>\n",
       "<table border=\"1\" class=\"dataframe\">\n",
       "  <thead>\n",
       "    <tr style=\"text-align: right;\">\n",
       "      <th></th>\n",
       "      <th>Method</th>\n",
       "      <th>Algorithm</th>\n",
       "      <th>MSE</th>\n",
       "      <th>RMSE</th>\n",
       "      <th>MAE</th>\n",
       "      <th>R2</th>\n",
       "    </tr>\n",
       "  </thead>\n",
       "  <tbody>\n",
       "    <tr>\n",
       "      <th>0</th>\n",
       "      <td>Time Series</td>\n",
       "      <td>SARIMAX</td>\n",
       "      <td>3.938824e+19</td>\n",
       "      <td>6.276005e+09</td>\n",
       "      <td>6.189970e+09</td>\n",
       "      <td>-2.247801e+06</td>\n",
       "    </tr>\n",
       "    <tr>\n",
       "      <th>1</th>\n",
       "      <td>Time Series</td>\n",
       "      <td>ARIMA</td>\n",
       "      <td>1.469325e+20</td>\n",
       "      <td>1.212157e+10</td>\n",
       "      <td>1.114825e+10</td>\n",
       "      <td>-8.385120e+06</td>\n",
       "    </tr>\n",
       "    <tr>\n",
       "      <th>2</th>\n",
       "      <td>Time Series</td>\n",
       "      <td>Random Forest</td>\n",
       "      <td>7.597239e+18</td>\n",
       "      <td>2.756309e+09</td>\n",
       "      <td>1.954332e+09</td>\n",
       "      <td>6.332955e-01</td>\n",
       "    </tr>\n",
       "    <tr>\n",
       "      <th>3</th>\n",
       "      <td>Time Series</td>\n",
       "      <td>XGBosst Regressor</td>\n",
       "      <td>9.358459e+18</td>\n",
       "      <td>3.059160e+09</td>\n",
       "      <td>2.096097e+09</td>\n",
       "      <td>5.482847e-01</td>\n",
       "    </tr>\n",
       "  </tbody>\n",
       "</table>\n",
       "</div>"
      ],
      "text/plain": [
       "        Method          Algorithm           MSE          RMSE           MAE  \\\n",
       "0  Time Series            SARIMAX  3.938824e+19  6.276005e+09  6.189970e+09   \n",
       "1  Time Series              ARIMA  1.469325e+20  1.212157e+10  1.114825e+10   \n",
       "2  Time Series      Random Forest  7.597239e+18  2.756309e+09  1.954332e+09   \n",
       "3  Time Series  XGBosst Regressor  9.358459e+18  3.059160e+09  2.096097e+09   \n",
       "\n",
       "             R2  \n",
       "0 -2.247801e+06  \n",
       "1 -8.385120e+06  \n",
       "2  6.332955e-01  \n",
       "3  5.482847e-01  "
      ]
     },
     "execution_count": 165,
     "metadata": {},
     "output_type": "execute_result"
    }
   ],
   "source": [
    "get_metric(y_test, y_test_pred, \"Time Series\", \"XGBosst Regressor\")"
   ]
  },
  {
   "attachments": {},
   "cell_type": "markdown",
   "metadata": {},
   "source": [
    "### Linear Regression"
   ]
  },
  {
   "cell_type": "code",
   "execution_count": 166,
   "metadata": {},
   "outputs": [
    {
     "data": {
      "text/html": [
       "<style>#sk-container-id-6 {color: black;background-color: white;}#sk-container-id-6 pre{padding: 0;}#sk-container-id-6 div.sk-toggleable {background-color: white;}#sk-container-id-6 label.sk-toggleable__label {cursor: pointer;display: block;width: 100%;margin-bottom: 0;padding: 0.3em;box-sizing: border-box;text-align: center;}#sk-container-id-6 label.sk-toggleable__label-arrow:before {content: \"▸\";float: left;margin-right: 0.25em;color: #696969;}#sk-container-id-6 label.sk-toggleable__label-arrow:hover:before {color: black;}#sk-container-id-6 div.sk-estimator:hover label.sk-toggleable__label-arrow:before {color: black;}#sk-container-id-6 div.sk-toggleable__content {max-height: 0;max-width: 0;overflow: hidden;text-align: left;background-color: #f0f8ff;}#sk-container-id-6 div.sk-toggleable__content pre {margin: 0.2em;color: black;border-radius: 0.25em;background-color: #f0f8ff;}#sk-container-id-6 input.sk-toggleable__control:checked~div.sk-toggleable__content {max-height: 200px;max-width: 100%;overflow: auto;}#sk-container-id-6 input.sk-toggleable__control:checked~label.sk-toggleable__label-arrow:before {content: \"▾\";}#sk-container-id-6 div.sk-estimator input.sk-toggleable__control:checked~label.sk-toggleable__label {background-color: #d4ebff;}#sk-container-id-6 div.sk-label input.sk-toggleable__control:checked~label.sk-toggleable__label {background-color: #d4ebff;}#sk-container-id-6 input.sk-hidden--visually {border: 0;clip: rect(1px 1px 1px 1px);clip: rect(1px, 1px, 1px, 1px);height: 1px;margin: -1px;overflow: hidden;padding: 0;position: absolute;width: 1px;}#sk-container-id-6 div.sk-estimator {font-family: monospace;background-color: #f0f8ff;border: 1px dotted black;border-radius: 0.25em;box-sizing: border-box;margin-bottom: 0.5em;}#sk-container-id-6 div.sk-estimator:hover {background-color: #d4ebff;}#sk-container-id-6 div.sk-parallel-item::after {content: \"\";width: 100%;border-bottom: 1px solid gray;flex-grow: 1;}#sk-container-id-6 div.sk-label:hover label.sk-toggleable__label {background-color: #d4ebff;}#sk-container-id-6 div.sk-serial::before {content: \"\";position: absolute;border-left: 1px solid gray;box-sizing: border-box;top: 0;bottom: 0;left: 50%;z-index: 0;}#sk-container-id-6 div.sk-serial {display: flex;flex-direction: column;align-items: center;background-color: white;padding-right: 0.2em;padding-left: 0.2em;position: relative;}#sk-container-id-6 div.sk-item {position: relative;z-index: 1;}#sk-container-id-6 div.sk-parallel {display: flex;align-items: stretch;justify-content: center;background-color: white;position: relative;}#sk-container-id-6 div.sk-item::before, #sk-container-id-6 div.sk-parallel-item::before {content: \"\";position: absolute;border-left: 1px solid gray;box-sizing: border-box;top: 0;bottom: 0;left: 50%;z-index: -1;}#sk-container-id-6 div.sk-parallel-item {display: flex;flex-direction: column;z-index: 1;position: relative;background-color: white;}#sk-container-id-6 div.sk-parallel-item:first-child::after {align-self: flex-end;width: 50%;}#sk-container-id-6 div.sk-parallel-item:last-child::after {align-self: flex-start;width: 50%;}#sk-container-id-6 div.sk-parallel-item:only-child::after {width: 0;}#sk-container-id-6 div.sk-dashed-wrapped {border: 1px dashed gray;margin: 0 0.4em 0.5em 0.4em;box-sizing: border-box;padding-bottom: 0.4em;background-color: white;}#sk-container-id-6 div.sk-label label {font-family: monospace;font-weight: bold;display: inline-block;line-height: 1.2em;}#sk-container-id-6 div.sk-label-container {text-align: center;}#sk-container-id-6 div.sk-container {/* jupyter's `normalize.less` sets `[hidden] { display: none; }` but bootstrap.min.css set `[hidden] { display: none !important; }` so we also need the `!important` here to be able to override the default hidden behavior on the sphinx rendered scikit-learn.org. See: https://github.com/scikit-learn/scikit-learn/issues/21755 */display: inline-block !important;position: relative;}#sk-container-id-6 div.sk-text-repr-fallback {display: none;}</style><div id=\"sk-container-id-6\" class=\"sk-top-container\"><div class=\"sk-text-repr-fallback\"><pre>LinearRegression()</pre><b>In a Jupyter environment, please rerun this cell to show the HTML representation or trust the notebook. <br />On GitHub, the HTML representation is unable to render, please try loading this page with nbviewer.org.</b></div><div class=\"sk-container\" hidden><div class=\"sk-item\"><div class=\"sk-estimator sk-toggleable\"><input class=\"sk-toggleable__control sk-hidden--visually\" id=\"sk-estimator-id-6\" type=\"checkbox\" checked><label for=\"sk-estimator-id-6\" class=\"sk-toggleable__label sk-toggleable__label-arrow\">LinearRegression</label><div class=\"sk-toggleable__content\"><pre>LinearRegression()</pre></div></div></div></div></div>"
      ],
      "text/plain": [
       "LinearRegression()"
      ]
     },
     "execution_count": 166,
     "metadata": {},
     "output_type": "execute_result"
    }
   ],
   "source": [
    "from sklearn.linear_model import LinearRegression\n",
    "\n",
    "model_LR = LinearRegression()\n",
    "model_LR.fit(X_train, y_train)"
   ]
  },
  {
   "cell_type": "code",
   "execution_count": 167,
   "metadata": {},
   "outputs": [
    {
     "name": "stdout",
     "output_type": "stream",
     "text": [
      "Training\t: 0.6733000932939563\n",
      "Testing\t\t: 0.5611057293799677\n"
     ]
    }
   ],
   "source": [
    "print('Training\\t:', model_LR.score(X_train, y_train))\n",
    "print('Testing\\t\\t:', model_LR.score(X_test, y_test))"
   ]
  },
  {
   "attachments": {},
   "cell_type": "markdown",
   "metadata": {},
   "source": [
    "##### Hasil Training Linear Regression"
   ]
  },
  {
   "cell_type": "code",
   "execution_count": 168,
   "metadata": {},
   "outputs": [
    {
     "name": "stdout",
     "output_type": "stream",
     "text": [
      "MSE\t:  8.867121247259481e+18\n",
      "RMSE\t:  2977771187.861734\n",
      "MAE\t:  2217416182.9359937\n",
      "R2\t:  0.6733000932939563\n"
     ]
    }
   ],
   "source": [
    "y_train_pred = model_LR.predict(X_train)\n",
    "\n",
    "mse_LR = mean_squared_error(y_train,y_train_pred)\n",
    "rmse_LR = np.sqrt(mse_LR)\n",
    "mae_LR = mean_absolute_error(y_train,y_train_pred)\n",
    "r2_LR = r2_score(y_train,y_train_pred)\n",
    "\n",
    "print(\"MSE\\t: \", mse_LR)\n",
    "print(\"RMSE\\t: \", rmse_LR)\n",
    "print(\"MAE\\t: \", mae_LR)\n",
    "print(\"R2\\t: \", r2_LR)"
   ]
  },
  {
   "attachments": {},
   "cell_type": "markdown",
   "metadata": {},
   "source": [
    "#### Hasil Testing Linear Regression"
   ]
  },
  {
   "cell_type": "code",
   "execution_count": 169,
   "metadata": {},
   "outputs": [
    {
     "name": "stdout",
     "output_type": "stream",
     "text": [
      "MSE\t:  9.092837622505247e+18\n",
      "RMSE\t:  3015433239.6034317\n",
      "MAE\t:  2399674117.6808167\n",
      "R2\t:  0.5611057293799677\n"
     ]
    }
   ],
   "source": [
    "y_test_pred = model_LR.predict(X_test)\n",
    "\n",
    "mse_LR = mean_squared_error(y_test,y_test_pred)\n",
    "rmse_LR = np.sqrt(mse_LR)\n",
    "mae_LR = mean_absolute_error(y_test,y_test_pred)\n",
    "r2_LR = r2_score(y_test,y_test_pred)\n",
    "\n",
    "print(\"MSE\\t: \", mse_LR)\n",
    "print(\"RMSE\\t: \", rmse_LR)\n",
    "print(\"MAE\\t: \", mae_LR)\n",
    "print(\"R2\\t: \", r2_LR)"
   ]
  },
  {
   "attachments": {},
   "cell_type": "markdown",
   "metadata": {},
   "source": [
    "#### Hasil"
   ]
  },
  {
   "cell_type": "code",
   "execution_count": 170,
   "metadata": {},
   "outputs": [],
   "source": [
    "result_evaluation = get_metric(y_test, y_test_pred, \"Time Series\", \"Linear Regression\")"
   ]
  },
  {
   "attachments": {},
   "cell_type": "markdown",
   "metadata": {},
   "source": [
    "## Evaluasi Model"
   ]
  },
  {
   "cell_type": "code",
   "execution_count": 171,
   "metadata": {},
   "outputs": [
    {
     "name": "stdout",
     "output_type": "stream",
     "text": [
      "Random Forest\n",
      "0.663 accuracy with a standard deviation of 0.065 \n",
      "\n",
      "XGBoost\n",
      "0.538 accuracy with a standard deviation of 0.143 \n",
      "\n",
      "Linear Regression\n",
      "0.587 accuracy with a standard deviation of 0.022 \n",
      "\n"
     ]
    }
   ],
   "source": [
    "x_cv = df_model.iloc[: , 1:]\n",
    "y_cv = df_model.iloc[: , :1]\n",
    "\n",
    "rmodel =  RandomForestRegressor(random_state=42)\n",
    "scores = cross_val_score(rmodel, x_cv, y_cv, cv=5)\n",
    "scores\n",
    "print(\"Random Forest\\n%0.3f accuracy with a standard deviation of %0.3f\" % (scores.mean(), scores.std()), '\\n')\n",
    "\n",
    "xgbmodel = XGBRegressor(objective='reg:squarederror', random_state=42)\n",
    "x_scores = cross_val_score(xgbmodel,x_cv, y_cv, cv=5)\n",
    "x_scores\n",
    "print(\"XGBoost\\n%0.3f accuracy with a standard deviation of %0.3f\" % (x_scores.mean(), x_scores.std()), '\\n')\n",
    "\n",
    "lrmodel = LinearRegression()\n",
    "x_scores = cross_val_score(lrmodel,x_cv, y_cv, cv=5)\n",
    "x_scores\n",
    "print(\"Linear Regression\\n%0.3f accuracy with a standard deviation of %0.3f\" % (x_scores.mean(), x_scores.std()), '\\n')"
   ]
  },
  {
   "cell_type": "code",
   "execution_count": 172,
   "metadata": {},
   "outputs": [
    {
     "data": {
      "text/html": [
       "<div>\n",
       "<style scoped>\n",
       "    .dataframe tbody tr th:only-of-type {\n",
       "        vertical-align: middle;\n",
       "    }\n",
       "\n",
       "    .dataframe tbody tr th {\n",
       "        vertical-align: top;\n",
       "    }\n",
       "\n",
       "    .dataframe thead th {\n",
       "        text-align: right;\n",
       "    }\n",
       "</style>\n",
       "<table border=\"1\" class=\"dataframe\">\n",
       "  <thead>\n",
       "    <tr style=\"text-align: right;\">\n",
       "      <th></th>\n",
       "      <th>Method</th>\n",
       "      <th>Algorithm</th>\n",
       "      <th>MSE</th>\n",
       "      <th>RMSE</th>\n",
       "      <th>MAE</th>\n",
       "      <th>R2</th>\n",
       "    </tr>\n",
       "  </thead>\n",
       "  <tbody>\n",
       "    <tr>\n",
       "      <th>0</th>\n",
       "      <td>Time Series</td>\n",
       "      <td>SARIMAX</td>\n",
       "      <td>3.938824e+19</td>\n",
       "      <td>6.276005e+09</td>\n",
       "      <td>6.189970e+09</td>\n",
       "      <td>-2.247801e+06</td>\n",
       "    </tr>\n",
       "    <tr>\n",
       "      <th>1</th>\n",
       "      <td>Time Series</td>\n",
       "      <td>ARIMA</td>\n",
       "      <td>1.469325e+20</td>\n",
       "      <td>1.212157e+10</td>\n",
       "      <td>1.114825e+10</td>\n",
       "      <td>-8.385120e+06</td>\n",
       "    </tr>\n",
       "    <tr>\n",
       "      <th>2</th>\n",
       "      <td>Time Series</td>\n",
       "      <td>Random Forest</td>\n",
       "      <td>7.597239e+18</td>\n",
       "      <td>2.756309e+09</td>\n",
       "      <td>1.954332e+09</td>\n",
       "      <td>6.332955e-01</td>\n",
       "    </tr>\n",
       "    <tr>\n",
       "      <th>3</th>\n",
       "      <td>Time Series</td>\n",
       "      <td>XGBosst Regressor</td>\n",
       "      <td>9.358459e+18</td>\n",
       "      <td>3.059160e+09</td>\n",
       "      <td>2.096097e+09</td>\n",
       "      <td>5.482847e-01</td>\n",
       "    </tr>\n",
       "    <tr>\n",
       "      <th>4</th>\n",
       "      <td>Time Series</td>\n",
       "      <td>Linear Regression</td>\n",
       "      <td>9.092838e+18</td>\n",
       "      <td>3.015433e+09</td>\n",
       "      <td>2.399674e+09</td>\n",
       "      <td>5.611057e-01</td>\n",
       "    </tr>\n",
       "  </tbody>\n",
       "</table>\n",
       "</div>"
      ],
      "text/plain": [
       "        Method          Algorithm           MSE          RMSE           MAE  \\\n",
       "0  Time Series            SARIMAX  3.938824e+19  6.276005e+09  6.189970e+09   \n",
       "1  Time Series              ARIMA  1.469325e+20  1.212157e+10  1.114825e+10   \n",
       "2  Time Series      Random Forest  7.597239e+18  2.756309e+09  1.954332e+09   \n",
       "3  Time Series  XGBosst Regressor  9.358459e+18  3.059160e+09  2.096097e+09   \n",
       "4  Time Series  Linear Regression  9.092838e+18  3.015433e+09  2.399674e+09   \n",
       "\n",
       "             R2  \n",
       "0 -2.247801e+06  \n",
       "1 -8.385120e+06  \n",
       "2  6.332955e-01  \n",
       "3  5.482847e-01  \n",
       "4  5.611057e-01  "
      ]
     },
     "execution_count": 172,
     "metadata": {},
     "output_type": "execute_result"
    }
   ],
   "source": [
    "result_evaluation"
   ]
  },
  {
   "cell_type": "code",
   "execution_count": 173,
   "metadata": {},
   "outputs": [
    {
     "data": {
      "text/html": [
       "<div>\n",
       "<style scoped>\n",
       "    .dataframe tbody tr th:only-of-type {\n",
       "        vertical-align: middle;\n",
       "    }\n",
       "\n",
       "    .dataframe tbody tr th {\n",
       "        vertical-align: top;\n",
       "    }\n",
       "\n",
       "    .dataframe thead th {\n",
       "        text-align: right;\n",
       "    }\n",
       "</style>\n",
       "<table border=\"1\" class=\"dataframe\">\n",
       "  <thead>\n",
       "    <tr style=\"text-align: right;\">\n",
       "      <th></th>\n",
       "      <th>total_sales</th>\n",
       "      <th>lag_1</th>\n",
       "      <th>lag_2</th>\n",
       "      <th>lag_3</th>\n",
       "      <th>lag_4</th>\n",
       "      <th>lag_5</th>\n",
       "      <th>lag_6</th>\n",
       "      <th>lag_7</th>\n",
       "    </tr>\n",
       "    <tr>\n",
       "      <th>date</th>\n",
       "      <th></th>\n",
       "      <th></th>\n",
       "      <th></th>\n",
       "      <th></th>\n",
       "      <th></th>\n",
       "      <th></th>\n",
       "      <th></th>\n",
       "      <th></th>\n",
       "    </tr>\n",
       "  </thead>\n",
       "  <tbody>\n",
       "    <tr>\n",
       "      <th>2018-02-21</th>\n",
       "      <td>32030000</td>\n",
       "      <td>0.0</td>\n",
       "      <td>0.0</td>\n",
       "      <td>0.0</td>\n",
       "      <td>0.0</td>\n",
       "      <td>0.0</td>\n",
       "      <td>0.0</td>\n",
       "      <td>0.0</td>\n",
       "    </tr>\n",
       "    <tr>\n",
       "      <th>2018-02-22</th>\n",
       "      <td>0</td>\n",
       "      <td>32030000.0</td>\n",
       "      <td>0.0</td>\n",
       "      <td>0.0</td>\n",
       "      <td>0.0</td>\n",
       "      <td>0.0</td>\n",
       "      <td>0.0</td>\n",
       "      <td>0.0</td>\n",
       "    </tr>\n",
       "    <tr>\n",
       "      <th>2018-02-23</th>\n",
       "      <td>180000</td>\n",
       "      <td>0.0</td>\n",
       "      <td>32030000.0</td>\n",
       "      <td>0.0</td>\n",
       "      <td>0.0</td>\n",
       "      <td>0.0</td>\n",
       "      <td>0.0</td>\n",
       "      <td>0.0</td>\n",
       "    </tr>\n",
       "    <tr>\n",
       "      <th>2018-02-24</th>\n",
       "      <td>0</td>\n",
       "      <td>180000.0</td>\n",
       "      <td>0.0</td>\n",
       "      <td>32030000.0</td>\n",
       "      <td>0.0</td>\n",
       "      <td>0.0</td>\n",
       "      <td>0.0</td>\n",
       "      <td>0.0</td>\n",
       "    </tr>\n",
       "    <tr>\n",
       "      <th>2018-02-25</th>\n",
       "      <td>0</td>\n",
       "      <td>0.0</td>\n",
       "      <td>180000.0</td>\n",
       "      <td>0.0</td>\n",
       "      <td>32030000.0</td>\n",
       "      <td>0.0</td>\n",
       "      <td>0.0</td>\n",
       "      <td>0.0</td>\n",
       "    </tr>\n",
       "  </tbody>\n",
       "</table>\n",
       "</div>"
      ],
      "text/plain": [
       "            total_sales       lag_1       lag_2       lag_3       lag_4  \\\n",
       "date                                                                      \n",
       "2018-02-21     32030000         0.0         0.0         0.0         0.0   \n",
       "2018-02-22            0  32030000.0         0.0         0.0         0.0   \n",
       "2018-02-23       180000         0.0  32030000.0         0.0         0.0   \n",
       "2018-02-24            0    180000.0         0.0  32030000.0         0.0   \n",
       "2018-02-25            0         0.0    180000.0         0.0  32030000.0   \n",
       "\n",
       "            lag_5  lag_6  lag_7  \n",
       "date                             \n",
       "2018-02-21    0.0    0.0    0.0  \n",
       "2018-02-22    0.0    0.0    0.0  \n",
       "2018-02-23    0.0    0.0    0.0  \n",
       "2018-02-24    0.0    0.0    0.0  \n",
       "2018-02-25    0.0    0.0    0.0  "
      ]
     },
     "execution_count": 173,
     "metadata": {},
     "output_type": "execute_result"
    }
   ],
   "source": [
    "df_model.head()"
   ]
  },
  {
   "attachments": {},
   "cell_type": "markdown",
   "metadata": {},
   "source": [
    "# Forecast Model Machine Learning"
   ]
  },
  {
   "cell_type": "code",
   "execution_count": 174,
   "metadata": {},
   "outputs": [],
   "source": [
    "df_forecast = df_model.copy()"
   ]
  },
  {
   "attachments": {},
   "cell_type": "markdown",
   "metadata": {},
   "source": [
    "mengambil tanggal terakhir dari data lalu di tambah 1 hari"
   ]
  },
  {
   "cell_type": "code",
   "execution_count": 175,
   "metadata": {},
   "outputs": [
    {
     "data": {
      "text/plain": [
       "date\n",
       "2018-10-29     859421000\n",
       "2018-10-30       2070000\n",
       "2018-10-31    4864368000\n",
       "2018-11-01    9055354998\n",
       "2018-11-02    9737675000\n",
       "2018-11-03    3207710000\n",
       "2018-11-04     682985000\n",
       "Freq: D, Name: total_sales, dtype: int64"
      ]
     },
     "execution_count": 175,
     "metadata": {},
     "output_type": "execute_result"
    }
   ],
   "source": [
    "df_forecast['total_sales'][-7:]"
   ]
  },
  {
   "cell_type": "code",
   "execution_count": 176,
   "metadata": {},
   "outputs": [
    {
     "data": {
      "text/plain": [
       "[682985000, 3207710000, 9737675000, 9055354998, 4864368000, 2070000, 859421000]"
      ]
     },
     "execution_count": 176,
     "metadata": {},
     "output_type": "execute_result"
    }
   ],
   "source": [
    "new_row = np.flip(df_forecast['total_sales'][-7:].values) \n",
    "new_row = new_row.tolist()\n",
    "new_row"
   ]
  },
  {
   "attachments": {},
   "cell_type": "markdown",
   "metadata": {},
   "source": [
    "melakukan flip sebanyak 7 data agar data yang di prediksi berada pada kolom total_sales"
   ]
  },
  {
   "cell_type": "code",
   "execution_count": 177,
   "metadata": {},
   "outputs": [
    {
     "data": {
      "text/plain": [
       "array([2.67430288e+09])"
      ]
     },
     "execution_count": 177,
     "metadata": {},
     "output_type": "execute_result"
    }
   ],
   "source": [
    "y_pred = model_RF.predict([new_row])\n",
    "y_pred"
   ]
  },
  {
   "cell_type": "code",
   "execution_count": 178,
   "metadata": {},
   "outputs": [
    {
     "data": {
      "text/html": [
       "<div>\n",
       "<style scoped>\n",
       "    .dataframe tbody tr th:only-of-type {\n",
       "        vertical-align: middle;\n",
       "    }\n",
       "\n",
       "    .dataframe tbody tr th {\n",
       "        vertical-align: top;\n",
       "    }\n",
       "\n",
       "    .dataframe thead th {\n",
       "        text-align: right;\n",
       "    }\n",
       "</style>\n",
       "<table border=\"1\" class=\"dataframe\">\n",
       "  <thead>\n",
       "    <tr style=\"text-align: right;\">\n",
       "      <th></th>\n",
       "      <th>total_sales</th>\n",
       "      <th>lag_1</th>\n",
       "      <th>lag_2</th>\n",
       "      <th>lag_3</th>\n",
       "      <th>lag_4</th>\n",
       "      <th>lag_5</th>\n",
       "      <th>lag_6</th>\n",
       "      <th>lag_7</th>\n",
       "    </tr>\n",
       "    <tr>\n",
       "      <th>date</th>\n",
       "      <th></th>\n",
       "      <th></th>\n",
       "      <th></th>\n",
       "      <th></th>\n",
       "      <th></th>\n",
       "      <th></th>\n",
       "      <th></th>\n",
       "      <th></th>\n",
       "    </tr>\n",
       "  </thead>\n",
       "  <tbody>\n",
       "    <tr>\n",
       "      <th>2018-11-01</th>\n",
       "      <td>9.055355e+09</td>\n",
       "      <td>4.864368e+09</td>\n",
       "      <td>2.070000e+06</td>\n",
       "      <td>8.594210e+08</td>\n",
       "      <td>3.340689e+09</td>\n",
       "      <td>4.930180e+09</td>\n",
       "      <td>1.310756e+10</td>\n",
       "      <td>1.204963e+10</td>\n",
       "    </tr>\n",
       "    <tr>\n",
       "      <th>2018-11-02</th>\n",
       "      <td>9.737675e+09</td>\n",
       "      <td>9.055355e+09</td>\n",
       "      <td>4.864368e+09</td>\n",
       "      <td>2.070000e+06</td>\n",
       "      <td>8.594210e+08</td>\n",
       "      <td>3.340689e+09</td>\n",
       "      <td>4.930180e+09</td>\n",
       "      <td>1.310756e+10</td>\n",
       "    </tr>\n",
       "    <tr>\n",
       "      <th>2018-11-03</th>\n",
       "      <td>3.207710e+09</td>\n",
       "      <td>9.737675e+09</td>\n",
       "      <td>9.055355e+09</td>\n",
       "      <td>4.864368e+09</td>\n",
       "      <td>2.070000e+06</td>\n",
       "      <td>8.594210e+08</td>\n",
       "      <td>3.340689e+09</td>\n",
       "      <td>4.930180e+09</td>\n",
       "    </tr>\n",
       "    <tr>\n",
       "      <th>2018-11-04</th>\n",
       "      <td>6.829850e+08</td>\n",
       "      <td>3.207710e+09</td>\n",
       "      <td>9.737675e+09</td>\n",
       "      <td>9.055355e+09</td>\n",
       "      <td>4.864368e+09</td>\n",
       "      <td>2.070000e+06</td>\n",
       "      <td>8.594210e+08</td>\n",
       "      <td>3.340689e+09</td>\n",
       "    </tr>\n",
       "    <tr>\n",
       "      <th>2018-11-05</th>\n",
       "      <td>NaN</td>\n",
       "      <td>6.829850e+08</td>\n",
       "      <td>3.207710e+09</td>\n",
       "      <td>9.737675e+09</td>\n",
       "      <td>9.055355e+09</td>\n",
       "      <td>4.864368e+09</td>\n",
       "      <td>2.070000e+06</td>\n",
       "      <td>8.594210e+08</td>\n",
       "    </tr>\n",
       "  </tbody>\n",
       "</table>\n",
       "</div>"
      ],
      "text/plain": [
       "             total_sales         lag_1         lag_2         lag_3  \\\n",
       "date                                                                 \n",
       "2018-11-01  9.055355e+09  4.864368e+09  2.070000e+06  8.594210e+08   \n",
       "2018-11-02  9.737675e+09  9.055355e+09  4.864368e+09  2.070000e+06   \n",
       "2018-11-03  3.207710e+09  9.737675e+09  9.055355e+09  4.864368e+09   \n",
       "2018-11-04  6.829850e+08  3.207710e+09  9.737675e+09  9.055355e+09   \n",
       "2018-11-05           NaN  6.829850e+08  3.207710e+09  9.737675e+09   \n",
       "\n",
       "                   lag_4         lag_5         lag_6         lag_7  \n",
       "date                                                                \n",
       "2018-11-01  3.340689e+09  4.930180e+09  1.310756e+10  1.204963e+10  \n",
       "2018-11-02  8.594210e+08  3.340689e+09  4.930180e+09  1.310756e+10  \n",
       "2018-11-03  2.070000e+06  8.594210e+08  3.340689e+09  4.930180e+09  \n",
       "2018-11-04  4.864368e+09  2.070000e+06  8.594210e+08  3.340689e+09  \n",
       "2018-11-05  9.055355e+09  4.864368e+09  2.070000e+06  8.594210e+08  "
      ]
     },
     "execution_count": 178,
     "metadata": {},
     "output_type": "execute_result"
    }
   ],
   "source": [
    "forecast_date = df_forecast.index[-1] + pd.DateOffset(days=1)\n",
    "\n",
    "new_row = np.flip(np.append(df_forecast['total_sales'][-7:].values, np.nan))\n",
    "df_forecast.loc[forecast_date] = new_row\n",
    "df_forecast.tail()"
   ]
  },
  {
   "cell_type": "code",
   "execution_count": 179,
   "metadata": {},
   "outputs": [
    {
     "data": {
      "text/html": [
       "<div>\n",
       "<style scoped>\n",
       "    .dataframe tbody tr th:only-of-type {\n",
       "        vertical-align: middle;\n",
       "    }\n",
       "\n",
       "    .dataframe tbody tr th {\n",
       "        vertical-align: top;\n",
       "    }\n",
       "\n",
       "    .dataframe thead th {\n",
       "        text-align: right;\n",
       "    }\n",
       "</style>\n",
       "<table border=\"1\" class=\"dataframe\">\n",
       "  <thead>\n",
       "    <tr style=\"text-align: right;\">\n",
       "      <th></th>\n",
       "      <th>total_sales</th>\n",
       "      <th>lag_1</th>\n",
       "      <th>lag_2</th>\n",
       "      <th>lag_3</th>\n",
       "      <th>lag_4</th>\n",
       "      <th>lag_5</th>\n",
       "      <th>lag_6</th>\n",
       "      <th>lag_7</th>\n",
       "    </tr>\n",
       "    <tr>\n",
       "      <th>date</th>\n",
       "      <th></th>\n",
       "      <th></th>\n",
       "      <th></th>\n",
       "      <th></th>\n",
       "      <th></th>\n",
       "      <th></th>\n",
       "      <th></th>\n",
       "      <th></th>\n",
       "    </tr>\n",
       "  </thead>\n",
       "  <tbody>\n",
       "    <tr>\n",
       "      <th>2018-11-01</th>\n",
       "      <td>9.055355e+09</td>\n",
       "      <td>4.864368e+09</td>\n",
       "      <td>2.070000e+06</td>\n",
       "      <td>8.594210e+08</td>\n",
       "      <td>3.340689e+09</td>\n",
       "      <td>4.930180e+09</td>\n",
       "      <td>1.310756e+10</td>\n",
       "      <td>1.204963e+10</td>\n",
       "    </tr>\n",
       "    <tr>\n",
       "      <th>2018-11-02</th>\n",
       "      <td>9.737675e+09</td>\n",
       "      <td>9.055355e+09</td>\n",
       "      <td>4.864368e+09</td>\n",
       "      <td>2.070000e+06</td>\n",
       "      <td>8.594210e+08</td>\n",
       "      <td>3.340689e+09</td>\n",
       "      <td>4.930180e+09</td>\n",
       "      <td>1.310756e+10</td>\n",
       "    </tr>\n",
       "    <tr>\n",
       "      <th>2018-11-03</th>\n",
       "      <td>3.207710e+09</td>\n",
       "      <td>9.737675e+09</td>\n",
       "      <td>9.055355e+09</td>\n",
       "      <td>4.864368e+09</td>\n",
       "      <td>2.070000e+06</td>\n",
       "      <td>8.594210e+08</td>\n",
       "      <td>3.340689e+09</td>\n",
       "      <td>4.930180e+09</td>\n",
       "    </tr>\n",
       "    <tr>\n",
       "      <th>2018-11-04</th>\n",
       "      <td>6.829850e+08</td>\n",
       "      <td>3.207710e+09</td>\n",
       "      <td>9.737675e+09</td>\n",
       "      <td>9.055355e+09</td>\n",
       "      <td>4.864368e+09</td>\n",
       "      <td>2.070000e+06</td>\n",
       "      <td>8.594210e+08</td>\n",
       "      <td>3.340689e+09</td>\n",
       "    </tr>\n",
       "    <tr>\n",
       "      <th>2018-11-05</th>\n",
       "      <td>2.674303e+09</td>\n",
       "      <td>6.829850e+08</td>\n",
       "      <td>3.207710e+09</td>\n",
       "      <td>9.737675e+09</td>\n",
       "      <td>9.055355e+09</td>\n",
       "      <td>4.864368e+09</td>\n",
       "      <td>2.070000e+06</td>\n",
       "      <td>8.594210e+08</td>\n",
       "    </tr>\n",
       "  </tbody>\n",
       "</table>\n",
       "</div>"
      ],
      "text/plain": [
       "             total_sales         lag_1         lag_2         lag_3  \\\n",
       "date                                                                 \n",
       "2018-11-01  9.055355e+09  4.864368e+09  2.070000e+06  8.594210e+08   \n",
       "2018-11-02  9.737675e+09  9.055355e+09  4.864368e+09  2.070000e+06   \n",
       "2018-11-03  3.207710e+09  9.737675e+09  9.055355e+09  4.864368e+09   \n",
       "2018-11-04  6.829850e+08  3.207710e+09  9.737675e+09  9.055355e+09   \n",
       "2018-11-05  2.674303e+09  6.829850e+08  3.207710e+09  9.737675e+09   \n",
       "\n",
       "                   lag_4         lag_5         lag_6         lag_7  \n",
       "date                                                                \n",
       "2018-11-01  3.340689e+09  4.930180e+09  1.310756e+10  1.204963e+10  \n",
       "2018-11-02  8.594210e+08  3.340689e+09  4.930180e+09  1.310756e+10  \n",
       "2018-11-03  2.070000e+06  8.594210e+08  3.340689e+09  4.930180e+09  \n",
       "2018-11-04  4.864368e+09  2.070000e+06  8.594210e+08  3.340689e+09  \n",
       "2018-11-05  9.055355e+09  4.864368e+09  2.070000e+06  8.594210e+08  "
      ]
     },
     "execution_count": 179,
     "metadata": {},
     "output_type": "execute_result"
    }
   ],
   "source": [
    "df_forecast.at[forecast_date, 'total_sales'] = y_pred\n",
    "df_forecast.tail()"
   ]
  },
  {
   "cell_type": "code",
   "execution_count": 180,
   "metadata": {},
   "outputs": [
    {
     "data": {
      "text/html": [
       "<div>\n",
       "<style scoped>\n",
       "    .dataframe tbody tr th:only-of-type {\n",
       "        vertical-align: middle;\n",
       "    }\n",
       "\n",
       "    .dataframe tbody tr th {\n",
       "        vertical-align: top;\n",
       "    }\n",
       "\n",
       "    .dataframe thead th {\n",
       "        text-align: right;\n",
       "    }\n",
       "</style>\n",
       "<table border=\"1\" class=\"dataframe\">\n",
       "  <thead>\n",
       "    <tr style=\"text-align: right;\">\n",
       "      <th></th>\n",
       "      <th>total_sales</th>\n",
       "      <th>lag_1</th>\n",
       "      <th>lag_2</th>\n",
       "      <th>lag_3</th>\n",
       "      <th>lag_4</th>\n",
       "      <th>lag_5</th>\n",
       "      <th>lag_6</th>\n",
       "      <th>lag_7</th>\n",
       "    </tr>\n",
       "    <tr>\n",
       "      <th>date</th>\n",
       "      <th></th>\n",
       "      <th></th>\n",
       "      <th></th>\n",
       "      <th></th>\n",
       "      <th></th>\n",
       "      <th></th>\n",
       "      <th></th>\n",
       "      <th></th>\n",
       "    </tr>\n",
       "  </thead>\n",
       "  <tbody>\n",
       "    <tr>\n",
       "      <th>2018-12-01</th>\n",
       "      <td>4.652203e+09</td>\n",
       "      <td>7.025925e+09</td>\n",
       "      <td>4.702914e+09</td>\n",
       "      <td>3.519836e+09</td>\n",
       "      <td>2.637540e+09</td>\n",
       "      <td>2.738881e+09</td>\n",
       "      <td>2.877340e+09</td>\n",
       "      <td>3.662830e+09</td>\n",
       "    </tr>\n",
       "    <tr>\n",
       "      <th>2018-12-02</th>\n",
       "      <td>3.219352e+09</td>\n",
       "      <td>4.652203e+09</td>\n",
       "      <td>7.025925e+09</td>\n",
       "      <td>4.702914e+09</td>\n",
       "      <td>3.519836e+09</td>\n",
       "      <td>2.637540e+09</td>\n",
       "      <td>2.738881e+09</td>\n",
       "      <td>2.877340e+09</td>\n",
       "    </tr>\n",
       "    <tr>\n",
       "      <th>2018-12-03</th>\n",
       "      <td>2.906919e+09</td>\n",
       "      <td>3.219352e+09</td>\n",
       "      <td>4.652203e+09</td>\n",
       "      <td>7.025925e+09</td>\n",
       "      <td>4.702914e+09</td>\n",
       "      <td>3.519836e+09</td>\n",
       "      <td>2.637540e+09</td>\n",
       "      <td>2.738881e+09</td>\n",
       "    </tr>\n",
       "    <tr>\n",
       "      <th>2018-12-04</th>\n",
       "      <td>2.676749e+09</td>\n",
       "      <td>2.906919e+09</td>\n",
       "      <td>3.219352e+09</td>\n",
       "      <td>4.652203e+09</td>\n",
       "      <td>7.025925e+09</td>\n",
       "      <td>4.702914e+09</td>\n",
       "      <td>3.519836e+09</td>\n",
       "      <td>2.637540e+09</td>\n",
       "    </tr>\n",
       "    <tr>\n",
       "      <th>2018-12-05</th>\n",
       "      <td>3.686735e+09</td>\n",
       "      <td>2.676749e+09</td>\n",
       "      <td>2.906919e+09</td>\n",
       "      <td>3.219352e+09</td>\n",
       "      <td>4.652203e+09</td>\n",
       "      <td>7.025925e+09</td>\n",
       "      <td>4.702914e+09</td>\n",
       "      <td>3.519836e+09</td>\n",
       "    </tr>\n",
       "  </tbody>\n",
       "</table>\n",
       "</div>"
      ],
      "text/plain": [
       "             total_sales         lag_1         lag_2         lag_3  \\\n",
       "date                                                                 \n",
       "2018-12-01  4.652203e+09  7.025925e+09  4.702914e+09  3.519836e+09   \n",
       "2018-12-02  3.219352e+09  4.652203e+09  7.025925e+09  4.702914e+09   \n",
       "2018-12-03  2.906919e+09  3.219352e+09  4.652203e+09  7.025925e+09   \n",
       "2018-12-04  2.676749e+09  2.906919e+09  3.219352e+09  4.652203e+09   \n",
       "2018-12-05  3.686735e+09  2.676749e+09  2.906919e+09  3.219352e+09   \n",
       "\n",
       "                   lag_4         lag_5         lag_6         lag_7  \n",
       "date                                                                \n",
       "2018-12-01  2.637540e+09  2.738881e+09  2.877340e+09  3.662830e+09  \n",
       "2018-12-02  3.519836e+09  2.637540e+09  2.738881e+09  2.877340e+09  \n",
       "2018-12-03  4.702914e+09  3.519836e+09  2.637540e+09  2.738881e+09  \n",
       "2018-12-04  7.025925e+09  4.702914e+09  3.519836e+09  2.637540e+09  \n",
       "2018-12-05  4.652203e+09  7.025925e+09  4.702914e+09  3.519836e+09  "
      ]
     },
     "execution_count": 180,
     "metadata": {},
     "output_type": "execute_result"
    }
   ],
   "source": [
    "for i in range(30):\n",
    "    forecast_date = df_forecast.index[-1] + pd.DateOffset(days=1)\n",
    "\n",
    "    new_row = np.flip(df_forecast['total_sales'][-7:].values) \n",
    "    new_row = new_row.tolist()\n",
    "    y_pred = model_RF.predict([new_row])\n",
    "\n",
    "    new_row = np.flip(np.append(df_forecast['total_sales'][-7:].values, np.nan))\n",
    "    df_forecast.loc[forecast_date] = new_row\n",
    "    \n",
    "    df_forecast.at[forecast_date, 'total_sales'] = y_pred\n",
    "\n",
    "df_forecast.tail()"
   ]
  },
  {
   "cell_type": "code",
   "execution_count": 181,
   "metadata": {},
   "outputs": [
    {
     "name": "stdout",
     "output_type": "stream",
     "text": [
      "MSE\t:  1.1451272553088384e+18\n",
      "RMSE\t:  1070106188.8003631\n",
      "MAE\t:  731042261.2913399\n",
      "R2\t:  0.9578089712496521\n"
     ]
    }
   ],
   "source": [
    "y_train_pred = model_RF.predict(X_train)\n",
    "\n",
    "mse_RF = mean_squared_error(y_train,y_train_pred)\n",
    "rmse_RF = np.sqrt(mse_RF)\n",
    "mae_RF = mean_absolute_error(y_train,y_train_pred)\n",
    "r2_RF = r2_score(y_train,y_train_pred)\n",
    "\n",
    "print(\"MSE\\t: \", mse_RF)\n",
    "print(\"RMSE\\t: \", rmse_RF)\n",
    "print(\"MAE\\t: \", mae_RF)\n",
    "print(\"R2\\t: \", r2_RF)"
   ]
  },
  {
   "cell_type": "code",
   "execution_count": 182,
   "metadata": {},
   "outputs": [
    {
     "data": {
      "text/plain": [
       "<matplotlib.legend.Legend at 0x196bc1a4190>"
      ]
     },
     "execution_count": 182,
     "metadata": {},
     "output_type": "execute_result"
    },
    {
     "data": {
      "image/png": "[encoded data removed]",
      "text/plain": [
       "<Figure size 900x324 with 1 Axes>"
      ]
     },
     "metadata": {
      "needs_background": "light"
     },
     "output_type": "display_data"
    }
   ],
   "source": [
    "#visualizng how well the predicted RFR predicted sales fit with the data and the forecasted sales\n",
    "y_train_pred = model_RF.predict(X_train)\n",
    "index_list = y_train.index.tolist()\n",
    "prediction = pd.DataFrame({'prediction': y_train_pred}, index=index_list)\n",
    "\n",
    "plt.gcf().set_size_inches(12.5, 4.5)\n",
    "plt.title(f'Comparison between RFR and Actual Data')\n",
    "plt.xlabel('Time')\n",
    "plt.ylabel(\"Total Sales\")\n",
    "\n",
    "plt.plot(y_train, label = 'actual', color='b' ) \n",
    "plt.plot(prediction, label = 'predicted', color='r' )\n",
    "plt.legend()"
   ]
  },
  {
   "cell_type": "code",
   "execution_count": 186,
   "metadata": {},
   "outputs": [
    {
     "data": {
      "text/plain": [
       "<matplotlib.legend.Legend at 0x196cb6cf3a0>"
      ]
     },
     "execution_count": 186,
     "metadata": {},
     "output_type": "execute_result"
    },
    {
     "data": {
      "image/png": "[encoded data removed]",
      "text/plain": [
       "<Figure size 900x324 with 1 Axes>"
      ]
     },
     "metadata": {
      "needs_background": "light"
     },
     "output_type": "display_data"
    }
   ],
   "source": [
    "# visualizing the forecastes sales\n",
    "forecast_date = df_model.index[-1] + pd.DateOffset(days=1)\n",
    "\n",
    "df_actual= df_model[['total_sales']]\n",
    "forecast_data = df_forecast[['total_sales']].loc[forecast_date:]\n",
    "\n",
    "plt.gcf().set_size_inches(12.5, 4.5)\n",
    "plt.plot(df_actual, label = 'actual', color='b' ) \n",
    "plt.plot(forecast_data, label = 'forecast', color='r' )\n",
    "plt.legend()"
   ]
  }
 ],
 "metadata": {
  "kernelspec": {
   "display_name": "Python 3.10.1 64-bit",
   "language": "python",
   "name": "python3"
  },
  "language_info": {
   "codemirror_mode": {
    "name": "ipython",
    "version": 3
   },
   "file_extension": ".py",
   "mimetype": "text/x-python",
   "name": "python",
   "nbconvert_exporter": "python",
   "pygments_lexer": "ipython3",
   "version": "3.10.1"
  },
  "orig_nbformat": 4,
  "vscode": {
   "interpreter": {
    "hash": "2469a70536e4d2335a2ea8907942d0699c37342a371ac185bdb5b0aa6f073890"
   }
  }
 },
 "nbformat": 4,
 "nbformat_minor": 2
}
